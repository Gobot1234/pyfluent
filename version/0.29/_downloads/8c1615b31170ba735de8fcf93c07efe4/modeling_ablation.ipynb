{
  "cells": [
    {
      "cell_type": "markdown",
      "metadata": {},
      "source": [
        "\n# Modeling Ablation\n"
      ]
    },
    {
      "cell_type": "markdown",
      "metadata": {},
      "source": [
        "## Objective\n\nAblation is an effective treatment used to protect an atmospheric reentry vehicle from\nthe damaging effects of external high temperatures caused by shock wave and viscous\nheating. The ablative material is chipped away due to surface reactions that remove a\nsignificant amount of heat and keep the vehicle surface temperature below the melting\npoint. In this tutorial, Fluent ablation model is demonstrated for a reendtry vehicle\ngeometry simplified as a 3D wedge.\n\nThis tutorial demonstrates how to do the following:\n\n* Define boundary conditions for a high-speed flow.\n* Set up the ablation model to model effects of a moving boundary due to ablation.\n* Initiate and solve the transient simulation using the density-based solver.\n\n## Problem Description:\n\nThe geometry of the 3D wedge considered in this tutorial is shown in following figure.\nThe air flow passes around a nose of a re-entry vehicle operating under high speed\nconditions. The inlet air has a temperature of 4500 K, a gauge pressure of 13500 Pa,\nand a Mach number of 3. The domain is bounded above and below by symmetry planes\n(displayed in yellow). As the ablative coating chips away, the surface of the wall\nmoves. The moving of the surface is modeled using dynamic meshes. The surface moving\nrate is estimated by Vieille's empirical law:\n\nwhere r is the surface moving rate, p is the absolute pressure, and A and n are model\nparameters. In the considered case, A = 5 and n = 0.1.\n\n"
      ]
    },
    {
      "cell_type": "markdown",
      "metadata": {},
      "source": [
        "\\begin{align}r = A \\cdot p^n\\end{align}\n\n"
      ]
    },
    {
      "cell_type": "markdown",
      "metadata": {},
      "source": [
        "<img src=\"file://../../_static/ablation-problem-schematic.png\" align=\"center\" alt=\"Problem Schematic\">\n\n"
      ]
    },
    {
      "cell_type": "markdown",
      "metadata": {},
      "source": [
        "## Import required libraries/modules\n\n"
      ]
    },
    {
      "cell_type": "code",
      "execution_count": null,
      "metadata": {
        "collapsed": false
      },
      "outputs": [],
      "source": [
        "import ansys.fluent.core as pyfluent\nfrom ansys.fluent.core import examples\nfrom ansys.fluent.visualization.pyvista import Graphics"
      ]
    },
    {
      "cell_type": "markdown",
      "metadata": {},
      "source": [
        "## Download example file\n\n"
      ]
    },
    {
      "cell_type": "code",
      "execution_count": null,
      "metadata": {
        "collapsed": false
      },
      "outputs": [],
      "source": [
        "import_filename = examples.download_file(\n    \"ablation.msh.h5\",\n    \"pyfluent/examples/Ablation-tutorial\",\n)"
      ]
    },
    {
      "cell_type": "markdown",
      "metadata": {},
      "source": [
        "## Fluent Solution Setup\n\n"
      ]
    },
    {
      "cell_type": "code",
      "execution_count": null,
      "metadata": {
        "collapsed": false
      },
      "outputs": [],
      "source": [
        "from ansys.fluent.visualization import set_config  # noqa: E402\n\nset_config(blocking=True, set_view_on_display=\"isometric\")"
      ]
    },
    {
      "cell_type": "markdown",
      "metadata": {},
      "source": [
        "## Launch Fluent session with solver mode and print Fluent version\n\n"
      ]
    },
    {
      "cell_type": "code",
      "execution_count": null,
      "metadata": {
        "collapsed": false
      },
      "outputs": [],
      "source": [
        "solver = pyfluent.launch_fluent(\n    product_version=\"25.1.0\",\n    dimension=3,\n    precision=\"double\",\n    processor_count=4,\n)\nprint(solver.get_fluent_version())"
      ]
    },
    {
      "cell_type": "markdown",
      "metadata": {},
      "source": [
        "## Import mesh\n\n"
      ]
    },
    {
      "cell_type": "code",
      "execution_count": null,
      "metadata": {
        "collapsed": false
      },
      "outputs": [],
      "source": [
        "solver.file.read_case(file_name=import_filename)"
      ]
    },
    {
      "cell_type": "markdown",
      "metadata": {},
      "source": [
        "## Define models\n\n"
      ]
    },
    {
      "cell_type": "code",
      "execution_count": null,
      "metadata": {
        "collapsed": false
      },
      "outputs": [],
      "source": [
        "solver.setup.general.solver.type = \"density-based-implicit\"\nsolver.setup.general.solver.time = \"unsteady-1st-order\"\nsolver.setup.general.operating_conditions.operating_pressure = 0.0\nsolver.setup.models.energy = {\"enabled\": True}\nsolver.setup.models.ablation = {\"enabled\": True}"
      ]
    },
    {
      "cell_type": "markdown",
      "metadata": {},
      "source": [
        "## Define material\n\n"
      ]
    },
    {
      "cell_type": "code",
      "execution_count": null,
      "metadata": {
        "collapsed": false
      },
      "outputs": [],
      "source": [
        "solver.setup.materials.fluid[\"air\"] = {\n    \"density\": {\"option\": \"ideal-gas\"},\n    \"molecular_weight\": {\"value\": 28.966, \"option\": \"constant\"},\n}\nsolver.setup.materials.fluid[\"air\"] = {\"density\": {\"option\": \"ideal-gas\"}}"
      ]
    },
    {
      "cell_type": "markdown",
      "metadata": {},
      "source": [
        "## Define boundary conditions\n\n"
      ]
    },
    {
      "cell_type": "code",
      "execution_count": null,
      "metadata": {
        "collapsed": false
      },
      "outputs": [],
      "source": [
        "solver.setup.boundary_conditions.set_zone_type(\n    zone_list=[\"inlet\"], new_type=\"pressure-far-field\"\n)\nsolver.setup.boundary_conditions.pressure_far_field[\"inlet\"].momentum.gauge_pressure = (\n    13500\n)\nsolver.setup.boundary_conditions.pressure_far_field[\"inlet\"].momentum.mach_number = 3\nsolver.setup.boundary_conditions.pressure_far_field[\"inlet\"].thermal.temperature = 4500\nsolver.setup.boundary_conditions.pressure_far_field[\n    \"inlet\"\n].turbulence.turbulent_intensity = 0.001\n\nsolver.setup.boundary_conditions.pressure_outlet[\"outlet\"].momentum.gauge_pressure = (\n    13500\n)\nsolver.setup.boundary_conditions.pressure_outlet[\n    \"outlet\"\n].momentum.prevent_reverse_flow = True"
      ]
    },
    {
      "cell_type": "markdown",
      "metadata": {},
      "source": [
        "### Ablation boundary condition (Vielles Model)\nOnce you have specified the ablation boundary conditions for the wall,\nAnsys Fluent automatically enables the Dynamic Mesh model with the Smoothing and\nRemeshing options, #creates the wall-ablation dynamic mesh zone, and configure\nappropriate dynamic mesh settings.\n\n"
      ]
    },
    {
      "cell_type": "code",
      "execution_count": null,
      "metadata": {
        "collapsed": false
      },
      "outputs": [],
      "source": [
        "solver.setup.boundary_conditions.wall[\n    \"wall_ablation\"\n].ablation.ablation_select_model = \"Vielle's Model\"\nsolver.setup.boundary_conditions.wall[\"wall_ablation\"].ablation.ablation_vielle_a = 5\nsolver.setup.boundary_conditions.wall[\"wall_ablation\"].ablation.ablation_vielle_n = 0.1"
      ]
    },
    {
      "cell_type": "markdown",
      "metadata": {},
      "source": [
        "## Define dynamic mesh controls\n\n"
      ]
    },
    {
      "cell_type": "code",
      "execution_count": null,
      "metadata": {
        "collapsed": false
      },
      "outputs": [],
      "source": [
        "solver.tui.define.dynamic_mesh.dynamic_mesh(\"yes\")\nsolver.tui.define.dynamic_mesh.zones.create(\n    \"interior--flow\",\n    \"deforming\",\n    \"faceted\",\n    \"no\",\n    \"no\",\n    \"yes\",\n    \"no\",\n    \"yes\",\n    \"yes\",\n    \"no\",\n    \"yes\",\n)\nsolver.tui.define.dynamic_mesh.zones.create(\n    \"outlet\",\n    \"deforming\",\n    \"faceted\",\n    \"no\",\n    \"yes\",\n    \"no\",\n    \"yes\",\n    \"yes\",\n    \"coefficient-based\",\n    \"0.1\",\n    \"yes\",\n)\nsolver.tui.define.dynamic_mesh.zones.create(\n    \"symm1\",\n    \"deforming\",\n    \"plane\",\n    \"0\",\n    \"-0.04\",\n    \"0\",\n    \"0\",\n    \"-1\",\n    \"0\",\n    \"no\",\n    \"yes\",\n    \"no\",\n    \"yes\",\n    \"yes\",\n    \"coefficient-based\",\n    \"0.1\",\n    \"yes\",\n)\nsolver.tui.define.dynamic_mesh.zones.create(\n    \"symm2\",\n    \"deforming\",\n    \"plane\",\n    \"0\",\n    \"0.04\",\n    \"0\",\n    \"0\",\n    \"1\",\n    \"0\",\n    \"no\",\n    \"yes\",\n    \"no\",\n    \"yes\",\n    \"yes\",\n    \"coefficient-based\",\n    \"0.1\",\n    \"yes\",\n)\nsolver.tui.define.dynamic_mesh.zones.create(\n    \"wall_ablation\",\n    \"user-defined\",\n    \"**ablation**\",\n    \"no\",\n    \"no\",\n    \"189\",\n    \"constant\",\n    \"0\",\n    \"yes\",\n    \"yes\",\n    \"0.7\",\n    \"no\",\n    \"no\",\n)"
      ]
    },
    {
      "cell_type": "markdown",
      "metadata": {},
      "source": [
        "## Define solver settings\n\n"
      ]
    },
    {
      "cell_type": "code",
      "execution_count": null,
      "metadata": {
        "collapsed": false
      },
      "outputs": [],
      "source": [
        "solver.setup.general.solver.time = \"unsteady-2nd-order\"\nsolver.solution.controls.limits = {\"max_temperature\": 25000}\nsolver.solution.monitor.residual.equations[\"energy\"].absolute_criteria = 1e-06"
      ]
    },
    {
      "cell_type": "markdown",
      "metadata": {},
      "source": [
        "## Create report definitions\n\n"
      ]
    },
    {
      "cell_type": "code",
      "execution_count": null,
      "metadata": {
        "collapsed": false
      },
      "outputs": [],
      "source": [
        "solver.solution.report_definitions.drag[\"drag_force_x\"] = {}\nsolver.solution.report_definitions.drag[\"drag_force_x\"].zones = [\"wall_ablation\"]\n\nsolver.solution.monitor.report_plots.create(name=\"drag_force_x\")\nsolver.solution.monitor.report_plots[\"drag_force_x\"].report_defs = \"drag_force_x\"\nsolver.tui.solve.report_plots.axes(\n    \"drag_force_x\", \"numbers\", \"float\", \"4\", \"exponential\", \"2\", \"q\"\n)\n\nsolver.solution.monitor.report_files.create(name=\"drag_force_x\")\nsolver.solution.monitor.report_files[\"drag_force_x\"] = {\n    \"report_defs\": [\"drag_force_x\"],\n    \"file_name\": r\"drag_force_x.out\",\n}\n\nsolver.solution.report_definitions.surface[\"pressure_avg_abl_wall\"] = {}\nsolver.solution.report_definitions.surface[\"pressure_avg_abl_wall\"].report_type = (\n    \"surface-areaavg\"\n)\nsolver.solution.report_definitions.surface[\"pressure_avg_abl_wall\"].field = \"pressure\"\nsolver.solution.report_definitions.surface[\"pressure_avg_abl_wall\"].surface_names = [\n    \"wall_ablation\"\n]\n\nsolver.solution.monitor.report_plots.create(name=\"pressure_avg_abl_wall\")\nsolver.solution.monitor.report_plots[\"pressure_avg_abl_wall\"].report_defs = (\n    \"pressure_avg_abl_wall\"\n)\nsolver.tui.solve.report_plots.axes(\n    \"pressure_avg_abl_wall\", \"numbers\", \"float\", \"4\", \"exponential\", \"2\", \"q\"\n)\n\nsolver.solution.monitor.report_files.create(name=\"pressure_avg_abl_wall\")\nsolver.solution.monitor.report_files[\"pressure_avg_abl_wall\"] = {\n    \"report_defs\": [\"pressure_avg_abl_wall\"],\n    \"file_name\": r\"pressure_avg_abl_wall.out\",\n}\n\nsolver.solution.report_definitions.surface[\"recede_point\"] = {}\nsolver.solution.report_definitions.surface[\"recede_point\"].report_type = (\n    \"surface-vertexmax\"\n)\nsolver.solution.report_definitions.surface[\"recede_point\"].field = \"z-coordinate\"\nsolver.solution.report_definitions.surface[\"recede_point\"].surface_names = [\n    \"wall_ablation\"\n]\n\nsolver.solution.monitor.report_plots.create(name=\"recede_point\")\nsolver.solution.monitor.report_plots[\"recede_point\"].report_defs = \"recede_point\"\nsolver.tui.solve.report_plots.axes(\n    \"recede_point\", \"numbers\", \"float\", \"4\", \"exponential\", \"2\", \"q\"\n)\nsolver.solution.monitor.report_files.create(name=\"recede_point\")\nsolver.solution.monitor.report_files[\"recede_point\"] = {\n    \"report_defs\": [\"recede_point\"],\n    \"file_name\": r\"recede_point.out\",\n}"
      ]
    },
    {
      "cell_type": "markdown",
      "metadata": {},
      "source": [
        "## Initialize and Save case\n\n"
      ]
    },
    {
      "cell_type": "code",
      "execution_count": null,
      "metadata": {
        "collapsed": false
      },
      "outputs": [],
      "source": [
        "solver.tui.solve.initialize.compute_defaults.pressure_far_field(\"inlet\")\nsolver.solution.initialization.initialization_type = \"standard\"\nsolver.solution.initialization.standard_initialize()\nsolver.solution.run_calculation.transient_controls.time_step_size = 1e-06\n\nsolver.file.write(file_type=\"case\", file_name=\"ablation.cas.h5\")"
      ]
    },
    {
      "cell_type": "markdown",
      "metadata": {},
      "source": [
        "## Run the calculation\nNote: It may take about half an hour to finish the calculation.\n\n"
      ]
    },
    {
      "cell_type": "code",
      "execution_count": null,
      "metadata": {
        "collapsed": false
      },
      "outputs": [],
      "source": [
        "solver.solution.run_calculation.dual_time_iterate(\n    time_step_count=100, max_iter_per_step=20\n)"
      ]
    },
    {
      "cell_type": "markdown",
      "metadata": {},
      "source": [
        "## Save simulation data\nWrite case and data files\n\n"
      ]
    },
    {
      "cell_type": "code",
      "execution_count": null,
      "metadata": {
        "collapsed": false
      },
      "outputs": [],
      "source": [
        "solver.file.write(file_type=\"case-data\", file_name=\"ablation_Solved.cas.h5\")"
      ]
    },
    {
      "cell_type": "markdown",
      "metadata": {},
      "source": [
        "## Post Processing\n\n"
      ]
    },
    {
      "cell_type": "markdown",
      "metadata": {},
      "source": [
        "## Display plots\n\n"
      ]
    },
    {
      "cell_type": "markdown",
      "metadata": {},
      "source": [
        "<img src=\"file://../../_static/ablation-residual.png\" align=\"center\" alt=\"residual\">\n\n"
      ]
    },
    {
      "cell_type": "markdown",
      "metadata": {},
      "source": [
        "Scaled residual plot\n\n"
      ]
    },
    {
      "cell_type": "markdown",
      "metadata": {},
      "source": [
        "<img src=\"file://../../_static/ablation-drag_force_x.png\" align=\"center\" alt=\"Drag force in x direction\">\n\n"
      ]
    },
    {
      "cell_type": "markdown",
      "metadata": {},
      "source": [
        "History of the drag force on the ablation wall\n\n"
      ]
    },
    {
      "cell_type": "markdown",
      "metadata": {},
      "source": [
        "<img src=\"file://../../_static/ablation-avg_pressure.png\" align=\"center\" alt=\"Average pressure on the ablation wall\">\n\n"
      ]
    },
    {
      "cell_type": "markdown",
      "metadata": {},
      "source": [
        "History of the averaged pressure on the ablation wall\n\n"
      ]
    },
    {
      "cell_type": "markdown",
      "metadata": {},
      "source": [
        "<img src=\"file://../../_static/ablation-recede_point.png\" align=\"center\" alt=\"Recede point (albation)\">\n\n"
      ]
    },
    {
      "cell_type": "markdown",
      "metadata": {},
      "source": [
        "Recede point (deformation due to ablation)\n\n"
      ]
    },
    {
      "cell_type": "markdown",
      "metadata": {},
      "source": [
        "## Display contour\nFollowing contours are displayed in the Fluent GUI:\n\n"
      ]
    },
    {
      "cell_type": "code",
      "execution_count": null,
      "metadata": {
        "collapsed": false
      },
      "outputs": [],
      "source": [
        "solver.results.surfaces.plane_surface.create(name=\"mid_plane\")\nsolver.results.surfaces.plane_surface[\"mid_plane\"].method = \"zx-plane\"\n\nsolver.results.graphics.contour.create(name=\"contour_pressure\")\nsolver.results.graphics.contour[\"contour_pressure\"] = {\n    \"field\": \"pressure\",\n    \"surfaces_list\": [\"mid_plane\"],\n}\nsolver.results.graphics.contour.display(object_name=\"contour_pressure\")\n\nsolver.results.graphics.contour.create(name=\"contour_mach\")\nsolver.results.graphics.contour[\"contour_mach\"] = {\n    \"field\": \"mach-number\",\n    \"surfaces_list\": [\"mid_plane\"],\n}\nsolver.results.graphics.contour.display(object_name=\"contour_mach\")"
      ]
    },
    {
      "cell_type": "markdown",
      "metadata": {},
      "source": [
        "## Post processing with PyVista (3D visualization)\nFollowing graphics is displayed in the a new window/notebook\n\n"
      ]
    },
    {
      "cell_type": "code",
      "execution_count": null,
      "metadata": {
        "collapsed": false
      },
      "outputs": [],
      "source": [
        "graphics_session1 = Graphics(solver)\ncontour1 = graphics_session1.Contours[\"contour-1\"]\ncontour1.field = \"pressure\"\ncontour1.surfaces_list = [\"mid_plane\"]\ncontour1.display()"
      ]
    },
    {
      "cell_type": "markdown",
      "metadata": {},
      "source": [
        "<img src=\"file://../../_static/ablation-pressure.png\" align=\"center\" alt=\"Static Pressure Contour\">\n\n"
      ]
    },
    {
      "cell_type": "markdown",
      "metadata": {},
      "source": [
        "Static Pressure Contour\n\n"
      ]
    },
    {
      "cell_type": "code",
      "execution_count": null,
      "metadata": {
        "collapsed": false
      },
      "outputs": [],
      "source": [
        "contour1.field = \"mach-number\"\ncontour1.range.option = \"auto-range-off\"\ncontour1.range.auto_range_off.minimum = 0.5\ncontour1.range.auto_range_off.maximum = 3.0\ncontour1.display()"
      ]
    },
    {
      "cell_type": "markdown",
      "metadata": {},
      "source": [
        "<img src=\"file://../../_static/ablation-mach-number.png\" align=\"center\" alt=\"Mach Number Contour\">\n\n"
      ]
    },
    {
      "cell_type": "markdown",
      "metadata": {},
      "source": [
        "Mach Number Contour\n\n"
      ]
    },
    {
      "cell_type": "markdown",
      "metadata": {},
      "source": [
        "## Close the session\n\n"
      ]
    },
    {
      "cell_type": "code",
      "execution_count": null,
      "metadata": {
        "collapsed": false
      },
      "outputs": [],
      "source": [
        "solver.exit()"
      ]
    }
  ],
  "metadata": {
    "kernelspec": {
      "display_name": "Python 3",
      "language": "python",
      "name": "python3"
    },
    "language_info": {
      "codemirror_mode": {
        "name": "ipython",
        "version": 3
      },
      "file_extension": ".py",
      "mimetype": "text/x-python",
      "name": "python",
      "nbconvert_exporter": "python",
      "pygments_lexer": "ipython3",
      "version": "3.11.11"
    }
  },
  "nbformat": 4,
  "nbformat_minor": 0
}