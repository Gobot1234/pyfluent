{
  "cells": [
    {
      "cell_type": "markdown",
      "metadata": {},
      "source": [
        "\n# Modeling Ablation\n"
      ]
    },
    {
      "cell_type": "markdown",
      "metadata": {},
      "source": [
        "## Objective\n\nAblation is an effective treatment used to protect an atmospheric reentry vehicle from\nthe damaging effects of external high temperatures caused by shock wave and viscous\nheating. The ablative material is chipped away due to surface reactions that remove a\nsignificant amount of heat and keep the vehicle surface temperature below the melting\npoint. In this tutorial, Fluent ablation model is demonstrated for a reendtry vehicle\ngeometry simplified as a 3D wedge.\n\nThis tutorial demonstrates how to do the following:\n\n* Define boundary conditions for a high-speed flow.\n* Set up the ablation model to model effects of a moving boundary due to ablation.\n* Initiate and solve the transient simulation using the density-based solver.\n\n## Problem Description:\n\nThe geometry of the 3D wedge considered in this tutorial is shown in following figure.\nThe air flow passes around a nose of a re-entry vehicle operating under high speed\nconditions. The inlet air has a temperature of 4500 K, a gauge pressure of 13500 Pa,\nand a Mach number of 3. The domain is bounded above and below by symmetry planes\n(displayed in yellow). As the ablative coating chips away, the surface of the wall\nmoves. The moving of the surface is modeled using dynamic meshes. The surface moving\nrate is estimated by Vieille's empirical law:\n\nwhere r is the surface moving rate, p is the absolute pressure, and A and n are model\nparameters. In the considered case, A = 5 and n = 0.1.\n\n"
      ]
    },
    {
      "cell_type": "markdown",
      "metadata": {},
      "source": [
        "\\begin{align}r = A \\cdot p^n\\end{align}\n\n"
      ]
    },
    {
      "cell_type": "markdown",
      "metadata": {},
      "source": [
        "<img src=\"file://../../_static/ablation-problem-schematic.png\" align=\"center\" alt=\"Problem Schematic\">\n\n"
      ]
    },
    {
      "cell_type": "markdown",
      "metadata": {},
      "source": [
        "## Import required libraries/modules\n\n"
      ]
    },
    {
      "cell_type": "code",
      "execution_count": null,
      "metadata": {
        "collapsed": false
      },
      "outputs": [],
      "source": [
        "import os\n\nimport ansys.fluent.core as pyfluent\nfrom ansys.fluent.core import examples\nfrom ansys.fluent.visualization import Contour, GraphicsWindow"
      ]
    },
    {
      "cell_type": "markdown",
      "metadata": {},
      "source": [
        "## Download example file\n\n"
      ]
    },
    {
      "cell_type": "code",
      "execution_count": null,
      "metadata": {
        "collapsed": false
      },
      "outputs": [],
      "source": [
        "import_filename = examples.download_file(\n    \"ablation.msh.h5\",\n    \"pyfluent/examples/Ablation-tutorial\",\n    save_path=os.getcwd(),\n)"
      ]
    },
    {
      "cell_type": "markdown",
      "metadata": {},
      "source": [
        "## Fluent Solution Setup\n\n"
      ]
    },
    {
      "cell_type": "markdown",
      "metadata": {},
      "source": [
        "## Launch Fluent session with solver mode and print Fluent version\n\n"
      ]
    },
    {
      "cell_type": "code",
      "execution_count": null,
      "metadata": {
        "collapsed": false
      },
      "outputs": [],
      "source": [
        "solver_session = pyfluent.launch_fluent(\n    dimension=3,\n    precision=\"double\",\n    processor_count=4,\n)\nprint(solver_session.get_fluent_version())"
      ]
    },
    {
      "cell_type": "markdown",
      "metadata": {},
      "source": [
        "## Import mesh\n\n"
      ]
    },
    {
      "cell_type": "code",
      "execution_count": null,
      "metadata": {
        "collapsed": false
      },
      "outputs": [],
      "source": [
        "solver_session.file.read_case(file_name=import_filename)"
      ]
    },
    {
      "cell_type": "markdown",
      "metadata": {},
      "source": [
        "## Define models\n\n"
      ]
    },
    {
      "cell_type": "code",
      "execution_count": null,
      "metadata": {
        "collapsed": false
      },
      "outputs": [],
      "source": [
        "solver_session.setup.general.solver.type = \"density-based-implicit\"\nsolver_session.setup.general.solver.time = \"unsteady-1st-order\"\nsolver_session.setup.general.operating_conditions.operating_pressure = 0.0\nsolver_session.setup.models.energy = {\"enabled\": True}\nsolver_session.setup.models.ablation = {\"enabled\": True}"
      ]
    },
    {
      "cell_type": "markdown",
      "metadata": {},
      "source": [
        "## Define material\n\n"
      ]
    },
    {
      "cell_type": "code",
      "execution_count": null,
      "metadata": {
        "collapsed": false
      },
      "outputs": [],
      "source": [
        "solver_session.setup.materials.fluid[\"air\"] = {\n    \"density\": {\"option\": \"ideal-gas\"},\n    \"molecular_weight\": {\"value\": 28.966, \"option\": \"constant\"},\n}\nsolver_session.setup.materials.fluid[\"air\"] = {\"density\": {\"option\": \"ideal-gas\"}}"
      ]
    },
    {
      "cell_type": "markdown",
      "metadata": {},
      "source": [
        "## Define boundary conditions\n\n"
      ]
    },
    {
      "cell_type": "code",
      "execution_count": null,
      "metadata": {
        "collapsed": false
      },
      "outputs": [],
      "source": [
        "solver_session.setup.boundary_conditions.set_zone_type(\n    zone_list=[\"inlet\"], new_type=\"pressure-far-field\"\n)\nsolver_session.setup.boundary_conditions.pressure_far_field[\n    \"inlet\"\n].momentum.gauge_pressure = 13500\nsolver_session.setup.boundary_conditions.pressure_far_field[\n    \"inlet\"\n].momentum.mach_number = 3\nsolver_session.setup.boundary_conditions.pressure_far_field[\n    \"inlet\"\n].thermal.temperature = 4500\nsolver_session.setup.boundary_conditions.pressure_far_field[\n    \"inlet\"\n].turbulence.turbulent_intensity = 0.001\n\nsolver_session.setup.boundary_conditions.pressure_outlet[\n    \"outlet\"\n].momentum.gauge_pressure = 13500\nsolver_session.setup.boundary_conditions.pressure_outlet[\n    \"outlet\"\n].momentum.prevent_reverse_flow = True"
      ]
    },
    {
      "cell_type": "markdown",
      "metadata": {},
      "source": [
        "### Ablation boundary condition (Vielles Model)\nOnce you have specified the ablation boundary conditions for the wall,\nAnsys Fluent automatically enables the Dynamic Mesh model with the Smoothing and\nRemeshing options, #creates the wall-ablation dynamic mesh zone, and configure\nappropriate dynamic mesh settings.\n\n"
      ]
    },
    {
      "cell_type": "code",
      "execution_count": null,
      "metadata": {
        "collapsed": false
      },
      "outputs": [],
      "source": [
        "solver_session.setup.boundary_conditions.wall[\n    \"wall_ablation\"\n].ablation.ablation_select_model = \"Vielle's Model\"\nsolver_session.setup.boundary_conditions.wall[\n    \"wall_ablation\"\n].ablation.ablation_vielle_a = 5\nsolver_session.setup.boundary_conditions.wall[\n    \"wall_ablation\"\n].ablation.ablation_vielle_n = 0.1"
      ]
    },
    {
      "cell_type": "markdown",
      "metadata": {},
      "source": [
        "## Define dynamic mesh controls\n\n"
      ]
    },
    {
      "cell_type": "code",
      "execution_count": null,
      "metadata": {
        "collapsed": false
      },
      "outputs": [],
      "source": [
        "solver_session.settings.setup.dynamic_mesh = {\"enabled\": True}\n\nsolver_session.settings.setup.dynamic_mesh.dynamic_zones = {\n    \"dynamic-zone-1\": {\n        \"solver\": {\"stabilization\": {\"enabled\": False}},\n        \"geometry\": {\"feature_detection\": {\"enabled\": False}, \"definition\": \"faceted\"},\n        \"meshing\": {\n            \"smoothing\": {\"enabled\": False},\n            \"remeshing\": {\"parameters\": {\"global_settings\": True}, \"enabled\": True},\n        },\n        \"motion\": {\"exclude_motion_bc\": True},\n        \"type\": \"deforming\",\n        \"zone\": \"interior--flow\",\n        \"name\": \"dynamic-zone-1\",\n    }\n}\n\nsolver_session.settings.setup.dynamic_mesh.dynamic_zones = {\n    \"dynamic-zone-2\": {\n        \"solver\": {\n            \"stabilization\": {\n                \"parameters\": {\"scale\": 0.1, \"method\": \"coefficient-based\"},\n                \"enabled\": True,\n            }\n        },\n        \"geometry\": {\"feature_detection\": {\"enabled\": False}, \"definition\": \"faceted\"},\n        \"meshing\": {\"smoothing\": {\"enabled\": True}, \"remeshing\": {\"enabled\": False}},\n        \"motion\": {\"exclude_motion_bc\": True},\n        \"type\": \"deforming\",\n        \"zone\": \"outlet\",\n        \"name\": \"dynamic-zone-2\",\n    }\n}\n\nsolver_session.settings.setup.dynamic_mesh.dynamic_zones = {\n    \"dynamic-zone-3\": {\n        \"solver\": {\n            \"stabilization\": {\n                \"parameters\": {\"scale\": 0.1, \"method\": \"coefficient-based\"},\n                \"enabled\": True,\n            }\n        },\n        \"geometry\": {\n            \"feature_detection\": {\"enabled\": False},\n            \"plane_def\": {\"normal\": [0, -1, 0], \"point\": [0.0, -0.04, 0.0]},\n            \"definition\": \"plane\",\n        },\n        \"meshing\": {\"smoothing\": {\"enabled\": True}, \"remeshing\": {\"enabled\": False}},\n        \"motion\": {\"exclude_motion_bc\": True},\n        \"type\": \"deforming\",\n        \"zone\": \"symm1\",\n        \"name\": \"dynamic-zone-3\",\n    }\n}\n\nsolver_session.settings.setup.dynamic_mesh.dynamic_zones = {\n    \"dynamic-zone-4\": {\n        \"solver\": {\n            \"stabilization\": {\n                \"parameters\": {\"scale\": 0.1, \"method\": \"coefficient-based\"},\n                \"enabled\": True,\n            }\n        },\n        \"geometry\": {\n            \"feature_detection\": {\"enabled\": False},\n            \"plane_def\": {\"normal\": [0, 1, 0], \"point\": [0.0, 0.04, 0.0]},\n            \"definition\": \"plane\",\n        },\n        \"meshing\": {\"smoothing\": {\"enabled\": True}, \"remeshing\": {\"enabled\": False}},\n        \"motion\": {\"exclude_motion_bc\": True},\n        \"type\": \"deforming\",\n        \"zone\": \"symm2\",\n        \"name\": \"dynamic-zone-4\",\n    }\n}\n\nsolver_session.settings.setup.dynamic_mesh.dynamic_zones = {\n    \"dynamic-zone-5\": {\n        \"solver\": {\"stabilization\": {\"enabled\": False}},\n        \"geometry\": {\"feature_detection\": {\"enabled\": False}},\n        \"meshing\": {\n            \"udf_deform\": {\"max_skew\": 0.7, \"enabled\": True},\n            \"adjacent_zones\": {\"t0\": {\"height\": 0.0, \"type\": \"constant\"}},\n        },\n        \"motion\": {\n            \"relative_motion\": {\"enabled\": False},\n            \"exclude_motion_bc\": False,\n            \"motion_def\": \"**ablation**\",\n        },\n        \"type\": \"user-defined\",\n        \"zone\": \"wall_ablation\",\n        \"name\": \"dynamic-zone-5\",\n    }\n}"
      ]
    },
    {
      "cell_type": "markdown",
      "metadata": {},
      "source": [
        "## Define solver settings\n\n"
      ]
    },
    {
      "cell_type": "code",
      "execution_count": null,
      "metadata": {
        "collapsed": false
      },
      "outputs": [],
      "source": [
        "solver_session.setup.general.solver.time = \"unsteady-2nd-order\"\nsolver_session.solution.controls.limits = {\"max_temperature\": 25000}\nsolver_session.solution.monitor.residual.equations[\"energy\"].absolute_criteria = 1e-06"
      ]
    },
    {
      "cell_type": "markdown",
      "metadata": {},
      "source": [
        "## Create report definitions\n\n"
      ]
    },
    {
      "cell_type": "code",
      "execution_count": null,
      "metadata": {
        "collapsed": false
      },
      "outputs": [],
      "source": [
        "solver_session.settings.solution.report_definitions.drag.create(name=\"drag_force_x\")\nsolver_session.settings.solution.report_definitions.drag[\"drag_force_x\"].zones = [\n    \"wall_ablation\"\n]\nsolver_session.settings.solution.monitor.report_plots.create(name=\"drag_force_x\")\nsolver_session.settings.solution.monitor.report_plots[\"drag_force_x\"].report_defs = (\n    \"drag_force_x\"\n)\nsolver_session.settings.solution.monitor.report_files.create(name=\"drag_force_x\")\nsolver_session.settings.solution.monitor.report_files[\"drag_force_x\"] = {\n    \"file_name\": \"drag_force_x.out\",\n    \"report_defs\": [\"drag_force_x\"],\n}\n\nsolver_session.settings.solution.report_definitions.surface.create(\n    name=\"pressure_avg_abl_wall\"\n)\nsolver_session.settings.solution.report_definitions.surface[\n    \"pressure_avg_abl_wall\"\n].report_type = \"surface-areaavg\"\nsolver_session.settings.solution.report_definitions.surface[\n    \"pressure_avg_abl_wall\"\n].field = \"pressure\"\nsolver_session.settings.solution.report_definitions.surface[\n    \"pressure_avg_abl_wall\"\n].surface_names = [\"wall_ablation\"]\nsolver_session.settings.solution.monitor.report_plots.create(\n    name=\"pressure_avg_abl_wall\"\n)\nsolver_session.settings.solution.monitor.report_plots[\n    \"pressure_avg_abl_wall\"\n].report_defs = \"pressure_avg_abl_wall\"\nsolver_session.settings.solution.monitor.report_files.create(\n    name=\"pressure_avg_abl_wall\"\n)\nsolver_session.settings.solution.monitor.report_files[\"pressure_avg_abl_wall\"] = {\n    \"report_defs\": [\"pressure_avg_abl_wall\"],\n    \"file_name\": \"pressure_avg_abl_wall.out\",\n}\n\nsolver_session.settings.solution.report_definitions.surface.create(name=\"recede_point\")\nsolver_session.settings.solution.report_definitions.surface[\n    \"recede_point\"\n].report_type = \"surface-vertexmax\"\nsolver_session.settings.solution.report_definitions.surface[\"recede_point\"].field = (\n    \"z-coordinate\"\n)\nsolver_session.settings.solution.report_definitions.surface[\n    \"recede_point\"\n].surface_names = [\"wall_ablation\"]\nsolver_session.settings.solution.monitor.report_plots.create(name=\"recede_point\")\nsolver_session.settings.solution.monitor.report_plots[\"recede_point\"].report_defs = (\n    \"recede_point\"\n)\nsolver_session.settings.solution.monitor.report_files.create(name=\"recede_point\")\nsolver_session.settings.solution.monitor.report_files[\"recede_point\"] = {\n    \"file_name\": \"recede_point.out\",\n    \"report_defs\": [\"recede_point\"],\n}"
      ]
    },
    {
      "cell_type": "markdown",
      "metadata": {},
      "source": [
        "## Initialize and Save case\n\n"
      ]
    },
    {
      "cell_type": "code",
      "execution_count": null,
      "metadata": {
        "collapsed": false
      },
      "outputs": [],
      "source": [
        "solver_session.solution.initialization.compute_defaults(\n    from_zone_type=\"pressure-far-field\", from_zone_name=\"inlet\", phase=\"mixture\"\n)\nsolver_session.solution.initialization.initialization_type = \"standard\"\nsolver_session.solution.initialization.standard_initialize()\nsolver_session.solution.run_calculation.transient_controls.time_step_size = 1e-06\n\nsolver_session.file.write(file_type=\"case\", file_name=\"ablation.cas.h5\")"
      ]
    },
    {
      "cell_type": "markdown",
      "metadata": {},
      "source": [
        "## Run the calculation\nNote: It may take about half an hour to finish the calculation.\n\n"
      ]
    },
    {
      "cell_type": "code",
      "execution_count": null,
      "metadata": {
        "collapsed": false
      },
      "outputs": [],
      "source": [
        "solver_session.solution.run_calculation.dual_time_iterate(\n    time_step_count=100, max_iter_per_step=20\n)"
      ]
    },
    {
      "cell_type": "markdown",
      "metadata": {},
      "source": [
        "## Save simulation data\nWrite case and data files\n\n"
      ]
    },
    {
      "cell_type": "code",
      "execution_count": null,
      "metadata": {
        "collapsed": false
      },
      "outputs": [],
      "source": [
        "solver_session.file.write(file_type=\"case-data\", file_name=\"ablation_Solved.cas.h5\")"
      ]
    },
    {
      "cell_type": "markdown",
      "metadata": {},
      "source": [
        "## Post Processing\n\n"
      ]
    },
    {
      "cell_type": "markdown",
      "metadata": {},
      "source": [
        "## Display plots\n\n"
      ]
    },
    {
      "cell_type": "markdown",
      "metadata": {},
      "source": [
        "<img src=\"file://../../_static/ablation-residual.png\" align=\"center\" alt=\"residual\">\n\n"
      ]
    },
    {
      "cell_type": "markdown",
      "metadata": {},
      "source": [
        "Scaled residual plot\n\n"
      ]
    },
    {
      "cell_type": "markdown",
      "metadata": {},
      "source": [
        "<img src=\"file://../../_static/ablation-drag_force_x.png\" align=\"center\" alt=\"Drag force in x direction\">\n\n"
      ]
    },
    {
      "cell_type": "markdown",
      "metadata": {},
      "source": [
        "History of the drag force on the ablation wall\n\n"
      ]
    },
    {
      "cell_type": "markdown",
      "metadata": {},
      "source": [
        "<img src=\"file://../../_static/ablation-avg_pressure.png\" align=\"center\" alt=\"Average pressure on the ablation wall\">\n\n"
      ]
    },
    {
      "cell_type": "markdown",
      "metadata": {},
      "source": [
        "History of the averaged pressure on the ablation wall\n\n"
      ]
    },
    {
      "cell_type": "markdown",
      "metadata": {},
      "source": [
        "<img src=\"file://../../_static/ablation-recede_point.png\" align=\"center\" alt=\"Recede point (albation)\">\n\n"
      ]
    },
    {
      "cell_type": "markdown",
      "metadata": {},
      "source": [
        "Recede point (deformation due to ablation)\n\n"
      ]
    },
    {
      "cell_type": "markdown",
      "metadata": {},
      "source": [
        "## Display contour\nFollowing contours are displayed in the Fluent GUI:\n\n"
      ]
    },
    {
      "cell_type": "code",
      "execution_count": null,
      "metadata": {
        "collapsed": false
      },
      "outputs": [],
      "source": [
        "solver_session.results.surfaces.plane_surface.create(name=\"mid_plane\")\nsolver_session.results.surfaces.plane_surface[\"mid_plane\"].method = \"zx-plane\"\n\nsolver_session.results.graphics.contour.create(name=\"contour_pressure\")\nsolver_session.results.graphics.contour[\"contour_pressure\"] = {\n    \"field\": \"pressure\",\n    \"surfaces_list\": [\"mid_plane\"],\n}\nsolver_session.results.graphics.contour.display(object_name=\"contour_pressure\")\n\nsolver_session.results.graphics.contour.create(name=\"contour_mach\")\nsolver_session.results.graphics.contour[\"contour_mach\"] = {\n    \"field\": \"mach-number\",\n    \"surfaces_list\": [\"mid_plane\"],\n}\nsolver_session.results.graphics.contour.display(object_name=\"contour_mach\")"
      ]
    },
    {
      "cell_type": "markdown",
      "metadata": {},
      "source": [
        "## Post processing with PyVista (3D visualization)\nFollowing graphics is displayed in the a new window/notebook\n\n"
      ]
    },
    {
      "cell_type": "code",
      "execution_count": null,
      "metadata": {
        "collapsed": false
      },
      "outputs": [],
      "source": [
        "contour1 = Contour(solver=solver_session, field=\"pressure\", surfaces=[\"mid_plane\"])\n\nwindow = GraphicsWindow()\nwindow.add_graphics(contour1)\nwindow.show()"
      ]
    },
    {
      "cell_type": "markdown",
      "metadata": {},
      "source": [
        "<img src=\"file://../../_static/ablation-pressure.png\" align=\"center\" alt=\"Static Pressure Contour\">\n\n"
      ]
    },
    {
      "cell_type": "markdown",
      "metadata": {},
      "source": [
        "Static Pressure Contour\n\n"
      ]
    },
    {
      "cell_type": "code",
      "execution_count": null,
      "metadata": {
        "collapsed": false
      },
      "outputs": [],
      "source": [
        "contour1.field = \"mach-number\"\ncontour1.range.option = \"auto-range-off\"\ncontour1.range.auto_range_off.minimum = 0.5\ncontour1.range.auto_range_off.maximum = 3.0\nwindow = GraphicsWindow()\nwindow.add_graphics(contour1)\nwindow.show()"
      ]
    },
    {
      "cell_type": "markdown",
      "metadata": {},
      "source": [
        "<img src=\"file://../../_static/ablation-mach-number.png\" align=\"center\" alt=\"Mach Number Contour\">\n\n"
      ]
    },
    {
      "cell_type": "markdown",
      "metadata": {},
      "source": [
        "Mach Number Contour\n\n"
      ]
    },
    {
      "cell_type": "markdown",
      "metadata": {},
      "source": [
        "## Close the session\n\n"
      ]
    },
    {
      "cell_type": "code",
      "execution_count": null,
      "metadata": {
        "collapsed": false
      },
      "outputs": [],
      "source": [
        "solver_session.exit()"
      ]
    }
  ],
  "metadata": {
    "kernelspec": {
      "display_name": "Python 3",
      "language": "python",
      "name": "python3"
    },
    "language_info": {
      "codemirror_mode": {
        "name": "ipython",
        "version": 3
      },
      "file_extension": ".py",
      "mimetype": "text/x-python",
      "name": "python",
      "nbconvert_exporter": "python",
      "pygments_lexer": "ipython3",
      "version": "3.11.11"
    }
  },
  "nbformat": 4,
  "nbformat_minor": 0
}