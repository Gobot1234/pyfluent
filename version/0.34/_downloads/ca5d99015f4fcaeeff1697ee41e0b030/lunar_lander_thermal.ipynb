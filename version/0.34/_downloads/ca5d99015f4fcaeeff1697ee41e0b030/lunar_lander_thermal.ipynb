{
  "cells": [
    {
      "cell_type": "markdown",
      "metadata": {},
      "source": [
        "\n# Thermal Model of a Lunar Lander Using the Monte Carlo Radiation Model\nThis example demonstrates creating and solving a thermal model of a lander on\nthe lunar surface using Fluent's Monte Carlo radiation solver.\n\nPyFluent uses the following loop at each timestep to retrofit the required\nfunctionality to Fluent:\n\n1. Calculate the current sun vector (direction of Sun relative to observer).\n2. Update the radiation direction in Fluent.\n3. Change the radiator emissivity depending on whether the louvers are open.\n4. Run the solution for 1 timestep.\n\n**Workflow tasks**\n\nThe Thermal Model of a Lunar Lander Using the Monte Carlo Radiation Model\nexample guides you through these tasks:\n\n* Setting up a Monte Carlo radiation model.\n* Creation of materials with thermal and radiation properties.\n* Setting boundary conditions for heat transfer and radiation calculations.\n* Setting up shell conduction boundary conditions.\n* Calculating a solution using the pressure-based solver.\n* Dynamically updating the Sun direction and lander state at each step.\n\n**Problem description**\n\nThe lander is modelled as a hollow 1 m \u00d7 1 m \u00d7 1 m cube with aluminum walls 3\nmm thick, covered in highly reflective multilayer insulation (MLI). To allow\nfor comparison to empirical data, the landing site is selected to be the same\nas that of the Apollo 17 mission, which took measurements of the regolith\ntemperatures in the Taurus-Littrow valley located at 20.1908\u00b0 N, 30.7717\u00b0 E.\n\nThe lander has a radiator on the top surface of size 0.7 m \u00d7 0.7 m with louvers,\nwhich open above 273 K to reject heat and close below 273 K to retain heat.\nThe PyFluent API is used to automatically update the radiator state and the\ndirection of the Sun at each timestep.\n\nThe case setup is taken from reference [1_], originally created in ANSYS\nThermal Desktop. It uses a thermal model of the lunar regolith developed in\nreference [2_]. Validation data for the regolith temperatures are taken from\nmeasurements conducted by the Apollo 17 mission to the Moon [3_].\n"
      ]
    },
    {
      "cell_type": "code",
      "execution_count": null,
      "metadata": {
        "collapsed": false
      },
      "outputs": [],
      "source": [
        ""
      ]
    },
    {
      "cell_type": "markdown",
      "metadata": {},
      "source": [
        "<img src=\"file://../../_static/lunar_lander_thermal_setup.png\" align=\"center\">\n\n"
      ]
    },
    {
      "cell_type": "markdown",
      "metadata": {},
      "source": [
        "# Preliminary Setup\nFirst, we will define functions to compute the direction of the Sun relative\nto the lander.\n\n## Perform required imports\nPerform required imports, including downloading the required geometry files.\nThe mesh has been pre-made for this problem.\n\n"
      ]
    },
    {
      "cell_type": "code",
      "execution_count": null,
      "metadata": {
        "collapsed": false
      },
      "outputs": [],
      "source": [
        "# flake8: noqa: E402\n\nfrom itertools import chain\nimport os\n\nimport numpy as np\n\nimport ansys.fluent.core as pyfluent\nfrom ansys.fluent.core import examples\n\nlander_spaceclaim_file, lander_mesh_file, apollo17_temp_data = [\n    examples.download_file(\n        f,\n        \"pyfluent/lunar_lander_thermal\",\n        save_path=os.getcwd(),\n    )\n    for f in [\n        \"lander_geom.scdoc\",\n        \"lander_mesh.msh.h5\",\n        \"apollo17_temp_data.csv\",\n    ]\n]"
      ]
    },
    {
      "cell_type": "markdown",
      "metadata": {},
      "source": [
        "## Define variables\nDefine the key variables:\n\n* The obliquity (axial tilt) of the Moon relative to the plane of the Earth's\n  orbit around the Sun\n* The setpoint temperature above which the radiator louvers open\n* The coordinates of the lander\n* The timestep size\n* The number of timesteps\n\nWe will use a timestep size of 24 hours and run the simulation for 60 Earth\ndays, or approximately 2 lunar days.\n\n"
      ]
    },
    {
      "cell_type": "code",
      "execution_count": null,
      "metadata": {
        "collapsed": false
      },
      "outputs": [],
      "source": [
        "# Lunar axial obliquity relative to ecliptic\nmoon_obliquity = np.deg2rad(1.54)\n\n# Louver setpoint temperature [K]\nlouver_setpoint_temp = 273\n\n# Lander coordinates (Apollo 17 landing site)\nland_lat = np.deg2rad(20.1908)\nland_lon = np.deg2rad(30.7717)\n\n# Timestep size of 1 Earth day\nstep_size = 86400\n\n# Run simulation for 60 Earth days\nn_steps = 60"
      ]
    },
    {
      "cell_type": "markdown",
      "metadata": {},
      "source": [
        "## Define sun vector function\nDefine the function to calculate the Sun vector at the landing site. This is\na vector that points from the observer's location toward the Sun. It takes\nEarth's ecliptic longitude at the beginning of the simulation, the subsolar\nlongitude at the beginning of the simulation, the observer's coordinates, and\nthe time elapsed in seconds since the beginning of the simulation as inputs.\nIt returns the Sun's altitude and azimuth as outputs.\n\nFor more information, see the following links:\n\n* [Ecliptic longitude](https://w.wiki/7zFR)\n* [Subsolar longitude](https://w.wiki/7zFS)\n* [Altitude and azimuth](https://w.wiki/7zFU)\n\n"
      ]
    },
    {
      "cell_type": "code",
      "execution_count": null,
      "metadata": {
        "collapsed": false
      },
      "outputs": [],
      "source": [
        "def calc_sun_vecs_for_moon(\n    earth_ecliptic_lon_start: float,\n    subsol_lon_start: float,\n    obsv_lat: float,\n    obsv_lon: float,\n    t: float,\n) -> tuple[float, float]:\n    \"\"\"Calculate sun vectors.\"\"\"\n    # Earth ecliptic longitude\n    earth_ecliptic_lon = earth_ecliptic_lon_start + 2 * np.pi / (365 * 86400) * t\n\n    # Subsolar point\n    subsol_lat = np.arcsin(np.sin(-moon_obliquity) * np.sin(earth_ecliptic_lon))\n    subsol_lon = subsol_lon_start + t / (29.5 * 86400) * 2 * np.pi\n\n    # Solar altitude and azimuth\n    sun_obsv_phaseang = np.arccos(\n        np.sin(subsol_lat) * np.sin(obsv_lat)\n        + np.cos(subsol_lat) * np.cos(obsv_lat) * np.cos(obsv_lon - subsol_lon)\n    )\n\n    sun_alt = np.pi / 2 - sun_obsv_phaseang\n    sun_azm = np.arctan2(\n        np.cos(obsv_lat) * np.sin(subsol_lat)\n        - np.sin(obsv_lat) * np.cos(subsol_lat) * np.cos(subsol_lon - obsv_lon),\n        np.cos(subsol_lat) * np.sin(subsol_lon - obsv_lon),\n    )\n\n    return sun_alt, sun_azm"
      ]
    },
    {
      "cell_type": "markdown",
      "metadata": {},
      "source": [
        "## Define beam direction function\nDefine the function that converts the Sun's altitude and azimuth, as\ncalculated by ``calc_sun_vecs_for_moon``, into a beam direction in Cartesian\ncoordinates that can be used in Fluent. The coordinate system used is:\n\n* X: North\n* Y: Zenith\n* Z: East\n\n"
      ]
    },
    {
      "cell_type": "code",
      "execution_count": null,
      "metadata": {
        "collapsed": false
      },
      "outputs": [],
      "source": [
        "def sun_vec_to_beam_dir(\n    sun_alt: float,\n    sun_azm: float,\n) -> tuple[float, float, float]:\n    \"\"\"Calculate beam direction.\"\"\"\n    # Coordinate system:\n    #   X: North\n    #   Y: Zenith\n    #   Z: East\n    x = np.cos(sun_alt) * np.cos(sun_azm)\n    y = np.sin(sun_alt)\n    z = np.cos(sun_alt) * np.sin(sun_azm)\n\n    # Since the sun vector points toward the sun, we need to take the\n    # negative to get the beam direction\n    return -x, -y, -z"
      ]
    },
    {
      "cell_type": "markdown",
      "metadata": {},
      "source": [
        "## Define mean surface temperature function\nThe radiator will be opened or closed based on its mean temperature. We will\naccess the solver session object to extract nodal temperatures. It takes a\nlist of surface names as input, finds their surface IDs, obtains the scalar\nfield data from the solver, then returns the average temperature.\n\n"
      ]
    },
    {
      "cell_type": "code",
      "execution_count": null,
      "metadata": {
        "collapsed": false
      },
      "outputs": [],
      "source": [
        "def get_surf_mean_temp(\n    surf_names: list[str],\n    solver: pyfluent.session_solver.Solver,\n) -> float:\n    \"\"\"Calculate mean surface temperature.\"\"\"\n    # Get surface IDs\n    surfs = solver.field_info.get_surfaces_info()\n    surf_ids_ = [surfs[surf_name][\"surface_id\"] for surf_name in surf_names]\n\n    # Flatten surf_ids nested list\n    surf_ids = list(chain(*surf_ids_))\n\n    # Get temperature data\n    temp_data = solver.field_data.get_scalar_field_data(\n        field_name=\"temperature\",\n        surfaces=surf_ids,\n    )\n\n    # Calculate mean temperature across surfaces\n    return float(np.mean(list(temp_data.values())))"
      ]
    },
    {
      "cell_type": "markdown",
      "metadata": {},
      "source": [
        "# Start Fluent\nWe are now ready to launch Fluent and load the mesh.\n\n## Launch Fluent and print Fluent version\n\n"
      ]
    },
    {
      "cell_type": "code",
      "execution_count": null,
      "metadata": {
        "collapsed": false
      },
      "outputs": [],
      "source": [
        "solver_session = pyfluent.launch_fluent(\n    precision=\"double\",\n    processor_count=12,\n    mode=\"solver\",\n)\nprint(solver_session.get_fluent_version())"
      ]
    },
    {
      "cell_type": "markdown",
      "metadata": {},
      "source": [
        "## Load the mesh\n\n"
      ]
    },
    {
      "cell_type": "code",
      "execution_count": null,
      "metadata": {
        "collapsed": false
      },
      "outputs": [],
      "source": [
        "solver_session.file.read_mesh(file_name=lander_mesh_file)"
      ]
    },
    {
      "cell_type": "markdown",
      "metadata": {},
      "source": [
        "# Case Setup\nWe are now ready to begin setting up the case.\n\n## Transient settings\nSet the solution type to transient and configure. We will use 2nd-order time-\nstepping, a fixed timestep size, and a limit of 20 iterations per timestep.\nSince we are only running 1 timestep at a time, the time step count is set to\n1.\n\n"
      ]
    },
    {
      "cell_type": "code",
      "execution_count": null,
      "metadata": {
        "collapsed": false
      },
      "outputs": [],
      "source": [
        "# Set solution to transient\nsolver_session.setup.general.solver.time = \"unsteady-2nd-order\"\n\n# Set transient settings\ntrans_controls = solver_session.solution.run_calculation.transient_controls\ntrans_controls.type = \"Fixed\"\ntrans_controls.max_iter_per_time_step = 20\ntrans_controls.time_step_count = 1\ntrans_controls.time_step_size = step_size"
      ]
    },
    {
      "cell_type": "markdown",
      "metadata": {},
      "source": [
        "## Enable models\nEnable the energy model. Since fluid flow is not simulated, we will set the\nviscosity model to laminar.\n\n"
      ]
    },
    {
      "cell_type": "code",
      "execution_count": null,
      "metadata": {
        "collapsed": false
      },
      "outputs": [],
      "source": [
        "models = solver_session.setup.models\nmodels.energy.enabled = True\nmodels.viscous.model = \"laminar\""
      ]
    },
    {
      "cell_type": "markdown",
      "metadata": {},
      "source": [
        "## Set up radiation model\nEnable the Monte Carlo radiation model with two radiation bands: one for\nsolar radiation and one for thermal infrared radiation. Ensure that bands are\ncreated in order of increasing wavelength.\n\nThe number of histories is set to 10 million to reduce computation time, but\nmore may be required for accurate results.\n\nThe limits of each band are based on Fluent manual recommendations and on\nspace industry best practices [4_].\n\n"
      ]
    },
    {
      "cell_type": "code",
      "execution_count": null,
      "metadata": {
        "collapsed": false
      },
      "outputs": [],
      "source": [
        "# Set up radiation model\nradiation = models.radiation\nradiation.model = \"monte-carlo\"\nradiation.monte_carlo.number_of_histories = 1e7\n\n# Define range of solar wavelengths\nradiation.multiband[\"solar\"] = {\n    \"start\": 0,\n    \"end\": 2.8,\n}\n# Define range of thermal IR wavelengths\nradiation.multiband[\"thermal-ir\"] = {\n    \"start\": 2.8,\n    \"end\": 100,\n}\n\n# Solve radiation once per timestep\nradiation_freq = radiation.solve_frequency\nradiation_freq.method = \"time-step\"\nradiation_freq.time_step_interval = 1"
      ]
    },
    {
      "cell_type": "markdown",
      "metadata": {},
      "source": [
        "## Define materials\nCreate materials to represent the vacuum of space (to prevent thermal\nconduction through the cell zone representing vacuum) and the lunar regolith\n(soil). The thermal conductivity of the regolith and the surface 'fluff' is\nstrongly temperature-dependent and so must be modelled using an expression.\n\n"
      ]
    },
    {
      "cell_type": "code",
      "execution_count": null,
      "metadata": {
        "collapsed": false
      },
      "outputs": [],
      "source": [
        "# --- Properties of vacuum ---\n# Thermal conductivity: 0\n\nvacuum = solver_session.setup.materials.solid.create(\"vacuum\")\nvacuum.chemical_formula = \"\"\nvacuum.thermal_conductivity.value = 0\nvacuum.absorption_coefficient.value = 0\nvacuum.refractive_index.value = 1\n\n# --- Properties of fluff (see ref. [2]) ---\n# Density: 1000 [kg m^-3]\n# Specific heat capacity: 1050 [J kg^-1 K^-1]\n# Thermal conductivity: 9.22e-4*(1 + 1.48*(temperature/350 K)^3) [W m^-1 K^-1]\n\nfluff = solver_session.setup.materials.solid.create(\"fluff\")\nfluff.chemical_formula = \"\"\nfluff.density.value = 1000\nfluff.specific_heat.value = 1050\nfluff.thermal_conductivity.option = \"expression\"\nfluff.thermal_conductivity.expression = (\n    \"9.22e-4[W m^-1 K^-1]*(1 + 1.48*(StaticTemperature/350[K])^3)\"\n)\n\n# --- Properties of regolith (see ref. [2]) ---\n# Density: 2000 [kg m^-3]\n# Specific heat capacity: 1050 [J kg^-1 K^-1]\n# Thermal conductivity: 9.30e-4*(1 + 0.73*(temperature/350 K)^3) [W m^-1 K^-1]\n\nregolith = solver_session.setup.materials.solid.create(\"regolith\")\nregolith.chemical_formula = \"\"\nregolith.density.value = 2000\nregolith.specific_heat.value = 1050\nregolith.thermal_conductivity.option = \"expression\"\nregolith.thermal_conductivity.expression = (\n    \"9.30e-4[W m^-1 K^-1]*(1 + 0.73*(StaticTemperature/350[K])^3)\"\n)"
      ]
    },
    {
      "cell_type": "markdown",
      "metadata": {},
      "source": [
        "## Cell zone conditions\nSince the Monte Carlo radiation model only supports radiative transfer\nthrough a cell zone, a cell zone is used to model the vacuum around the\nlander. This cell zone must be set to be a solid so that the fluid equations\nare not solved there, then it must be assigned to the vacuum material.\n\n"
      ]
    },
    {
      "cell_type": "code",
      "execution_count": null,
      "metadata": {
        "collapsed": false
      },
      "outputs": [],
      "source": [
        "cellzones = solver_session.setup.cell_zone_conditions\ncellzones.set_zone_type(\n    zone_list=[\"geom-2_domain\"],\n    new_type=\"solid\",\n)\ncellzones.solid[\"geom-2_domain\"].material = \"vacuum\""
      ]
    },
    {
      "cell_type": "markdown",
      "metadata": {},
      "source": [
        "## Regolith boundary condition\nWe will implement the regolith model in reference [2_] by modelling\nit as a wall exhibiting multilayer shell conduction. A basal heat flux is\nused to represent the geothermal heat from the Moon's interior that heats\nthe regolith from the bottom.\n\n"
      ]
    },
    {
      "cell_type": "code",
      "execution_count": null,
      "metadata": {
        "collapsed": false
      },
      "outputs": [],
      "source": [
        "# --- Regolith BC ---\n# Thickness of layers: 0.02, 0.04, 0.08, 0.16, 0.32 [m]\n# Heating at base: 0.031 [W m^-2]\n# Surface absorptivity: 0.87\n# Surface emissivity: 0.97\n\nregolith_bc = solver_session.setup.boundary_conditions.wall[\"regolith\"]\n\nregolith_bc.thermal.q.value = 0.031\nregolith_bc.thermal.planar_conduction = True\nregolith_bc.thermal.shell_conduction = [\n    {\n        \"thickness\": 0.02,\n        \"material\": \"fluff\",\n    },\n    {\n        \"thickness\": 0.04,\n        \"material\": \"regolith\",\n    },\n    {\n        \"thickness\": 0.08,\n        \"material\": \"regolith\",\n    },\n    {\n        \"thickness\": 0.16,\n        \"material\": \"regolith\",\n    },\n    {\n        \"thickness\": 0.32,\n        \"material\": \"regolith\",\n    },\n]\nregolith_bc.radiation.internal_emissivity_band = {\"solar\": 0.87, \"thermal-ir\": 0.97}"
      ]
    },
    {
      "cell_type": "markdown",
      "metadata": {},
      "source": [
        "## Space boundary condition\nThe space boundary condition represents deep space and also acts as the\nsource of the Sun's illumination in the simulation.\n\n"
      ]
    },
    {
      "cell_type": "code",
      "execution_count": null,
      "metadata": {
        "collapsed": false
      },
      "outputs": [],
      "source": [
        "# --- Set up space boundary condition ---\n# Temperature: 3 [K]\n# Emissivity: 1\n# Absorptivity: 1\n# Solar flux: 1414 [W m^-2]\n\nspace_bc = solver_session.setup.boundary_conditions.wall[\"space\"]\n\nspace_bc.thermal.thermal_bc = \"Temperature\"\nspace_bc.thermal.t.value = 3\nspace_bc.thermal.material = \"vacuum\"\nspace_bc.radiation.mc_bsource_p = True\nspace_bc.radiation.direct_irradiation_settings.direct_irradiation[\"solar\"] = 1414\nspace_bc.radiation.diffuse_irradiation_settings.diffuse_fraction_band = {\n    \"solar\": 0,\n    \"thermal-ir\": 0,\n}\nspace_bc.radiation.internal_emissivity_band = {\"solar\": 1, \"thermal-ir\": 1}"
      ]
    },
    {
      "cell_type": "markdown",
      "metadata": {},
      "source": [
        "## Spacecraft walls boundary condition\nThe spacecraft is covered in reflective MLI (multilayer insulation) and heat\ntransfer through the aluminum shell can be simulated using shell conduction.\n\n"
      ]
    },
    {
      "cell_type": "code",
      "execution_count": null,
      "metadata": {
        "collapsed": false
      },
      "outputs": [],
      "source": [
        "# --- Set up spacecraft shell boundary condition ---\n# Thickness: 0.03 [m]\n# Material: aluminum\n# Absorptivity: 0.05\n# Emissivity: 0.05\n\nsc_mli_bc = solver_session.setup.boundary_conditions.wall[\"sc-mli\"]\n\nsc_mli_bc.thermal.planar_conduction = True\nsc_mli_bc.thermal.shell_conduction = [\n    {\n        \"thickness\": 0.03,\n        \"material\": \"aluminum\",\n    },\n]\nsc_mli_bc.radiation.internal_emissivity_band = {\"solar\": 0.05, \"thermal-ir\": 0.05}"
      ]
    },
    {
      "cell_type": "markdown",
      "metadata": {},
      "source": [
        "## Spacecraft radiator boundary condition\nThe spacecraft's radiator is modelled in a similar way to the spacecraft's\nwalls, but the emissivity is left unset as it will be changed dynamically by\nour PyFluent script depending on its temperature during the simulation.\n\n"
      ]
    },
    {
      "cell_type": "code",
      "execution_count": null,
      "metadata": {
        "collapsed": false
      },
      "outputs": [],
      "source": [
        "# --- Set up spacecraft radiator boundary condition ---\n# Thickness: 0.03 [m]\n# Material: aluminum\n# Absorptivity: 0.17\n# Emissivity: 0.09 below 273 K, 0.70 otherwise\n\nsc_rad_bc = solver_session.setup.boundary_conditions.wall[\"sc-radiator\"]\n\nsc_rad_bc.thermal.planar_conduction = True\nsc_rad_bc.thermal.shell_conduction = [\n    {\n        \"thickness\": 0.03,\n        \"material\": \"aluminum\",\n    },\n]\nsc_rad_bc.radiation.internal_emissivity_band = {\"solar\": 0.17}"
      ]
    },
    {
      "cell_type": "markdown",
      "metadata": {},
      "source": [
        "## Initialize simulation\nInitialize the simulation. Doing so now will create conductive zones between\nshell layers representing the regolith, allowing us to make report\ndefinitions on them in the next step. The entire domain will be initialized\nto a temperature of 230 K, or -43 \u00b0C.\n\n"
      ]
    },
    {
      "cell_type": "code",
      "execution_count": null,
      "metadata": {
        "collapsed": false
      },
      "outputs": [],
      "source": [
        "sim_init = solver_session.solution.initialization\nsim_init.defaults[\"temperature\"] = 230\nsim_init.initialize()"
      ]
    },
    {
      "cell_type": "markdown",
      "metadata": {},
      "source": [
        "## Spacecraft temperature reports\nCreate reports for the spacecraft's minimum, mean, and maximum temperatures.\n\n"
      ]
    },
    {
      "cell_type": "code",
      "execution_count": null,
      "metadata": {
        "collapsed": false
      },
      "outputs": [],
      "source": [
        "surf_report_defs = solver_session.solution.report_definitions.surface\n\nsc_surfs = [\"sc-radiator\", \"sc-mli\"]\n\nsurf_report_defs[\"sc-min-temp\"] = {\n    \"surface_names\": sc_surfs,\n    \"report_type\": \"surface-facetmin\",\n    \"field\": \"temperature\",\n}\nsurf_report_defs[\"sc-avg-temp\"] = {\n    \"surface_names\": sc_surfs,\n    \"report_type\": \"surface-facetavg\",\n    \"field\": \"temperature\",\n}\nsurf_report_defs[\"sc-max-temp\"] = {\n    \"surface_names\": sc_surfs,\n    \"report_type\": \"surface-facetmax\",\n    \"field\": \"temperature\",\n}"
      ]
    },
    {
      "cell_type": "markdown",
      "metadata": {},
      "source": [
        "## Regolith temperature reports\nCreate reports for the mean temperatures of each regolith layer. We will\nstore the report names for use later.\n\n"
      ]
    },
    {
      "cell_type": "code",
      "execution_count": null,
      "metadata": {
        "collapsed": false
      },
      "outputs": [],
      "source": [
        "surf_report_defs = solver_session.solution.report_definitions.surface\n\n# Loop over all regolith reports to set common properties\nregolith_report_names = []\nfor i in range(1, 5 + 1):\n    report_name = f\"regolith-layer-{i}-temp\"\n    surf_report_defs[report_name] = {\n        \"report_type\": \"surface-facetavg\",\n        \"field\": \"temperature\",\n    }\n    regolith_report_names.extend([report_name])\n\nsurf_report_defs[\"regolith-layer-1-temp\"].surface_names = [\"regolith\"]\nsurf_report_defs[\"regolith-layer-2-temp\"].surface_names = [\"regolith-1:2\"]\nsurf_report_defs[\"regolith-layer-3-temp\"].surface_names = [\"regolith-2:3\"]\nsurf_report_defs[\"regolith-layer-4-temp\"].surface_names = [\"regolith-3:4\"]\nsurf_report_defs[\"regolith-layer-5-temp\"].surface_names = [\"regolith-4:5\"]"
      ]
    },
    {
      "cell_type": "markdown",
      "metadata": {},
      "source": [
        "## Temperature report files\nCreate temperature report files for post-processing.\n\n"
      ]
    },
    {
      "cell_type": "code",
      "execution_count": null,
      "metadata": {
        "collapsed": false
      },
      "outputs": [],
      "source": [
        "surf_report_files = solver_session.solution.monitor.report_files\n\n# Spacecraft temperatures\nsurf_report_files[\"sc-temps-rfile\"] = {\n    \"report_defs\": [\"flow-time\", \"sc-min-temp\", \"sc-avg-temp\", \"sc-max-temp\"],\n}\n\n# Regolith temperatures\nsurf_report_files[\"regolith-temps-rfile\"] = {\n    \"report_defs\": [*regolith_report_names, \"flow-time\"],\n}"
      ]
    },
    {
      "cell_type": "markdown",
      "metadata": {},
      "source": [
        "## Autosave\nSet the case to save only the data file at each timestep for post-processing.\n\n"
      ]
    },
    {
      "cell_type": "code",
      "execution_count": null,
      "metadata": {
        "collapsed": false
      },
      "outputs": [],
      "source": [
        "autosave = solver_session.file.auto_save\n\nautosave.case_frequency = \"if-mesh-is-modified\"\nautosave.data_frequency = 1\nautosave.save_data_file_every.frequency_type = \"time-step\"\nautosave.append_file_name_with.file_suffix_type = \"time-step\""
      ]
    },
    {
      "cell_type": "markdown",
      "metadata": {},
      "source": [
        "## Convergence criteria\nTurn off the convergence criteria pertaining to fluid flow as there is no\nfluid flow in this simulation. Keep only the energy convergence criterion.\n\n"
      ]
    },
    {
      "cell_type": "code",
      "execution_count": null,
      "metadata": {
        "collapsed": false
      },
      "outputs": [],
      "source": [
        "residuals = solver_session.solution.monitor.residual.equations\n\nfor criterion in [\"continuity\", \"x-velocity\", \"y-velocity\", \"z-velocity\"]:\n    residuals[criterion].check_convergence = False\n    residuals[criterion].monitor = False"
      ]
    },
    {
      "cell_type": "markdown",
      "metadata": {},
      "source": [
        "## Write case file\nWrite the case file. Enable overwrite.\n\n"
      ]
    },
    {
      "cell_type": "code",
      "execution_count": null,
      "metadata": {
        "collapsed": false
      },
      "outputs": [],
      "source": [
        "solver_session.file.batch_options.confirm_overwrite = True\nsolver_session.file.write(\n    file_name=\"lunar_lander_thermal.cas.h5\",\n    file_type=\"case\",\n)"
      ]
    },
    {
      "cell_type": "markdown",
      "metadata": {},
      "source": [
        "# Solve\n\n## Solve case\nRun the case, using a loop to update the radiator state and Sun vector at\neach timestep. We will assume that the Earth's ecliptic longitude and the\nsubsolar longitude are both zero at the start of the simulation for\nsimplicity.\n\n"
      ]
    },
    {
      "cell_type": "code",
      "execution_count": null,
      "metadata": {
        "collapsed": false
      },
      "outputs": [],
      "source": [
        "for i in range(n_steps):\n    # Get current simulation time\n    t = solver_session.rp_vars(\"flow-time\")\n\n    # Calculate sun vector\n    sun_alt, sun_azm = calc_sun_vecs_for_moon(\n        earth_ecliptic_lon_start=0,\n        subsol_lon_start=0,\n        obsv_lat=land_lat,\n        obsv_lon=land_lon,\n        t=t,\n    )\n    beam_x, beam_y, beam_z = sun_vec_to_beam_dir(\n        sun_alt=sun_alt,\n        sun_azm=sun_azm,\n    )\n\n    # Set beam direction\n    solver_session.setup.boundary_conditions.wall[\n        \"space\"\n    ].radiation.direct_irradiation_settings.beam_direction = [\n        beam_x,\n        beam_y,\n        beam_z,\n    ]\n\n    # Calculate radiator mean temperature\n    rad_mean_temp = get_surf_mean_temp(\n        [\"sc-radiator\"],\n        solver_session,\n    )\n\n    # Simulate closing louvers below 273 K by changing emissivity\n    rad_emiss = solver_session.setup.boundary_conditions.wall[\n        \"sc-radiator\"\n    ].radiation.internal_emissivity_band[\"thermal-ir\"]\n    if rad_mean_temp < 273:\n        rad_emiss.value = 0.09\n    else:\n        rad_emiss.value = 0.70\n\n    # Run simulation for 1 timestep\n    solver_session.solution.run_calculation.calculate()"
      ]
    },
    {
      "cell_type": "markdown",
      "metadata": {},
      "source": [
        "## Close Fluent\nShut down the solver.\n\n"
      ]
    },
    {
      "cell_type": "code",
      "execution_count": null,
      "metadata": {
        "collapsed": false
      },
      "outputs": [],
      "source": [
        "solver_session.exit()"
      ]
    },
    {
      "cell_type": "markdown",
      "metadata": {},
      "source": [
        "# Post-process\nPost-process the data.\n\n## Import packages\nImport the packages required for post-processing.\n\n"
      ]
    },
    {
      "cell_type": "code",
      "execution_count": null,
      "metadata": {
        "collapsed": false
      },
      "outputs": [],
      "source": [
        "from pathlib import Path\nimport re\n\nfrom matplotlib import pyplot as plt\nimport pandas as pd"
      ]
    },
    {
      "cell_type": "markdown",
      "metadata": {},
      "source": [
        "## Clean column names function\nPandas will not correctly format the column names when reading in the Fluent\noutput files. We will clean the names by removing all parentheses and double\nquotation marks.\n\n"
      ]
    },
    {
      "cell_type": "code",
      "execution_count": null,
      "metadata": {
        "collapsed": false
      },
      "outputs": [],
      "source": [
        "def clean_col_names(df):\n    \"\"\"Clean column names.\"\"\"\n    df.columns = [re.sub(r'[\"()]', \"\", col) for col in df.columns]"
      ]
    },
    {
      "cell_type": "markdown",
      "metadata": {},
      "source": [
        "## Read in simulation data\nRead the Fluent output files for the regolith and spacecraft temperature data\ninto Pandas dataframes. The separation delimiter between columns is defined\nas one or more spaces that is not immediately in front of or behind an\nalphabetical character, implemented as negative lookarounds in a regular\nexpression.\n\n"
      ]
    },
    {
      "cell_type": "code",
      "execution_count": null,
      "metadata": {
        "collapsed": false
      },
      "outputs": [],
      "source": [
        "root = Path(os.getcwd())\nsep = r\"(?<![a-zA-Z])\\s+(?![a-zA-Z])\"\n\n# Read in regolith data\nregolith_df = pd.read_csv(\n    root / \"regolith-temps-rfile.out\",\n    sep=sep,\n    header=2,\n    dtype=np.float64,\n    engine=\"python\",\n)\nclean_col_names(regolith_df)\n\n# Read in spacecraft data\nsc_df = pd.read_csv(\n    root / \"sc-temps-rfile.out\",\n    sep=sep,\n    header=2,\n    dtype=np.float64,\n    engine=\"python\",\n)\nclean_col_names(sc_df)"
      ]
    },
    {
      "cell_type": "markdown",
      "metadata": {},
      "source": [
        "## Read in experimental data\nRead in the experimental data from Apollo 17 [3_] to compare against the\nsimulation. We will offset the data to start at time step 25 of the\nsimulation, to ensure that the data are compared at the same sun angles.\n\n"
      ]
    },
    {
      "cell_type": "code",
      "execution_count": null,
      "metadata": {
        "collapsed": false
      },
      "outputs": [],
      "source": [
        "apollo17_df = pd.read_csv(apollo17_temp_data)\n\napollo17_offset = regolith_df[\"flow-time\"].iloc[25]\napollo17_df[\"Offset time since sunrise\"] = (\n    apollo17_df[\"Time since sunrise\"] + apollo17_offset\n)"
      ]
    },
    {
      "cell_type": "markdown",
      "metadata": {},
      "source": [
        "## Set data types\nSet the data type of the time step column to integer.\n\n"
      ]
    },
    {
      "cell_type": "code",
      "execution_count": null,
      "metadata": {
        "collapsed": false
      },
      "outputs": [],
      "source": [
        "regolith_df = regolith_df.astype(\n    {\n        \"Time Step\": np.int64,\n    },\n)\nsc_df = sc_df.astype(\n    {\n        \"Time Step\": np.int64,\n    },\n)"
      ]
    },
    {
      "cell_type": "markdown",
      "metadata": {},
      "source": [
        "## Plot regolith temperatures\nPlot the mean temperatures of each layer of regolith, as well as a comparison\nwith the Apollo 17 data. The simulation agrees well with experiment.\n\n"
      ]
    },
    {
      "cell_type": "code",
      "execution_count": null,
      "metadata": {
        "collapsed": false
      },
      "outputs": [],
      "source": [
        "fig1, ax1 = plt.subplots()\n\nregolith_df.plot(\n    x=\"flow-time\",\n    y=[f\"regolith-layer-{i+1}-temp\" for i in range(5)],\n    title=\"Regolith temperatures\",\n    ax=ax1,\n)\napollo17_df.plot(\n    x=\"Offset time since sunrise\",\n    y=\"Temperature\",\n    style=\"x\",\n    xlabel=\"Time [s]\",\n    ylabel=\"Temperature [K]\",\n    ax=ax1,\n)\n\nax1.legend([\"Layer 1\", \"2\", \"3\", \"4\", \"5\", \"Apollo 17\"])"
      ]
    },
    {
      "cell_type": "markdown",
      "metadata": {},
      "source": [
        "## Plot spacecraft temperatures\nPlot the minimum, mean, and maximum temperatures of the spacecraft.\n\n"
      ]
    },
    {
      "cell_type": "code",
      "execution_count": null,
      "metadata": {
        "collapsed": false
      },
      "outputs": [],
      "source": [
        "fig2, ax2 = plt.subplots()\n\nsc_df.plot(\n    x=\"flow-time\",\n    y=[\"sc-min-temp\", \"sc-avg-temp\", \"sc-max-temp\"],\n    title=\"Spacecraft Temperatures\",\n    xlabel=\"Time [s]\",\n    ylabel=\"Temperature [K]\",\n    ax=ax2,\n)\nax2.axhline(273, color=\"k\", linestyle=\":\")\n\nax2.legend([\"Minimum\", \"Mean\", \"Maximum\", \"Setpoint\"])"
      ]
    },
    {
      "cell_type": "markdown",
      "metadata": {},
      "source": [
        "## Show plots\nDisplay the plots.\n\n"
      ]
    },
    {
      "cell_type": "code",
      "execution_count": null,
      "metadata": {
        "collapsed": false
      },
      "outputs": [],
      "source": [
        "plt.show()"
      ]
    },
    {
      "cell_type": "markdown",
      "metadata": {},
      "source": [
        "The expected plot for the mean temperature of the regolith layers (Figure 1)\nis as follows. This represents the regolith temperatures that would be\nobserved without a spacecraft in the environment.\n\n<img src=\"file://../../_static/lunar_lander_regolith_temps.png\" align=\"center\">\n\nThe expected plot for the spacecraft's minimum, mean, and maximum\ntemperatures (Figure 2) is as follows.\n\n<img src=\"file://../../_static/lunar_lander_sc_temps.png\" align=\"center\">\n\n"
      ]
    },
    {
      "cell_type": "markdown",
      "metadata": {},
      "source": [
        "# References\n\n\n[1] T.-Y. Park, J.-J. Lee, J.-H. Kim, and H.-U. Oh, \u201cPreliminary Thermal\nDesign and Analysis of Lunar Lander for Night Survival,\u201d *International\nJournal of Aerospace Engineering*, vol. 2018, p. e4236396, Oct. 2018, doi:\n[doi.org/10.1155/2018/4236396](https://doi.org/10.1155/2018/4236396).\n\n\n[2] R. J. Christie, D. W. Plachta, and M. M. Yasan, \u201cTransient Thermal Model\nand Analysis of the Lunar Surface and Regolith for Cryogenic Fluid Storage,\u201d\nNASA Glenn Research Center, Cleveland, Ohio, NASA Technical Report\nTM-2008-215300, Aug. 2008. [Online]. Available:\nhttps://ntrs.nasa.gov/citations/20080039640\n\n\n[3] M. G. Langseth, S. J. Keihm, and J. L. Chute, \u201cHeat Flow Experiment,\u201d in\n*Apollo 17: Preliminary Science Report*, vol. SP-330, Washington, D.C.: NASA\nLyndon B. Johnson Space Center, 1973. [Online]. Available:\nhttps://ui.adsabs.harvard.edu/abs/1973NASSP.330....../abstract\n\n\n[4] L. Kauder, \u201cSpacecraft Thermal Control Coatings References,\u201d Goddard\nSpace Flight Center, Greenbelt, MD 20771, NASA Technical Report\nNASA/TP-2005-212792, Dec. 2005. [Online]. Available:\nhttps://ntrs.nasa.gov/citations/20070014757\n\n"
      ]
    }
  ],
  "metadata": {
    "kernelspec": {
      "display_name": "Python 3",
      "language": "python",
      "name": "python3"
    },
    "language_info": {
      "codemirror_mode": {
        "name": "ipython",
        "version": 3
      },
      "file_extension": ".py",
      "mimetype": "text/x-python",
      "name": "python",
      "nbconvert_exporter": "python",
      "pygments_lexer": "ipython3",
      "version": "3.11.11"
    }
  },
  "nbformat": 4,
  "nbformat_minor": 0
}