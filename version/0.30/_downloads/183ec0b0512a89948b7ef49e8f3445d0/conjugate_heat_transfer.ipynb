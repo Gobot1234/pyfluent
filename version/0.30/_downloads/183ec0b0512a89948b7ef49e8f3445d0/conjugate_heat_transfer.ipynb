{
  "cells": [
    {
      "cell_type": "markdown",
      "metadata": {},
      "source": [
        "\n# Conjugate Heat Transfer\n"
      ]
    },
    {
      "cell_type": "markdown",
      "metadata": {},
      "source": [
        "## Objective\n\nThis tutorial demonstrates how to model forced convection in a louvered fin heat\nexchanger. This case solves equations for both Fluid and Solid domain.\nAs a result, temperature field evolved together.\n\nThis tutorial demonstrates how to perform the following tasks:\n\n* Calculate the fin heat transfer rate.\n* Use periodic boundaries to reduce the size of the computational domain.\n* Use a convective thermal boundary condition to represent heat transfer.\n* Examine and understand the relationship between flow and temperature.\n\n"
      ]
    },
    {
      "cell_type": "code",
      "execution_count": null,
      "metadata": {
        "collapsed": false
      },
      "outputs": [],
      "source": [
        ""
      ]
    },
    {
      "cell_type": "markdown",
      "metadata": {},
      "source": [
        "## Import required libraries/modules\n\n"
      ]
    },
    {
      "cell_type": "code",
      "execution_count": null,
      "metadata": {
        "collapsed": false
      },
      "outputs": [],
      "source": [
        "import csv\nimport os\nfrom pathlib import Path\n\nimport matplotlib.pyplot as plt\nimport pyvista as pv\n\nimport ansys.fluent.core as pyfluent\nfrom ansys.fluent.core import examples\nfrom ansys.fluent.visualization.matplotlib import Plots\nfrom ansys.fluent.visualization.pyvista import Graphics, pyvista_windows_manager\nfrom ansys.fluent.visualization.pyvista.pyvista_windows_manager import PyVistaWindow\n\ngeom_filename = examples.download_file(\n    \"cht_fin_htc_new.scdoc\",\n    \"pyfluent/examples/CHT\",\n)"
      ]
    },
    {
      "cell_type": "markdown",
      "metadata": {},
      "source": [
        "## Fluent Solution Setup\n\n"
      ]
    },
    {
      "cell_type": "markdown",
      "metadata": {},
      "source": [
        "## Launch Fluent session with meshing mode and print Fluent version\n\n"
      ]
    },
    {
      "cell_type": "code",
      "execution_count": null,
      "metadata": {
        "collapsed": false
      },
      "outputs": [],
      "source": [
        "meshing = pyfluent.launch_fluent(\n    product_version=\"25.1.0\",\n    mode=\"meshing\",\n    dimension=3,\n    precision=\"double\",\n    processor_count=4,\n)\nprint(meshing.get_fluent_version())"
      ]
    },
    {
      "cell_type": "markdown",
      "metadata": {},
      "source": [
        "## Start Watertight Geometry Meshing Workflow\n\n"
      ]
    },
    {
      "cell_type": "code",
      "execution_count": null,
      "metadata": {
        "collapsed": false
      },
      "outputs": [],
      "source": [
        "meshing.workflow.InitializeWorkflow(WorkflowType=r\"Watertight Geometry\")\n\nmeshing.workflow.TaskObject[\"Import Geometry\"].Arguments = dict(FileName=geom_filename)\n\nmeshing.workflow.TaskObject[\"Import Geometry\"].Execute()\n\nmeshing.workflow.TaskObject[\"Add Local Sizing\"].Execute()\n\nmeshing.workflow.TaskObject[\"Generate the Surface Mesh\"].Arguments = dict(\n    {\n        \"CFDSurfaceMeshControls\": {\n            \"MinSize\": 0.3,\n            \"MaxSize\": 1,\n            \"ScopeProximityTo\": \"faces\",\n        },\n    }\n)\nmeshing.workflow.TaskObject[\"Generate the Surface Mesh\"].Execute()\n\nmeshing.workflow.TaskObject[\"Describe Geometry\"].UpdateChildTasks(SetupTypeChanged=True)\nmeshing.workflow.TaskObject[\"Describe Geometry\"].Arguments.setState(\n    {\n        r\"CappingRequired\": r\"No\",\n        r\"InvokeShareTopology\": r\"No\",\n        r\"NonConformal\": r\"Yes\",\n        r\"SetupType\": r\"The geometry consists of both fluid and solid regions and/or voids\",\n    }\n)\n\nmeshing.workflow.TaskObject[\"Describe Geometry\"].Execute()"
      ]
    },
    {
      "cell_type": "markdown",
      "metadata": {},
      "source": [
        "## Update Interface Boundaries; Create Region\n\n"
      ]
    },
    {
      "cell_type": "code",
      "execution_count": null,
      "metadata": {
        "collapsed": false
      },
      "outputs": [],
      "source": [
        "meshing.workflow.TaskObject[\"Update Boundaries\"].Arguments.setState(\n    {\n        r\"BoundaryLabelList\": [\n            r\"interface-out-solid-a\",\n            r\"interface-out-high-a\",\n            r\"interface-out-low-a\",\n            r\"interface-4-solid-sweep\",\n            r\"interface-4-high-sweep\",\n            r\"interface-4-low-sweep\",\n            r\"interface-3-solid-sweep\",\n            r\"interface-3-high-sweep\",\n            r\"interface-3-low-sweep\",\n            r\"interface-2-solid-sweep\",\n            r\"interface-2-high-sweep\",\n            r\"interface-2-low-sweep\",\n            r\"interface-1-solid-sweep\",\n            r\"interface-1-high-sweep\",\n            r\"interface-1-low-sweep\",\n            r\"interface-solid-in-a\",\n            r\"interface-in-high-a\",\n            r\"interface-in-low-a\",\n            r\"interface-tube-2-solid-a\",\n            r\"interface-tube-2-high-a\",\n            r\"interface-tube-2-low-a\",\n            r\"interface-tube-1-solid-a\",\n            r\"interface-tube-1-high-a\",\n            r\"interface-tube-1-low-a\",\n            r\"interface-4-fluid-high-tet\",\n            r\"interface-4-fluid-low-tet\",\n            r\"interface-3-fluid-low-tet\",\n            r\"interface-3-fluid-high-tet\",\n            r\"interface-2-fluid-high-tet\",\n            r\"interface-2-fluid-low-tet\",\n            r\"interface-1-fluid-high-tet\",\n            r\"interface-1-fluid-low-tet\",\n            r\"interface-1-solid-tet-4\",\n            r\"interface-1-solid-tet-3\",\n            r\"interface-1-solid-tet-2\",\n            r\"interface-1-solid-tet-1\",\n        ],\n        r\"BoundaryLabelTypeList\": [\n            r\"interface\",\n            r\"interface\",\n            r\"interface\",\n            r\"interface\",\n            r\"interface\",\n            r\"interface\",\n            r\"interface\",\n            r\"interface\",\n            r\"interface\",\n            r\"interface\",\n            r\"interface\",\n            r\"interface\",\n            r\"interface\",\n            r\"interface\",\n            r\"interface\",\n            r\"interface\",\n            r\"interface\",\n            r\"interface\",\n            r\"interface\",\n            r\"interface\",\n            r\"interface\",\n            r\"interface\",\n            r\"interface\",\n            r\"interface\",\n            r\"interface\",\n            r\"interface\",\n            r\"interface\",\n            r\"interface\",\n            r\"interface\",\n            r\"interface\",\n            r\"interface\",\n            r\"interface\",\n            r\"interface\",\n            r\"interface\",\n            r\"interface\",\n            r\"interface\",\n        ],\n        r\"OldBoundaryLabelList\": [\n            r\"interface-out-solid-a\",\n            r\"interface-out-high-a\",\n            r\"interface-out-low-a\",\n            r\"interface-4-solid-sweep\",\n            r\"interface-4-high-sweep\",\n            r\"interface-4-low-sweep\",\n            r\"interface-3-solid-sweep\",\n            r\"interface-3-high-sweep\",\n            r\"interface-3-low-sweep\",\n            r\"interface-2-solid-sweep\",\n            r\"interface-2-high-sweep\",\n            r\"interface-2-low-sweep\",\n            r\"interface-1-solid-sweep\",\n            r\"interface-1-high-sweep\",\n            r\"interface-1-low-sweep\",\n            r\"interface-solid-in-a\",\n            r\"interface-in-high-a\",\n            r\"interface-in-low-a\",\n            r\"interface-tube-2-solid-a\",\n            r\"interface-tube-2-high-a\",\n            r\"interface-tube-2-low-a\",\n            r\"interface-tube-1-solid-a\",\n            r\"interface-tube-1-high-a\",\n            r\"interface-tube-1-low-a\",\n            r\"interface-4-fluid-high-tet\",\n            r\"interface-4-fluid-low-tet\",\n            r\"interface-3-fluid-low-tet\",\n            r\"interface-3-fluid-high-tet\",\n            r\"interface-2-fluid-high-tet\",\n            r\"interface-2-fluid-low-tet\",\n            r\"interface-1-fluid-high-tet\",\n            r\"interface-1-fluid-low-tet\",\n            r\"interface-1-solid-tet-4\",\n            r\"interface-1-solid-tet-3\",\n            r\"interface-1-solid-tet-2\",\n            r\"interface-1-solid-tet-1\",\n        ],\n        r\"OldBoundaryLabelTypeList\": [\n            r\"wall\",\n            r\"wall\",\n            r\"wall\",\n            r\"wall\",\n            r\"wall\",\n            r\"wall\",\n            r\"wall\",\n            r\"wall\",\n            r\"wall\",\n            r\"wall\",\n            r\"wall\",\n            r\"wall\",\n            r\"wall\",\n            r\"wall\",\n            r\"wall\",\n            r\"wall\",\n            r\"wall\",\n            r\"wall\",\n            r\"wall\",\n            r\"wall\",\n            r\"wall\",\n            r\"wall\",\n            r\"wall\",\n            r\"wall\",\n            r\"wall\",\n            r\"wall\",\n            r\"wall\",\n            r\"wall\",\n            r\"wall\",\n            r\"wall\",\n            r\"wall\",\n            r\"wall\",\n            r\"wall\",\n            r\"wall\",\n            r\"wall\",\n            r\"wall\",\n        ],\n        r\"OldLabelZoneList\": [\n            r\"interface-out-solid-a\",\n            r\"interface-out-high-a\",\n            r\"interface-out-low-a\",\n            r\"interface-4-solid-sweep\",\n            r\"interface-4-high-sweep\",\n            r\"interface-4-low-sweep\",\n            r\"interface-3-solid-sweep\",\n            r\"interface-3-high-sweep\",\n            r\"interface-3-low-sweep\",\n            r\"interface-2-solid-sweep\",\n            r\"interface-2-high-sweep\",\n            r\"interface-2-low-sweep\",\n            r\"interface-1-solid-sweep\",\n            r\"interface-1-high-sweep\",\n            r\"interface-1-low-sweep\",\n            r\"interface-solid-in-a\",\n            r\"interface-in-high-a\",\n            r\"interface-in-low-a\",\n            r\"interface-tube-2-solid-a.2\",\n            r\"interface-tube-2-solid-a.1\",\n            r\"interface-tube-2-solid-a\",\n            r\"interface-tube-2-high-a.2\",\n            r\"interface-tube-2-high-a.1\",\n            r\"interface-tube-2-high-a\",\n            r\"interface-tube-2-low-a.2\",\n            r\"interface-tube-2-low-a.1\",\n            r\"interface-tube-2-low-a\",\n            r\"interface-tube-1-solid-a.2\",\n            r\"interface-tube-1-solid-a.1\",\n            r\"interface-tube-1-solid-a\",\n            r\"interface-tube-1-high-a.2\",\n            r\"interface-tube-1-high-a.1\",\n            r\"interface-tube-1-high-a\",\n            r\"interface-tube-1-low-a.2\",\n            r\"interface-tube-1-low-a.1\",\n            r\"interface-tube-1-low-a\",\n            r\"interface-4-fluid-high-tet\",\n            r\"interface-4-fluid-low-tet\",\n            r\"interface-3-fluid-low-tet\",\n            r\"interface-3-fluid-high-tet\",\n            r\"interface-2-fluid-high-tet\",\n            r\"interface-2-fluid-low-tet\",\n            r\"interface-1-fluid-high-tet\",\n            r\"interface-1-fluid-low-tet\",\n            r\"interface-1-solid-tet-4\",\n            r\"interface-1-solid-tet-3\",\n            r\"interface-1-solid-tet-2\",\n            r\"interface-1-solid-tet-1\",\n        ],\n    }\n)\n\nmeshing.workflow.TaskObject[\"Update Boundaries\"].Execute()\n\nmeshing.workflow.TaskObject[\"Create Regions\"].Execute()"
      ]
    },
    {
      "cell_type": "markdown",
      "metadata": {},
      "source": [
        "## Custom Journal for Creating Periodicity due to Non-Conformal Objects\n\n"
      ]
    },
    {
      "cell_type": "code",
      "execution_count": null,
      "metadata": {
        "collapsed": false
      },
      "outputs": [],
      "source": [
        "meshing.workflow.TaskObject[\"Describe Geometry\"].InsertNextTask(\n    CommandName=r\"RunCustomJournal\"\n)\nmeshing.workflow.TaskObject[\"Run Custom Journal\"].Rename(NewName=r\"set-periodicity\")\nmeshing.workflow.TaskObject[\"set-periodicity\"].Arguments = dict(\n    {\n        r\"JournalString\": r\"\"\"/bo rps translational semi-auto periodic-1-high periodic-2-high periodic-3-high periodic-4-high , 0 0 -2.3\n/bo rps translational semi-auto periodic-5* , 0 0 -2.3\n/bo rps translational semi-auto periodic-6-high , 0 0 -2.3\n/bo rps translational semi-auto periodic-7-high , 0 0 -2.3\n\"\"\",\n    }\n)\n\nmeshing.workflow.TaskObject[\"set-periodicity\"].Execute()"
      ]
    },
    {
      "cell_type": "markdown",
      "metadata": {},
      "source": [
        "## Update Boundary Layer Task\n\n"
      ]
    },
    {
      "cell_type": "code",
      "execution_count": null,
      "metadata": {
        "collapsed": false
      },
      "outputs": [],
      "source": [
        "meshing.workflow.TaskObject[\"Update Regions\"].Execute()\nmeshing.workflow.TaskObject[\"Add Boundary Layers\"].AddChildToTask()\nmeshing.workflow.TaskObject[\"Add Boundary Layers\"].InsertCompoundChildTask()\nmeshing.workflow.TaskObject[\"smooth-transition_1\"].Rename(NewName=r\"aspect-ratio_1\")\n\nmeshing.workflow.TaskObject[\"aspect-ratio_1\"].Arguments.setState(\n    {\n        \"BLControlName\": r\"aspect-ratio_1\",\n        \"BLRegionList\": [\n            r\"fluid-tet-4\",\n            r\"fluid-tet-3\",\n            r\"fluid-tet-2\",\n            r\"fluid-tet-1\",\n            r\"fluid-sweep-fin2\",\n            r\"fluid-sweep-fin1\",\n            r\"fluid-sweep-fin5\",\n            r\"fluid-sweep-fin3\",\n            r\"fluid-sweep-fin6\",\n            r\"fluid-sweep-fin4\",\n            r\"fluid-in\",\n            r\"fluid-out\",\n        ],\n        r\"BLZoneList\": [\n            r\"wall-fluid-tet-4-solid-tet-4\",\n            r\"wall-fluid-tet-3-solid-tet-3\",\n            r\"wall-fluid-tet-2-solid-tet-2\",\n            r\"wall-fluid-tet-2-solid-tet-2-wall-fluid-tet-3-solid-tet-3-fluid-tet-2-solid-tet-2\",\n            r\"wall-fluid-tet-1-solid-tet-1\",\n            r\"wall-fluid-sweep-fin-solid-sweep-fin.1\",\n            r\"wall-fluid-sweep-fin-solid-sweep-fin\",\n            r\"wall-fluid-sweep-fin-solid-sweep-fin.5\",\n            r\"wall-fluid-sweep-fin-solid-sweep-fin.4\",\n            r\"wall-fluid-sweep-fin-solid-sweep-fin.3\",\n            r\"wall-fluid-sweep-fin-solid-sweep-fin.2\",\n        ],\n        r\"BlLabelList\": r\"wall*\",\n        r\"CompleteBlLabelList\": [\n            r\"wall-fluid-sweep-fin-solid-sweep-fin\",\n            r\"wall-fluid-tet-1-solid-tet-1\",\n            r\"wall-fluid-tet-2-solid-tet-2\",\n            r\"wall-fluid-tet-3-solid-tet-3\",\n            r\"wall-fluid-tet-4-solid-tet-4\",\n        ],\n        r\"FaceScope\": {\n            r\"GrowOn\": r\"selected-labels\",\n        },\n        r\"OffsetMethodType\": r\"aspect-ratio\",\n    }\n)\n\nmeshing.workflow.TaskObject[\"aspect-ratio_1\"].Execute()"
      ]
    },
    {
      "cell_type": "markdown",
      "metadata": {},
      "source": [
        "## Generate Mesh\n\n"
      ]
    },
    {
      "cell_type": "code",
      "execution_count": null,
      "metadata": {
        "collapsed": false
      },
      "outputs": [],
      "source": [
        "meshing.workflow.TaskObject[\"Generate the Volume Mesh\"].Execute()"
      ]
    },
    {
      "cell_type": "markdown",
      "metadata": {},
      "source": [
        "## Improve Volume Mesh\n\n"
      ]
    },
    {
      "cell_type": "code",
      "execution_count": null,
      "metadata": {
        "collapsed": false
      },
      "outputs": [],
      "source": [
        "meshing.workflow.TaskObject[\"Generate the Volume Mesh\"].InsertNextTask(\n    CommandName=r\"ImproveVolumeMesh\"\n)\n\nmeshing.workflow.TaskObject[\"Improve Volume Mesh\"].Arguments.setState(\n    {\n        r\"CellQualityLimit\": 0.05,\n        r\"VMImprovePreferences\": {\n            r\"ShowVMImprovePreferences\": False,\n            r\"VIQualityIterations\": 5,\n            r\"VIQualityMinAngle\": 0,\n            r\"VIgnoreFeature\": r\"yes\",\n        },\n    }\n)\n\nmeshing.workflow.TaskObject[\"Improve Volume Mesh\"].Execute()"
      ]
    },
    {
      "cell_type": "markdown",
      "metadata": {},
      "source": [
        "## Save Mesh File\n\n"
      ]
    },
    {
      "cell_type": "code",
      "execution_count": null,
      "metadata": {
        "collapsed": false
      },
      "outputs": [],
      "source": [
        "save_mesh_as = str(Path(pyfluent.EXAMPLES_PATH) / \"hx-fin-2mm.msh.h5\")\nmeshing.tui.file.write_mesh(save_mesh_as)"
      ]
    },
    {
      "cell_type": "markdown",
      "metadata": {},
      "source": [
        "## Switch to Solution Mode\n\n"
      ]
    },
    {
      "cell_type": "code",
      "execution_count": null,
      "metadata": {
        "collapsed": false
      },
      "outputs": [],
      "source": [
        "solver = meshing.switch_to_solver()"
      ]
    },
    {
      "cell_type": "markdown",
      "metadata": {},
      "source": [
        "## Auto-create Mesh Interfaces\n\n"
      ]
    },
    {
      "cell_type": "code",
      "execution_count": null,
      "metadata": {
        "collapsed": false
      },
      "outputs": [],
      "source": [
        "solver.tui.define.mesh_interfaces.create(\"int\", \"yes\", \"no\")"
      ]
    },
    {
      "cell_type": "markdown",
      "metadata": {},
      "source": [
        "## Mesh Check; Review Fluent transcript for errors\n\n"
      ]
    },
    {
      "cell_type": "code",
      "execution_count": null,
      "metadata": {
        "collapsed": false
      },
      "outputs": [],
      "source": [
        "solver.mesh.check()"
      ]
    },
    {
      "cell_type": "markdown",
      "metadata": {},
      "source": [
        "## Create a few boundary list for display and post-processing\n\n"
      ]
    },
    {
      "cell_type": "code",
      "execution_count": null,
      "metadata": {
        "collapsed": false
      },
      "outputs": [],
      "source": [
        "graphics_session1 = Graphics(solver)\nmesh1 = graphics_session1.Meshes[\"mesh-1\"]\n\nwall_list = []\nperiodic_list = []\nsymmetry_list = []\n\nfor item in mesh1.surfaces_list.allowed_values:\n    if len(item.split(\"wall\")) > 1:\n        wall_list.append(item)\n    if len(item.split(\"periodic\")) > 1:\n        periodic_list.append(item)\n    if len(item.split(\"symmetry\")) > 1:\n        symmetry_list.append(item)"
      ]
    },
    {
      "cell_type": "markdown",
      "metadata": {},
      "source": [
        "## Display Mesh\n\n"
      ]
    },
    {
      "cell_type": "code",
      "execution_count": null,
      "metadata": {
        "collapsed": false
      },
      "outputs": [],
      "source": [
        "mesh1.show_edges = True\nmesh1.surfaces_list = wall_list\nmesh1.display(\"window-1\")\np = pyvista_windows_manager.get_plotter(\"window-1\")\np.view_isometric()\np.add_axes()\np.add_floor(offset=1, show_edges=False)\nlight = pv.Light(light_type=\"headlight\")\np.add_light(light)"
      ]
    },
    {
      "cell_type": "markdown",
      "metadata": {},
      "source": [
        "## Temperature, Energy, Laminar Viscous Model\n* Set Temperature Unit\n* Enable Energy Equation\n* Enable Laminar Viscous Model\n\n"
      ]
    },
    {
      "cell_type": "code",
      "execution_count": null,
      "metadata": {
        "collapsed": false
      },
      "outputs": [],
      "source": [
        "solver.setup.general.units.set_units(\n    quantity=\"temperature\", units_name=\"c\", scale_factor=1.0, offset=0.0\n)\nsolver.setup.models.energy.enabled = True\nsolver.setup.models.viscous.model.set_state(\"laminar\")"
      ]
    },
    {
      "cell_type": "markdown",
      "metadata": {},
      "source": [
        "## Change a few material properties of default Air\n\n"
      ]
    },
    {
      "cell_type": "code",
      "execution_count": null,
      "metadata": {
        "collapsed": false
      },
      "outputs": [],
      "source": [
        "air_dict = solver.setup.materials.fluid[\"air\"].get_state()\nair_dict[\"density\"][\"value\"] = 1.2\nair_dict[\"viscosity\"][\"value\"] = 1.5e-5\nair_dict[\"thermal_conductivity\"][\"value\"] = 0.026\nair_dict[\"specific_heat\"][\"value\"] = 1006.0\nsolver.setup.materials.fluid[\"air\"].set_state(air_dict)"
      ]
    },
    {
      "cell_type": "markdown",
      "metadata": {},
      "source": [
        "## Change a few material properties of default Aluminum\n\n"
      ]
    },
    {
      "cell_type": "code",
      "execution_count": null,
      "metadata": {
        "collapsed": false
      },
      "outputs": [],
      "source": [
        "al_dict = solver.setup.materials.solid[\"aluminum\"].get_state()\nal_dict[\"density\"][\"value\"] = 2719.0\nal_dict[\"thermal_conductivity\"][\"value\"] = 200.0\nal_dict[\"specific_heat\"][\"value\"] = 871.0\nsolver.setup.materials.solid[\"aluminum\"].set_state(al_dict)"
      ]
    },
    {
      "cell_type": "markdown",
      "metadata": {},
      "source": [
        "## Copy Copper and change a few material properties of default Copper\n\n"
      ]
    },
    {
      "cell_type": "code",
      "execution_count": null,
      "metadata": {
        "collapsed": false
      },
      "outputs": [],
      "source": [
        "solver.setup.materials.database.copy_by_name(type=\"solid\", name=\"copper\")\ncu_dict = solver.setup.materials.solid[\"copper\"].get_state()\ncu_dict[\"density\"][\"value\"] = 8978.0\ncu_dict[\"thermal_conductivity\"][\"value\"] = 340.0\ncu_dict[\"specific_heat\"][\"value\"] = 381.0\nsolver.setup.materials.solid[\"copper\"].set_state(cu_dict)"
      ]
    },
    {
      "cell_type": "markdown",
      "metadata": {},
      "source": [
        "## Set Tube Cell Zone Material as Copper\n\n"
      ]
    },
    {
      "cell_type": "code",
      "execution_count": null,
      "metadata": {
        "collapsed": false
      },
      "outputs": [],
      "source": [
        "tube_dict = solver.setup.cell_zone_conditions.solid[\"solid-tube-1\"].get_state()\ntube_dict[\"material\"] = \"copper\"\nsolver.setup.cell_zone_conditions.solid[\"solid-tube-1\"].set_state(tube_dict)\n\ntube_dict = solver.setup.cell_zone_conditions.solid[\"solid-tube-2\"].get_state()\ntube_dict[\"material\"] = \"copper\"\nsolver.setup.cell_zone_conditions.solid[\"solid-tube-2\"].set_state(tube_dict)"
      ]
    },
    {
      "cell_type": "markdown",
      "metadata": {},
      "source": [
        "## Set Boundary Condition for Inlet and Outlet\n\n"
      ]
    },
    {
      "cell_type": "code",
      "execution_count": null,
      "metadata": {
        "collapsed": false
      },
      "outputs": [],
      "source": [
        "solver.setup.boundary_conditions.velocity_inlet[\"inlet\"].momentum.velocity = 4.0\nsolver.setup.boundary_conditions.velocity_inlet[\"inlet\"].thermal.temperature = (\n    293.15  # Need to specify in Kelvin\n)\n\nsolver.setup.boundary_conditions.pressure_outlet[\n    \"outlet\"\n].thermal.backflow_total_temperature = 293.15"
      ]
    },
    {
      "cell_type": "markdown",
      "metadata": {},
      "source": [
        "## Set Thermal Boundary Condition for Wall Inner Tube\n\n"
      ]
    },
    {
      "cell_type": "code",
      "execution_count": null,
      "metadata": {
        "collapsed": false
      },
      "outputs": [],
      "source": [
        "solver.setup.boundary_conditions.wall[\"wall-inner-tube-1\"].thermal.thermal_condition = (\n    \"Convection\"\n)\nsolver.setup.boundary_conditions.wall[\n    \"wall-inner-tube-1\"\n].thermal.heat_transfer_coeff = 1050.0\nsolver.setup.boundary_conditions.wall[\"wall-inner-tube-1\"].thermal.free_stream_temp = (\n    353.15\n)\n\nsolver.setup.boundary_conditions.copy(from_=\"wall-inner-tube-1\", to=\"wall-inner-tube-2\")"
      ]
    },
    {
      "cell_type": "markdown",
      "metadata": {},
      "source": [
        "## Enable HOTR\n\n"
      ]
    },
    {
      "cell_type": "code",
      "execution_count": null,
      "metadata": {
        "collapsed": false
      },
      "outputs": [],
      "source": [
        "solver.solution.methods.high_order_term_relaxation.enable = True"
      ]
    },
    {
      "cell_type": "markdown",
      "metadata": {},
      "source": [
        "## Define Report Definitions\n\n"
      ]
    },
    {
      "cell_type": "code",
      "execution_count": null,
      "metadata": {
        "collapsed": false
      },
      "outputs": [],
      "source": [
        "solver.solution.report_definitions.surface[\"outlet-enthalpy-flow\"] = {}\nsolver.solution.report_definitions.surface[\"outlet-enthalpy-flow\"].report_type = (\n    \"surface-flowrate\"\n)\nsolver.solution.report_definitions.surface[\"outlet-enthalpy-flow\"].field = \"enthalpy\"\nsolver.solution.report_definitions.surface[\"outlet-enthalpy-flow\"].surface_names = [\n    \"outlet\"\n]\n\nsolver.solution.report_definitions.surface[\"avg-pressure-inlet\"] = {}\nsolver.solution.report_definitions.surface[\"avg-pressure-inlet\"].report_type = (\n    \"surface-areaavg\"\n)\nsolver.solution.report_definitions.surface[\"avg-pressure-inlet\"].field = \"pressure\"\nsolver.solution.report_definitions.surface[\"avg-pressure-inlet\"].surface_names = [\n    \"inlet\"\n]\n\nsolver.solution.report_definitions.volume[\"max-vel-louvers4\"] = {}\nsolver.solution.report_definitions.volume[\"max-vel-louvers4\"].report_type = \"volume-max\"\nsolver.solution.report_definitions.volume[\"max-vel-louvers4\"].field = (\n    \"velocity-magnitude\"\n)\nsolver.solution.report_definitions.volume[\"max-vel-louvers4\"].cell_zones = [\n    \"fluid-tet-4\"\n]\n\nsolver.solution.report_definitions.surface[\"wall-shear-int\"] = {}\nsolver.solution.report_definitions.surface[\"wall-shear-int\"].report_type = (\n    \"surface-integral\"\n)\nsolver.solution.report_definitions.surface[\"wall-shear-int\"].field = \"wall-shear\"\nsolver.solution.report_definitions.surface[\"wall-shear-int\"].surface_names = [\n    \"wall-fluid-sweep-fin-solid-sweep-fin-shadow\",\n    \"wall-fluid-tet-1-solid-tet-1\",\n    \"wall-fluid-tet-2-solid-tet-2\",\n    \"wall-fluid-tet-3-solid-tet-3\",\n    \"wall-fluid-tet-4-solid-tet-4\",\n]\n\nsolver.solution.monitor.report_plots.create(name=\"outlet-enthalpy-flow-plot\")\nsolver.solution.monitor.report_plots[\"outlet-enthalpy-flow-plot\"].report_defs = (\n    \"outlet-enthalpy-flow\"\n)\n\nsolver.solution.monitor.report_files[\"outlet-enthalpy-flow-file\"] = {}\nsolver.solution.monitor.report_files[\"outlet-enthalpy-flow-file\"] = {\n    \"report_defs\": [\"outlet-enthalpy-flow\"],\n    \"file_name\": r\"outlet-enthalpy-flow.out\",\n}\n\nsolver.solution.monitor.report_plots[\"avg-pressure-inlet-plot\"] = {}\nsolver.solution.monitor.report_plots[\"avg-pressure-inlet-plot\"] = {\n    \"report_defs\": [\"avg-pressure-inlet\"]\n}\n\nsolver.solution.monitor.report_files[\"avg-pressure-inlet-file\"] = {}\nsolver.solution.monitor.report_files[\"avg-pressure-inlet-file\"] = {\n    \"report_defs\": [\"avg-pressure-inlet\"],\n    \"file_name\": r\"avg-pressure-inlet.out\",\n}\n\nsolver.solution.monitor.report_plots[\"max-vel-louvers4-plot\"] = {}\nsolver.solution.monitor.report_plots[\"max-vel-louvers4-plot\"] = {\n    \"report_defs\": [\"max-vel-louvers4\"]\n}\n\nsolver.solution.monitor.report_files[\"max-vel-louvers4-file\"] = {}\nsolver.solution.monitor.report_files[\"max-vel-louvers4-file\"] = {\n    \"report_defs\": [\"max-vel-louvers4\"],\n    \"file_name\": r\"max-vel-louvers4.out\",\n}\n\nsolver.solution.monitor.report_plots[\"wall-shear-int-plot\"] = {}\nsolver.solution.monitor.report_plots[\"wall-shear-int-plot\"] = {\n    \"report_defs\": [\"wall-shear-int\"]\n}\n\nsolver.solution.monitor.report_files[\"wall-shear-int-file\"] = {}\nsolver.solution.monitor.report_files[\"wall-shear-int-file\"] = {\n    \"report_defs\": [\"wall-shear-int\"],\n    \"file_name\": r\"wall-shear-int.out\",\n}"
      ]
    },
    {
      "cell_type": "markdown",
      "metadata": {},
      "source": [
        "## Hybrid Initialization; Slit Interior between Solid Zones; Save Case\n\n"
      ]
    },
    {
      "cell_type": "code",
      "execution_count": null,
      "metadata": {
        "collapsed": false
      },
      "outputs": [],
      "source": [
        "solver.solution.initialization.initialization_type = \"hybrid\"\nsolver.solution.initialization.hybrid_initialize()\n\nsolver.setup.boundary_conditions.slit_interior_between_diff_solids()\nsolver.file.write(file_type=\"case\", file_name=\"hx-fin-2mm.cas.h5\")"
      ]
    },
    {
      "cell_type": "markdown",
      "metadata": {},
      "source": [
        "## Set Aggressive Length Scale Method; Run Calculation & Save Data\n\n"
      ]
    },
    {
      "cell_type": "code",
      "execution_count": null,
      "metadata": {
        "collapsed": false
      },
      "outputs": [],
      "source": [
        "solver.solution.run_calculation.pseudo_time_settings.time_step_method.time_step_method = (\n    \"automatic\"\n)\nsolver.solution.run_calculation.pseudo_time_settings.time_step_method.length_scale_methods = (\n    \"aggressive\"\n)\n\nsolver.solution.run_calculation.iterate(iter_count=250)\n\nsolver.file.write(file_type=\"case-data\", file_name=\"hx-fin-2mm.dat.h5\")"
      ]
    },
    {
      "cell_type": "markdown",
      "metadata": {},
      "source": [
        "## Post-Processing Mass Balance Report\n\n"
      ]
    },
    {
      "cell_type": "code",
      "execution_count": null,
      "metadata": {
        "collapsed": false
      },
      "outputs": [],
      "source": [
        "inlet_mfr = solver.scheme_eval.exec(\n    ('(ti-menu-load-string \"/report/fluxes/mass-flow no inlet () no\")',)\n).split(\" \")[-1]\noutlet_mfr = solver.scheme_eval.exec(\n    ('(ti-menu-load-string \"/report/fluxes/mass-flow no outlet () no\")',)\n).split(\" \")[-1]\nnet_mfr = solver.scheme_eval.exec(\n    ('(ti-menu-load-string \"/report/fluxes/mass-flow no inlet outlet () no\")',)\n).split(\" \")[-1]\nprint(\"Mass Balance Report\\n\")\nprint(\"Inlet (kg/s): \", inlet_mfr)\nprint(\"Outlet (kg/s): \", outlet_mfr)\nprint(\"Net (kg/s): \", net_mfr)"
      ]
    },
    {
      "cell_type": "markdown",
      "metadata": {},
      "source": [
        "## Heat Balance Report\n\n"
      ]
    },
    {
      "cell_type": "code",
      "execution_count": null,
      "metadata": {
        "collapsed": false
      },
      "outputs": [],
      "source": [
        "htr = solver.scheme_eval.exec(\n    ('(ti-menu-load-string \"/report/fluxes/heat-transfer yes no\")',)\n).split(\" \")[-1]\nprint(\"Heat Balance Report\\n\")\nprint(\"Net Imbalance (Watt): \", htr)"
      ]
    },
    {
      "cell_type": "markdown",
      "metadata": {},
      "source": [
        "## Plot Monitors\n\n"
      ]
    },
    {
      "cell_type": "code",
      "execution_count": null,
      "metadata": {
        "collapsed": false
      },
      "outputs": [],
      "source": [
        "fig, axs = plt.subplots(2, 2, figsize=(10, 8))\nfig.suptitle(\"Monitor Plots\")\n\noutFilesList = []\nfileList = os.listdir(os.getcwd())\nfor tempFile in fileList:\n    fName, ext = os.path.splitext(tempFile)\n    if ext == \".out\":\n        outFilesList.append(tempFile)\noutFilesList.sort()\n\nindex = 0\nfor ax in axs.flat:\n    X = []\n    Y = []\n    i = -1\n    with open(outFilesList[index], \"r\") as datafile:\n        plotting = csv.reader(datafile, delimiter=\" \")\n        for rows in plotting:\n            i += 1\n            if i == 1:\n                var = rows[1]\n            if i > 2:\n                X.append(int(rows[0]))\n                Y.append(float(rows[1]))\n\n    ax.plot(X, Y)\n    ax.set(xlabel=\"Iteration\", ylabel=var, title=var)\n    index += 1\n\nplt.tight_layout()"
      ]
    },
    {
      "cell_type": "markdown",
      "metadata": {},
      "source": [
        "## Show graph\n\n"
      ]
    },
    {
      "cell_type": "code",
      "execution_count": null,
      "metadata": {
        "collapsed": false
      },
      "outputs": [],
      "source": [
        "plt.show()"
      ]
    },
    {
      "cell_type": "markdown",
      "metadata": {},
      "source": [
        "<img src=\"file://../../_static/cht_avg_pressure.png\" align=\"center\" alt=\"Average Pressure\">\n\n"
      ]
    },
    {
      "cell_type": "markdown",
      "metadata": {},
      "source": [
        "Average Pressure\n\n"
      ]
    },
    {
      "cell_type": "markdown",
      "metadata": {},
      "source": [
        "## Contour Plot\n\n"
      ]
    },
    {
      "cell_type": "code",
      "execution_count": null,
      "metadata": {
        "collapsed": false
      },
      "outputs": [],
      "source": [
        "graphics_session1 = Graphics(solver)\ncontour1 = graphics_session1.Contours[\"contour-1\"]\ncontour1.field = \"temperature\"\ncontour1.surfaces_list = wall_list\ncontour1.display(\"window-2\")\n\np = pyvista_windows_manager.get_plotter(\"window-2\")\np.view_isometric()\np.add_axes()\np.add_floor(offset=1, show_edges=False)\np.add_title(\n    \"Contour of Temperature on Walls\", font=\"courier\", color=\"grey\", font_size=10\n)\nlight = pv.Light(light_type=\"headlight\")\np.add_light(light)\n\np.remove_scalar_bar()\np.add_scalar_bar(\n    \"Temperature [K]\",\n    interactive=True,\n    vertical=False,\n    title_font_size=20,\n    label_font_size=15,\n    outline=False,\n    position_x=0.5,\n    fmt=\"%10.1f\",\n)"
      ]
    },
    {
      "cell_type": "markdown",
      "metadata": {},
      "source": [
        "## Create Iso-Surface of X=0.012826 m\n\n"
      ]
    },
    {
      "cell_type": "code",
      "execution_count": null,
      "metadata": {
        "collapsed": false
      },
      "outputs": [],
      "source": [
        "solver.results.surfaces.iso_surface[\"x=0.012826\"] = {}\nsolver.results.surfaces.iso_surface[\"x=0.012826\"].field = \"x-coordinate\"\nsolver.results.surfaces.iso_surface[\"x=0.012826\"] = {\"iso_values\": [0.012826]}"
      ]
    },
    {
      "cell_type": "markdown",
      "metadata": {},
      "source": [
        "## Vecotor Plot\n\n"
      ]
    },
    {
      "cell_type": "code",
      "execution_count": null,
      "metadata": {
        "collapsed": false
      },
      "outputs": [],
      "source": [
        "graphics_session1 = Graphics(solver)\nvector1 = graphics_session1.Vectors[\"vector-1\"]\nvector1.surfaces_list = [\"x=0.012826\"]\nvector1.scale = 2.0\nvector1.skip = 5\nvector1.display(\"window-3\")\n\np = pyvista_windows_manager.get_plotter(\"window-3\")\np.view_isometric()\np.add_axes()\n# p.add_floor( offset=1, show_edges=False)\np.add_title(\"Vector Plot\", font=\"courier\", color=\"grey\", font_size=10)\nlight = pv.Light(light_type=\"headlight\")\np.add_light(light)\n\np.remove_scalar_bar()\np.add_scalar_bar(\n    \"Velocity [m/s]\",\n    interactive=True,\n    vertical=False,\n    title_font_size=20,\n    label_font_size=15,\n    outline=False,\n    position_x=0.5,\n    fmt=\"%10.1f\",\n)\n\no = PyVistaWindow(None, None)\no._fetch_mesh(mesh1)\no._display_mesh(mesh1, p)"
      ]
    },
    {
      "cell_type": "markdown",
      "metadata": {},
      "source": [
        "## XY Plot of Pressure\n\n"
      ]
    },
    {
      "cell_type": "code",
      "execution_count": null,
      "metadata": {
        "collapsed": false
      },
      "outputs": [],
      "source": [
        "plots_session1 = Plots(solver)\np1 = plots_session1.XYPlots[\"p1\"]\np1.surfaces_list = [\"x=0.012826\"]\np1.y_axis_function = \"pressure\"\np1.x_axis_function = \"direction-vector\"\np1.direction_vector.set_state([0, 1, 0])"
      ]
    },
    {
      "cell_type": "markdown",
      "metadata": {},
      "source": [
        "## Show graph\n\n"
      ]
    },
    {
      "cell_type": "code",
      "execution_count": null,
      "metadata": {
        "collapsed": false
      },
      "outputs": [],
      "source": [
        "p1.plot(\"p1\")"
      ]
    },
    {
      "cell_type": "markdown",
      "metadata": {},
      "source": [
        "<img src=\"file://../../_static/cht_xy_pressure.png\" align=\"center\" alt=\"XY Plot of Pressure\">\n\n"
      ]
    },
    {
      "cell_type": "markdown",
      "metadata": {},
      "source": [
        "XY Plot of Pressure\n\n"
      ]
    },
    {
      "cell_type": "markdown",
      "metadata": {},
      "source": [
        "## Exit Fluent Session\n\n"
      ]
    },
    {
      "cell_type": "code",
      "execution_count": null,
      "metadata": {
        "collapsed": false
      },
      "outputs": [],
      "source": [
        "solver.exit()"
      ]
    }
  ],
  "metadata": {
    "kernelspec": {
      "display_name": "Python 3",
      "language": "python",
      "name": "python3"
    },
    "language_info": {
      "codemirror_mode": {
        "name": "ipython",
        "version": 3
      },
      "file_extension": ".py",
      "mimetype": "text/x-python",
      "name": "python",
      "nbconvert_exporter": "python",
      "pygments_lexer": "ipython3",
      "version": "3.11.11"
    }
  },
  "nbformat": 4,
  "nbformat_minor": 0
}