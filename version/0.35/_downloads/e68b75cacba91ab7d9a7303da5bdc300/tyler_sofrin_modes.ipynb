{
  "cells": [
    {
      "cell_type": "markdown",
      "metadata": {},
      "source": [
        "\n# Tyler-Sofrin Compressor Modes Post-Processing\n"
      ]
    },
    {
      "cell_type": "markdown",
      "metadata": {},
      "source": [
        "## Objective\n\nThis example demonstrates PyFluent API's for\n\n* Read a case and data file\n* Create monitor points to calculate Fourier coefficients\n* Write Fourier coefficients to a file\n* Tyler-Sofrin mode Plot using the matplotlib library\n\n## Background\n\nTyler and Sofrin (1961) demonstrated that interactions between a rotor and a\nstator result in an infinite set of spinning modes. Each Tyler-Sofrin (TS)\nmode exhibits an m-lobed pattern and rotates at a speed given by the\nfollowing equation:\n\n$\\text{speed} = \\frac{Bn\u03a9}{m}$\nWhere:\n\n* m is the Tyler-Sofrin mode number, defined as 'm = nB + kV'\n* n is the impeller frequency harmonic\n* k is the vane harmonic\n* B is the number of rotating blades\n* V is the number of stationary vanes\n* \u03a9 is the Rotor shaft speed, rad/s\n\nExample:\n\n        * 8-blade rotor interacting with a 6-vane stator\n        * 2-lobed pattern turning at (8)(1)/(2) = 4 times shaft speed\n\n\n## Example Table\n\n<img src=\"file://../../_static/ExampleTable.jpg\" alt=\"Example Table\">\n\n\n## Tyler-Sofrin Modes\n\n<img src=\"file://../../_static/TSmode.jpg\" alt=\"Tyler-Sofrin Modes\">\n\n"
      ]
    },
    {
      "cell_type": "markdown",
      "metadata": {},
      "source": [
        "## Example Note: Discrete Fourier Transform (DFT)\n\n  + In order to calculate the pressure related to each TS-mode, extend the\n    simulation and perform the DFT of pressure at the desired blade passing\n    frequency harmonics.\n\n  + Disable the Hanning windowing (specifically for periodic flows like\n    this one) to avoid getting half the expected magnitudes for periodic flows.\n    Make sure to set the windowing parameter to 'None' when specifying\n    the Discrete Fourier Transform (DFT) in the graphical user interface (GUI).\n\n  + The DFT data will only be accurate if the sampling is done across the\n    entire specified sampling period.\n\n\n<div class=\"alert alert-info\"><h4>Note</h4><p>The .cas/.dat file provided with this example is for demonstration purposes only.\n  A finer mesh is necessary for accurate acoustic analysis. This example uses data\n  sets generated with Ansys Fluent V2023R2.</p></div>\n\n"
      ]
    },
    {
      "cell_type": "markdown",
      "metadata": {},
      "source": [
        "## Post-Processing Implementation\n\n"
      ]
    },
    {
      "cell_type": "markdown",
      "metadata": {},
      "source": [
        "### Import required libraries/modules\n\n"
      ]
    },
    {
      "cell_type": "code",
      "execution_count": null,
      "metadata": {
        "collapsed": false
      },
      "outputs": [],
      "source": [
        "import math\nimport os\nfrom pathlib import Path\nimport random\n\nimport matplotlib.pyplot as plt\nimport numpy as np\n\nimport ansys.fluent.core as pyfluent\nfrom ansys.fluent.core import examples"
      ]
    },
    {
      "cell_type": "markdown",
      "metadata": {},
      "source": [
        "### Downloading cas/dat file\n\n"
      ]
    },
    {
      "cell_type": "code",
      "execution_count": null,
      "metadata": {
        "collapsed": false
      },
      "outputs": [],
      "source": [
        "import_filename = examples.download_file(\n    \"axial_comp_fullWheel_DFT_23R2.cas.h5\",\n    \"pyfluent/examples/Tyler-Sofrin-Modes-Compressor\",\n    save_path=os.getcwd(),\n)\n\nexamples.download_file(\n    \"axial_comp_fullWheel_DFT_23R2.dat.h5\",\n    \"pyfluent/examples/Tyler-Sofrin-Modes-Compressor\",\n    save_path=os.getcwd(),\n)"
      ]
    },
    {
      "cell_type": "markdown",
      "metadata": {},
      "source": [
        "### Launch Fluent session and print Fluent version\n\n"
      ]
    },
    {
      "cell_type": "code",
      "execution_count": null,
      "metadata": {
        "collapsed": false
      },
      "outputs": [],
      "source": [
        "session = pyfluent.launch_fluent(\n    processor_count=4,\n)\nprint(session.get_fluent_version())"
      ]
    },
    {
      "cell_type": "markdown",
      "metadata": {},
      "source": [
        "### Reading case and data file\n\n<div class=\"alert alert-info\"><h4>Note</h4><p>The dat file should correspond to the already completed DFT simulation.</p></div>\n\n"
      ]
    },
    {
      "cell_type": "code",
      "execution_count": null,
      "metadata": {
        "collapsed": false
      },
      "outputs": [],
      "source": [
        "session.file.read(file_type=\"case-data\", file_name=import_filename)"
      ]
    },
    {
      "cell_type": "markdown",
      "metadata": {},
      "source": [
        "### Define User constant/variables\n\n<div class=\"alert alert-info\"><h4>Note</h4><p>The variable names should match the ones written from the DFT and can be\n  identified by manually examining the solution variables as shown below:</p></div>\n\n<img src=\"file://../../_static/var_names.jpg\" alt=\"variable names\">\n\n"
      ]
    },
    {
      "cell_type": "code",
      "execution_count": null,
      "metadata": {
        "collapsed": false
      },
      "outputs": [],
      "source": [
        "varname = [\n    \"mean-static-pressure-dataset\",\n    \"dft-static-pressure_10.00kHz-ta\",\n    \"dft-static-pressure-1_21.43kHz-ta\",\n    \"dft-static-pressure-2_30.00kHz-ta\",\n]\nn_mode = [0, 1, 2, 3]  # Impeller frequency harmonics\nr = 0.082  # meters\nz = -0.037  # meters\nd_theta = 5  # degrees\nm_max = 50  # maximum TS mode number\n\n# Plot will be from -m_max to +m_max, incremented by m_inc\nm_inc = 2  # TS mode increment"
      ]
    },
    {
      "cell_type": "markdown",
      "metadata": {},
      "source": [
        "### Create monitor points\n\n"
      ]
    },
    {
      "cell_type": "code",
      "execution_count": null,
      "metadata": {
        "collapsed": false
      },
      "outputs": [],
      "source": [
        "for angle in range(0, 360, d_theta):\n    x = math.cos(math.radians(angle)) * r\n    y = math.sin(math.radians(angle)) * r\n    pt_name = \"point-\" + str(angle)\n    session.results.surfaces.point_surface[pt_name] = {}\n    session.results.surfaces.point_surface[pt_name].point = [x, y, z]"
      ]
    },
    {
      "cell_type": "markdown",
      "metadata": {},
      "source": [
        "### Compute Fourier coefficients at each monitor point (An, Bn)\n\n"
      ]
    },
    {
      "cell_type": "code",
      "execution_count": null,
      "metadata": {
        "collapsed": false
      },
      "outputs": [],
      "source": [
        "An = np.zeros((len(varname), int(360 / d_theta)))\nBn = np.zeros((len(varname), int(360 / d_theta)))\n\nfor angle_ind, angle in enumerate(range(0, 360, d_theta)):\n    for n_ind, variable in enumerate(varname):\n        if len(variable) >= 4 and variable[:4] == \"mean\":\n            session.solution.report_definitions.surface[\"mag-report\"] = {\n                \"report_type\": \"surface-vertexavg\",\n                \"surface_names\": [\"point-\" + str(angle)],\n                \"field\": str(variable),\n            }\n            mag = session.solution.report_definitions.compute(\n                report_defs=[\"mag-report\"]\n            )\n            mag = mag[0][\"mag-report\"][0]\n            An[n_ind][angle_ind] = mag\n            Bn[n_ind][angle_ind] = 0\n        else:\n            session.solution.report_definitions.surface[\"mag-report\"] = {\n                \"report_type\": \"surface-vertexavg\",\n                \"surface_names\": [\"point-\" + str(angle)],\n                \"field\": str(variable) + \"-mag\",\n            }\n            mag = session.solution.report_definitions.compute(\n                report_defs=[\"mag-report\"]\n            )\n            mag = mag[0][\"mag-report\"][0]\n            session.solution.report_definitions.surface[\"phase-report\"] = {\n                \"report_type\": \"surface-vertexavg\",\n                \"surface_names\": [\"point-\" + str(angle)],\n                \"field\": str(variable) + \"-phase\",\n            }\n            phase = session.solution.report_definitions.compute(\n                report_defs=[\"phase-report\"]\n            )\n            phase = phase[0][\"phase-report\"][0]\n            An[n_ind][angle_ind] = mag * math.cos(phase)\n            Bn[n_ind][angle_ind] = -mag * math.sin(phase)"
      ]
    },
    {
      "cell_type": "markdown",
      "metadata": {},
      "source": [
        "### Write Fourier coefficients to file\n\n<div class=\"alert alert-info\"><h4>Note</h4><p>This step is only required if data is to be processed with other standalone\n  tools. Update the path to the file accordingly.</p></div>\n\n"
      ]
    },
    {
      "cell_type": "code",
      "execution_count": null,
      "metadata": {
        "collapsed": false
      },
      "outputs": [],
      "source": [
        "fourier_coefficients_file = Path(os.getcwd(), \"FourierCoefficients.txt\")\nwith open(fourier_coefficients_file, \"w\") as f:\n    f.write(\"n theta An Bn \\n\")\n\n    for n_ind, variable in enumerate(varname):\n        for ind, x in enumerate(An[n_ind, :]):\n            f.write(\n                str(n_mode[n_ind])\n                + \",\"\n                + str(ind * d_theta)\n                + \",\"\n                + str(An[n_ind, ind])\n                + \",\"\n                + str(Bn[n_ind, ind])\n                + \"\\n\"\n            )"
      ]
    },
    {
      "cell_type": "markdown",
      "metadata": {},
      "source": [
        "### Calculate Resultant Pressure Field\n\nCreate list of m values based on m_max and m_inc\n\n<img src=\"file://../../_static/TS_formulas.jpg\" alt=\"variable names\">\n\n"
      ]
    },
    {
      "cell_type": "code",
      "execution_count": null,
      "metadata": {
        "collapsed": false
      },
      "outputs": [],
      "source": [
        "m_mode = range(-m_max, m_max + m_inc, m_inc)\n\n# Initialize solution matrices with zeros\nAnm = np.zeros((len(varname), len(m_mode)))\nBnm = np.zeros((len(varname), len(m_mode)))\nPnm = np.zeros((len(varname), len(m_mode)))\n\nfor n_ind, variable in enumerate(varname):  # loop over n modes\n    for m_ind, m in enumerate(m_mode):  # loop over m modes\n        for angle_ind, angle in enumerate(\n            np.arange(0, math.radians(360), math.radians(d_theta))\n        ):  # loop over all angles, in radians\n            Anm[n_ind][m_ind] += An[n_ind][angle_ind] * math.cos(m * angle) - Bn[n_ind][\n                angle_ind\n            ] * math.sin(m * angle)\n            Bnm[n_ind][m_ind] += An[n_ind][angle_ind] * math.sin(m * angle) + Bn[n_ind][\n                angle_ind\n            ] * math.cos(m * angle)\n        Anm[n_ind][m_ind] = Anm[n_ind][m_ind] / (2 * math.pi) * math.radians(d_theta)\n        Bnm[n_ind][m_ind] = Bnm[n_ind][m_ind] / (2 * math.pi) * math.radians(d_theta)\n        Pnm[n_ind][m_ind] = math.sqrt(Anm[n_ind][m_ind] ** 2 + Bnm[n_ind][m_ind] ** 2)\n\n# P_00 is generally orders of magnitude larger than that of other modes.\n# Giving focus to other modes by setting P_00 equal to zero\nPnm[0][int(len(m_mode) / 2)] = 0"
      ]
    },
    {
      "cell_type": "markdown",
      "metadata": {},
      "source": [
        "### Plot Tyler-Sofrin modes\n\n\n"
      ]
    },
    {
      "cell_type": "code",
      "execution_count": null,
      "metadata": {
        "collapsed": false
      },
      "outputs": [],
      "source": [
        "fig = plt.figure()\nax = plt.axes(projection=\"3d\")\nax.set_xlabel(\"Tyler-Sofrin Mode, m\")\nax.set_ylabel(\"Imp Freq Harmonic, n\")\nax.set_zlabel(\"Pnm [Pa]\")\nplt.yticks(n_mode)\nfor n_ind, n in enumerate(n_mode):\n    x = m_mode\n    y = np.full(Pnm.shape[1], n)\n    z = Pnm[n_ind]\n    rgb = (random.random(), random.random(), random.random())\n    ax.plot3D(x, y, z, c=rgb)\nplt.show()"
      ]
    },
    {
      "cell_type": "markdown",
      "metadata": {},
      "source": [
        "### Tyler-Sofrin modes\n<img src=\"file://../../_static/ts_modes.png\" alt=\"Tyler-Sofrin modes\">\n\n"
      ]
    },
    {
      "cell_type": "markdown",
      "metadata": {},
      "source": [
        "### Close the session\n\n"
      ]
    },
    {
      "cell_type": "code",
      "execution_count": null,
      "metadata": {
        "collapsed": false
      },
      "outputs": [],
      "source": [
        "session.exit()"
      ]
    },
    {
      "cell_type": "markdown",
      "metadata": {},
      "source": [
        "### References\n\n[1] J.M. Tyler and  T. G. Sofrin, Axial Flow Compressor Noise Studies,1961 Manly\nMemorial Award.\n\n"
      ]
    }
  ],
  "metadata": {
    "kernelspec": {
      "display_name": "Python 3",
      "language": "python",
      "name": "python3"
    },
    "language_info": {
      "codemirror_mode": {
        "name": "ipython",
        "version": 3
      },
      "file_extension": ".py",
      "mimetype": "text/x-python",
      "name": "python",
      "nbconvert_exporter": "python",
      "pygments_lexer": "ipython3",
      "version": "3.11.11"
    }
  },
  "nbformat": 4,
  "nbformat_minor": 0
}