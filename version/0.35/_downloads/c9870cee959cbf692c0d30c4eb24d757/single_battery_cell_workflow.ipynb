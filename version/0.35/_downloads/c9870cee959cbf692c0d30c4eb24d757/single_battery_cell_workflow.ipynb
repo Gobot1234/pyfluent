{
  "cells": [
    {
      "cell_type": "markdown",
      "metadata": {},
      "source": [
        "\n# Single Battery Cell Using MSMD Battery Model Simulation\n"
      ]
    },
    {
      "cell_type": "markdown",
      "metadata": {},
      "source": [
        "## Problem Description:\nSimulate a 14.6 Ah lithium-ion battery with a LiMn\u2082O\u2084 cathode and graphite anode using\nthe Multi-Scale Multi-Domain (MSMD) battery model in Ansys Fluent. Evaluate the battery's\nelectrochemical and thermal performance under various discharge rates (e.g., 0.5C, 1C, 5C)\nand operating conditions, including normal operation, pulse discharge, and short-circuit\nscenarios. Key outputs include voltage, temperature, and state of charge.\n\n<img src=\"file://../../_static/Single_Battery_cell_model.png\" align=\"center\" alt=\"Single Battery Cell Model\">\n\n"
      ]
    },
    {
      "cell_type": "markdown",
      "metadata": {},
      "source": [
        "## Import modules\n\n"
      ]
    },
    {
      "cell_type": "code",
      "execution_count": null,
      "metadata": {
        "collapsed": false
      },
      "outputs": [],
      "source": [
        "import os\n\nimport ansys.fluent.core as pyfluent\nfrom ansys.fluent.core import FluentMode, Precision, examples"
      ]
    },
    {
      "cell_type": "markdown",
      "metadata": {},
      "source": [
        "## Launch Fluent session\nLaunch a Fluent solver session with required parameters\n\n"
      ]
    },
    {
      "cell_type": "code",
      "execution_count": null,
      "metadata": {
        "collapsed": false
      },
      "outputs": [],
      "source": [
        "solver = pyfluent.launch_fluent(\n    precision=Precision.DOUBLE, processor_count=4, mode=FluentMode.SOLVER\n)"
      ]
    },
    {
      "cell_type": "markdown",
      "metadata": {},
      "source": [
        "## Download the mesh file\nDownload the battery mesh file and save it to the current working directory.\n\n"
      ]
    },
    {
      "cell_type": "code",
      "execution_count": null,
      "metadata": {
        "collapsed": false
      },
      "outputs": [],
      "source": [
        "unit_battery_mesh = examples.download_file(\n    \"unit_battery.msh.h5\",\n    \"pyfluent/battery_thermal_simulation\",\n    save_path=os.getcwd(),\n)"
      ]
    },
    {
      "cell_type": "markdown",
      "metadata": {},
      "source": [
        "## Read and display mesh\n\n<div class=\"alert alert-info\"><h4>Note</h4><p>Graphics commands like restore_view and save_picture require GUI mode.</p></div>\n\n"
      ]
    },
    {
      "cell_type": "code",
      "execution_count": null,
      "metadata": {
        "collapsed": false
      },
      "outputs": [],
      "source": [
        "solver.settings.file.read_case(file_name=unit_battery_mesh)\n\n# Get all the available wall boundary surfaces\nall_walls = solver.settings.setup.boundary_conditions.wall.get_object_names()\nmesh_object = solver.settings.results.graphics.mesh.create(\"mesh-1\")\nmesh_object.surfaces_list = all_walls\nmesh_object.options.edges = True\nmesh_object.display()\n\ngraphics_object = solver.settings.results.graphics\ngraphics_object.picture.x_resolution = 650\ngraphics_object.picture.y_resolution = 450\ngraphics_object.views.restore_view(view_name=\"isometric\")\ngraphics_object.picture.save_picture(file_name=\"Single_Battery_Cell_Mesh.png\")"
      ]
    },
    {
      "cell_type": "markdown",
      "metadata": {},
      "source": [
        "<img src=\"file://../../_static/Single_Battery_Cell_Mesh.png\" align=\"center\" alt=\"Single Battery Cell Mesh\">\n\n"
      ]
    },
    {
      "cell_type": "markdown",
      "metadata": {},
      "source": [
        "## Configure solver settings for battery model\nUse an unsteady first-order time solver for transient behavior.\n\n"
      ]
    },
    {
      "cell_type": "code",
      "execution_count": null,
      "metadata": {
        "collapsed": false
      },
      "outputs": [],
      "source": [
        "solver.settings.setup.general.solver.time = \"unsteady-1st-order\""
      ]
    },
    {
      "cell_type": "markdown",
      "metadata": {},
      "source": [
        "## Enable the battery model\nActivate the NTGK/DCIR model with a nominal cell capacity of 14.6 Ah.\nEnable Joule heat in passive zones and define zones and terminals.\nFor a detailed guide on setting up a single battery cell,refer to the Reference_ [3].\n\n"
      ]
    },
    {
      "cell_type": "code",
      "execution_count": null,
      "metadata": {
        "collapsed": false
      },
      "outputs": [],
      "source": [
        "battery = solver.settings.setup.models.battery\nbattery.enabled = True\nbattery.echem_model = \"ntgk/dcir\"\nbattery.zone_assignment.active_zone = [\"e_zone\"]\nbattery.zone_assignment.passive_zone = [\"tab_nzone\", \"tab_pzone\"]\nbattery.zone_assignment.negative_tab = [\"tab_n\"]\nbattery.zone_assignment.positive_tab = [\"tab_p\"]"
      ]
    },
    {
      "cell_type": "markdown",
      "metadata": {},
      "source": [
        "## Define materials for cell and tabs\n\n<div class=\"alert alert-info\"><h4>Note</h4><p>Chemical formula values are arbitrary identifiers for demonstration.</p></div>\n\nMaterial definition for battery cell, positive tab and negative tab. User define\nscalars are defined for e-material and positive material to specify the\nelectric conductivity with ``defined-per-uds`` and ``constant`` option respectively.\n\n\n"
      ]
    },
    {
      "cell_type": "code",
      "execution_count": null,
      "metadata": {
        "collapsed": false
      },
      "outputs": [],
      "source": [
        "materials = [\n    {\n        \"name\": \"e_material\",\n        \"chemical_formula\": \"e\",\n        \"density\": 2092,\n        \"specific_heat\": 678,\n        \"thermal_conductivity\": 18.2,\n        \"uds_diffusivity\": {\n            \"option\": \"defined-per-uds\",\n            \"uds-0\": 1190000,\n            \"uds-1\": 983000,\n        },\n    },\n    {\n        \"name\": \"p_material\",\n        \"chemical_formula\": \"pmat\",\n        \"density\": 8978,\n        \"specific_heat\": 381,\n        \"thermal_conductivity\": 387.6,\n        \"uds_diffusivity\": {\"option\": \"constant\", \"value\": 10000000},\n    },\n    {\n        \"name\": \"n_material\",\n        \"chemical_formula\": \"nmat\",\n        \"density\": 8978,\n        \"specific_heat\": 381,\n        \"thermal_conductivity\": 387.6,\n    },\n]\n\nsolids = solver.settings.setup.materials.solid\nfor mat in materials:\n    solids.create(mat[\"name\"])\n    solids[mat[\"name\"]].chemical_formula = mat[\"chemical_formula\"]\n    solids[mat[\"name\"]].density.value = mat[\"density\"]\n    solids[mat[\"name\"]].specific_heat.value = mat[\"specific_heat\"]\n    solids[mat[\"name\"]].thermal_conductivity.value = mat[\"thermal_conductivity\"]\n    if \"uds_diffusivity\" in mat:\n        solids[mat[\"name\"]].uds_diffusivity = {\n            \"option\": mat[\"uds_diffusivity\"][\"option\"]\n        }\n        if mat[\"uds_diffusivity\"][\"option\"] == \"defined-per-uds\":\n            solids[mat[\"name\"]].uds_diffusivity.uds_diffusivities[\"uds-0\"].value = mat[\n                \"uds_diffusivity\"\n            ][\"uds-0\"]\n            solids[mat[\"name\"]].uds_diffusivity.uds_diffusivities[\"uds-1\"].value = mat[\n                \"uds_diffusivity\"\n            ][\"uds-1\"]\n        else:\n            solids[mat[\"name\"]].uds_diffusivity.value = mat[\"uds_diffusivity\"][\"value\"]"
      ]
    },
    {
      "cell_type": "markdown",
      "metadata": {},
      "source": [
        "## Assign materials to cell zones\nMap materials to respective zones.\n\n"
      ]
    },
    {
      "cell_type": "code",
      "execution_count": null,
      "metadata": {
        "collapsed": false
      },
      "outputs": [],
      "source": [
        "cell_zones = [\n    (\"e_zone\", \"e_material\"),\n    (\"tab_nzone\", \"n_material\"),\n    (\"tab_pzone\", \"p_material\"),\n]\n\nfor zone, material in cell_zones:\n    solver.settings.setup.cell_zone_conditions.solid[zone].general.material = material"
      ]
    },
    {
      "cell_type": "markdown",
      "metadata": {},
      "source": [
        "## Define boundary conditions\nSet convective heat transfer on external surfaces.\n\n"
      ]
    },
    {
      "cell_type": "code",
      "execution_count": null,
      "metadata": {
        "collapsed": false
      },
      "outputs": [],
      "source": [
        "wall = solver.settings.setup.boundary_conditions.wall\nwall[\"wall_active\"].thermal.thermal_condition = \"Convection\"\nwall[\"wall_active\"].thermal.heat_transfer_coeff.value = 5\n\n# API to copy similar boundary condition\nsolver.settings.setup.boundary_conditions.copy(\n    from_=\"wall_active\", to=[\"wall_n\", \"wall_p\"]\n)"
      ]
    },
    {
      "cell_type": "markdown",
      "metadata": {},
      "source": [
        "## Configure solution settings\nDisable flow and turbulence equations, since residual criteria are set to ``none``\n\n"
      ]
    },
    {
      "cell_type": "code",
      "execution_count": null,
      "metadata": {
        "collapsed": false
      },
      "outputs": [],
      "source": [
        "solver.settings.solution.controls.equations[\"flow\"] = False\nsolver.settings.solution.controls.equations[\"kw\"] = False\n\nsolver.settings.solution.monitor.residual.options.criterion_type = \"none\""
      ]
    },
    {
      "cell_type": "markdown",
      "metadata": {},
      "source": [
        "## Create report definitions\nMonitor average voltage and maximum temperature.\n\n"
      ]
    },
    {
      "cell_type": "code",
      "execution_count": null,
      "metadata": {
        "collapsed": false
      },
      "outputs": [],
      "source": [
        "avg_surface_voltage_report_def = (\n    solver.settings.solution.report_definitions.surface.create(\"surface_voltage\")\n)\navg_surface_voltage_report_def.report_type = \"surface-areaavg\"\navg_surface_voltage_report_def.field = \"passive-zone-potential\"\navg_surface_voltage_report_def.surface_names = [\"tab_p\"]\n\nmax_temp_report_def = solver.settings.solution.report_definitions.volume.create(\n    \"max_temperature\"\n)\nmax_temp_report_def.report_type = \"volume-max\"\nmax_temp_report_def.field = \"temperature\"\nmax_temp_report_def.cell_zones = [\"e_zone\", \"tab_nzone\", \"tab_pzone\"]\n\nsurf_voltage_report_files = solver.settings.solution.monitor.report_files.create(\n    \"surface_voltage_file\"\n)\nsurf_voltage_report_files.report_defs = [\"flow-time\", \"surface_voltage\"]\nsurf_voltage_report_files.file_name = \"ntgk-1c.out\"\nsurf_voltage_report_files.print = True\n\nmax_temp_report_file = solver.settings.solution.monitor.report_files.create(\n    \"max_temperature_file\"\n)\nmax_temp_report_file.report_defs = [\"max_temperature\"]\nmax_temp_report_file.file_name = \"max-temp-1c.out\"\nmax_temp_report_file.print = True\n\nreport_plots = solver.settings.solution.monitor.report_plots\n\nvoltage_plot = report_plots.create(\"surface_voltage_plot\")\nvoltage_plot.report_defs = [\"surface_voltage\"]\nvoltage_plot.print = True\nvoltage_plot.axes.x.number_format.precision = 0\nvoltage_plot.axes.y.number_format.precision = 2\n\ntemp_plot = report_plots.create(\"max_temperature_plot\")\ntemp_plot.report_defs = [\"max_temperature\"]\ntemp_plot.print = True\ntemp_plot.axes.x.number_format.precision = 0\ntemp_plot.axes.y.number_format.precision = 2"
      ]
    },
    {
      "cell_type": "markdown",
      "metadata": {},
      "source": [
        "## Run the simulation\n\n"
      ]
    },
    {
      "cell_type": "code",
      "execution_count": null,
      "metadata": {
        "collapsed": false
      },
      "outputs": [],
      "source": [
        "solver.settings.solution.initialization.standard_initialize()\ntransient_controls = solver.settings.solution.run_calculation.transient_controls\ntransient_controls.time_step_size = 30\ntransient_controls.time_step_count = 100\nsolver.settings.solution.run_calculation.calculate()"
      ]
    },
    {
      "cell_type": "markdown",
      "metadata": {},
      "source": [
        "## Post-process results\nGenerate contour and vector plots.\n\n"
      ]
    },
    {
      "cell_type": "code",
      "execution_count": null,
      "metadata": {
        "collapsed": false
      },
      "outputs": [],
      "source": [
        "contours = solver.settings.results.graphics.contour\ncontour_list = [\n    {\n        \"name\": \"contour-phi+\",\n        \"field\": \"cathode-potential\",\n        \"surfaces\": [\"wall_active\"],\n        \"file_name\": \"Single_Battery_Cell_1.png\",\n    },\n    {\n        \"name\": \"contour-phi-\",\n        \"field\": \"anode-potential\",\n        \"surfaces\": [\"wall_active\"],\n        \"file_name\": \"Single_Battery_Cell_2.png\",\n    },\n    {\n        \"name\": \"contour-phi-passive\",\n        \"field\": \"passive-zone-potential\",\n        \"surfaces\": [\"tab_n\", \"tab_p\", \"wall_n\", \"wall_p\"],\n        \"file_name\": \"Single_Battery_Cell_3.png\",\n    },\n    {\n        \"name\": \"contour-temp\",\n        \"field\": \"temperature\",\n        \"surfaces\": [\"wall_p\", \"wall_active\", \"tab_p\", \"tab_n\", \"wall_n\"],\n        \"file_name\": \"Single_Battery_Cell_4.png\",\n    },\n]\n\n# Create, display, and save contour plots\nfor contour in contour_list:\n    # Create the contour\n    contours.create(contour[\"name\"])\n    current = contours[contour[\"name\"]]\n    current.field = contour[\"field\"]\n    current.surfaces_list = contour[\"surfaces\"]\n    current.range_options.compute()\n\n    # Set the  view\n    graphics_object.views.restore_view(view_name=\"front\")\n    #  display the  current contour\n    current.display()\n    # Save the contour plot as an image\n    graphics_object.picture.save_picture(file_name=contour[\"file_name\"])\n\n# Create and configure vector plot\nvector_plot = solver.settings.results.graphics.vector.create(\"vector-current_density\")\nvector_plot.vector_field = \"current-density-j\"\nvector_plot.field = \"current-magnitude\"\nvector_plot.surfaces_list = [\"wall_n\", \"wall_p\", \"wall_active\", \"tab_n\", \"tab_p\"]\nvector_plot.options.vector_style = \"arrow\"\nvector_plot.range_options.compute()\n# Set view, display, and save the vector plot image\ngraphics_object.views.restore_view(view_name=\"front\")\nvector_plot.display()\ngraphics_object.picture.save_picture(file_name=\"Single_Battery_Cell_5.png\")\n# Save case file for ROM simulation\nsolver.settings.file.write_case(file_name=\"unit_battery.cas.h5\")\n# Save case and data for short circuit simulation\nsolver.settings.file.write_case_data(file_name=\" ntgk\")  # Save case data"
      ]
    },
    {
      "cell_type": "markdown",
      "metadata": {},
      "source": [
        "<img src=\"file://../../_static/Single_Battery_Cell_1.png\" align=\"center\" alt=\"Anode Potential Contour(1C)\">\n\n<img src=\"file://../../_static/Single_Battery_Cell_2.png\" align=\"center\" alt=\"Cathode Potential Contour(1C)\">\n\n\n<img src=\"file://../../_static/Single_Battery_Cell_3.png\" align=\"center\" alt=\"Passive Zone Potential Contour(1C)\">\n\n\n<img src=\"file://../../_static/Single_Battery_Cell_4.png\" align=\"center\" alt=\"Static Temperature Contour(1C)\">\n\n\n<img src=\"file://../../_static/Single_Battery_Cell_5.png\" align=\"center\" alt=\"Current Density Vector(1C)\">\n\n\n"
      ]
    },
    {
      "cell_type": "markdown",
      "metadata": {},
      "source": [
        "## Run simulations at different C-rates\nSimulate at 0.5C and 5C discharge rates with adjusted time steps.\n\n"
      ]
    },
    {
      "cell_type": "code",
      "execution_count": null,
      "metadata": {
        "collapsed": false
      },
      "outputs": [],
      "source": [
        "solver.settings.setup.models.battery.eload_condition.eload_settings.crate_value = 0.5\n\n# Get report files\nreport_files = solver.settings.solution.monitor.report_files\n\n# Update report file names for 0.5 c rate simulation for existing report files\nreport_files[\"surface_voltage_file\"].file_name = \"ntgk-0.5c.out\"\nreport_files[\"max_temperature_file\"].file_name = \"max-temp-0.5c.out\"\nsolver.settings.solution.initialization.standard_initialize()\nsolver.settings.solution.run_calculation.transient_controls.time_step_count = 230\nsolver.settings.solution.run_calculation.calculate()\n\nsolver.settings.setup.models.battery.eload_condition.eload_settings.crate_value = 5\n\n# Update report file names for 5 c rate simulation for existing report files\nreport_files[\"surface_voltage_file\"].file_name = \"ntgk-5c.out\"\nreport_files[\"max_temperature_file\"].file_name = \"max-temp-5c.out\"\nsolver.settings.solution.initialization.standard_initialize()\nsolver.settings.solution.run_calculation.transient_controls.time_step_count = 23\nsolver.settings.solution.run_calculation.calculate()"
      ]
    },
    {
      "cell_type": "markdown",
      "metadata": {},
      "source": [
        "## Reduced Order Method (ROM) setup\nApply ROM for computational efficiency.\n\n"
      ]
    },
    {
      "cell_type": "code",
      "execution_count": null,
      "metadata": {
        "collapsed": false
      },
      "outputs": [],
      "source": [
        "solver.settings.file.read_case(file_name=\"unit_battery.cas.h5\")\nsolver.settings.solution.initialization.standard_initialize()\nsolver.settings.solution.run_calculation.transient_controls.time_step_size = 30\nsolver.settings.solution.run_calculation.transient_controls.time_step_count = 3\nsolver.settings.solution.run_calculation.calculate()\n\nsolver.settings.setup.models.battery.solution_method = \"msmd-rom\"\nsolver.settings.setup.models.battery.solution_option.option_settings.number_substeps = (\n    10\n)\nsolver.settings.solution.run_calculation.transient_controls.time_step_size = 30\nsolver.settings.solution.run_calculation.transient_controls.time_step_count = 100\nsolver.settings.solution.run_calculation.calculate()\n\n# Generate contour and vector plots for ROM results.\ncontours = solver.settings.results.graphics.contour\ncontour_list = [\n    {\n        \"name\": \"contour_cathode_potential\",\n        \"field\": \"cathode-potential\",\n        \"surfaces\": [\"wall_active\"],\n    },\n    {\n        \"name\": \"contour_anode_potential\",\n        \"field\": \"anode-potential\",\n        \"surfaces\": [\"wall_active\"],\n    },\n    {\n        \"name\": \"contour_passive_potential\",\n        \"field\": \"passive-zone-potential\",\n        \"surfaces\": [\"tab_n\", \"tab_p\", \"wall_n\", \"wall_p\"],\n    },\n    {\n        \"name\": \"contour_temperature\",\n        \"field\": \"temperature\",\n        \"surfaces\": [\"wall_p\", \"wall_active\", \"tab_p\", \"tab_n\", \"wall_n\"],\n    },\n]\n\nfor contour in contour_list:\n    contours.create(contour[\"name\"])\n    contours[contour[\"name\"]].field = contour[\"field\"]\n    contours[contour[\"name\"]].surfaces_list = contour[\"surfaces\"]\n    contours[contour[\"name\"]].range_options.compute()\n\nvectors = solver.settings.results.graphics.vector.create(\"vector-current_density\")\nvectors.vector_field = \"current-density-j\"\nvectors.field = \"current-magnitude\"\nvectors.surfaces_list = [\n    \"wall_n\",\n    \"wall_p\",\n    \"wall_active\",\n    \"tab_n\",\n    \"tab_p\",\n]\nvectors.options.vector_style = \"arrow\"\nvectors.range_options.compute()\n\n# Set view, display, and save the vector plot image\ngraphics_object.views.restore_view(view_name=\"front\")\nvectors.display()\ngraphics_object.picture.save_picture(file_name=\"Single_Battery_Cell_6.png\")"
      ]
    },
    {
      "cell_type": "markdown",
      "metadata": {},
      "source": [
        "<img src=\"file://../../_static/Single_Battery_Cell_6.png\" align=\"center\" alt=\"Current Magnitude (1C)\">\nVector current density for ROM model (faster with identical results).\n\n"
      ]
    },
    {
      "cell_type": "markdown",
      "metadata": {},
      "source": [
        "## Simulate short-circuit\nApply low external resistance and define a short-circuit region.\n\n"
      ]
    },
    {
      "cell_type": "code",
      "execution_count": null,
      "metadata": {
        "collapsed": false
      },
      "outputs": [],
      "source": [
        "solver.settings.file.read_case(file_name=\"ntgk.cas.h5\")\n\nsolver.settings.setup.models.battery.eload_condition.eload_settings.eload_type = (\n    \"specified-resistance\"\n)\nsolver.settings.setup.models.battery.eload_condition.eload_settings.external_resistance = (\n    0.5\n)\n\n# Create a new cell register named \"register_patch\"\npatch = solver.settings.solution.cell_registers.create(name=\"register_patch\")\npatch.type.option = \"hexahedron\"\n\n# Configure the hexahedron box\npatch.type.hexahedron.inside = True\npatch.type.hexahedron.min_point = [-0.01, -0.01, -1.0]\npatch.type.hexahedron.max_point = [0.01, 0.02, 1.0]\n\nsolver.settings.solution.initialization.standard_initialize()\n\n# Patch initialization\nsolver.settings.solution.initialization.patch.calculate_patch(\n    domain=\"\",\n    cell_zones=[],\n    registers=[\"register_patch\"],\n    variable=\"battery-short-resistance\",\n    reference_frame=\"Relative to Cell Zone\",\n    use_custom_field_function=False,\n    custom_field_function_name=\"\",\n    value=5e-07,\n)\n\nsolver.settings.solution.run_calculation.transient_controls.time_step_size = 1\nsolver.settings.solution.run_calculation.transient_controls.time_step_count = 5\nsolver.settings.solution.run_calculation.calculate()\n\nsolver.settings.file.write_case_data(file_name=\"ntgk_short_circuit.cas.h5\")\n\nsolver.settings.results.report.surface_integrals.area_weighted_avg(\n    report_of=\"passive-zone-potential\", surface_names=[\"tab_p\"], write_to_file=False\n)\nsolver.settings.results.report.volume_integrals.volume_integral(\n    cell_function=\"total-current-source\", cell_zones=[\"e_zone\"], write_to_file=False\n)\n\nvector = solver.settings.results.graphics.vector\nvector_negative = vector.create(\"vector_negative_current\")\nvector_negative.vector_field = \"current-density-jn\"\nvector_negative.field = \"current-magnitude\"\nvector_negative.surfaces_list = [\n    \"wall_n\",\n    \"wall_p\",\n    \"wall_active\",\n]\nvector_negative.options.vector_style = \"arrow\"\nvector_negative.range_options.compute()\ngraphics_object.views.restore_view(view_name=\"front\")\nvector_negative.display()\ngraphics_object.picture.save_picture(file_name=\"Single_Battery_Cell_9.png\")"
      ]
    },
    {
      "cell_type": "markdown",
      "metadata": {},
      "source": [
        "<img src=\"file://../../_static/Single_Battery_Cell_9.png\" align=\"center\" alt=\"Negative Current Vector Plot\">\nNegative current vector plot after short circuit.\n\n"
      ]
    },
    {
      "cell_type": "code",
      "execution_count": null,
      "metadata": {
        "collapsed": false
      },
      "outputs": [],
      "source": [
        "vector_positive = vectors.create(\"vector_positive_current\")\nvector_positive.vector_field = \"current-density-jp\"\nvector_positive.field = \"current-magnitude\"\nvector_positive.surfaces_list = [\n    \"wall_n\",\n    \"wall_p\",\n    \"wall_active\",\n]\nvector_positive.options.vector_style = \"arrow\"\nvector_positive.range_options.compute()\n\ngraphics_object.views.restore_view(view_name=\"front\")\nvector_positive.display()\ngraphics_object.picture.save_picture(file_name=\"Single_Battery_Cell_10.png\")"
      ]
    },
    {
      "cell_type": "markdown",
      "metadata": {},
      "source": [
        "<img src=\"file://../../_static/Single_Battery_Cell_10.png\" align=\"center\" alt=\"Positive Current Vector Plot\">\nPositive current vector plot after short circuit.\n\n"
      ]
    },
    {
      "cell_type": "code",
      "execution_count": null,
      "metadata": {
        "collapsed": false
      },
      "outputs": [],
      "source": [
        "temp_contour = solver.settings.results.graphics.contour.create(\"temperature-contour\")\ntemp_contour.field = \"temperature\"\ntemp_contour.surfaces_list = all_walls\ntemp_contour.range_options.compute()\n\ngraphics_object.views.restore_view(view_name=\"front\")\ntemp_contour.display()\ngraphics_object.picture.save_picture(file_name=\"Single_Battery_Cell_11.png\")"
      ]
    },
    {
      "cell_type": "markdown",
      "metadata": {},
      "source": [
        "<img src=\"file://../../_static/Single_Battery_Cell_11.png\" align=\"center\" alt=\"Temperature Contour\">\nTemperature contour plot after short circuit.\n\n"
      ]
    },
    {
      "cell_type": "markdown",
      "metadata": {},
      "source": [
        "## Close the solver\n\n"
      ]
    },
    {
      "cell_type": "code",
      "execution_count": null,
      "metadata": {
        "collapsed": false
      },
      "outputs": [],
      "source": [
        "solver.exit()"
      ]
    },
    {
      "cell_type": "markdown",
      "metadata": {},
      "source": [
        "## References:\n[1] U. S. Kim et al, \"Effect of electrode configuration on the thermal behavior of\na lithium-polymer battery\", Journal of Power Sources, Volume 180 (2), pages 909-916, 2008.\n\n[2] U. S. Kim, et al., \"Modeling the Dependence of the Discharge Behavior of a Lithium-Ion Battery\non the Environmental Temperature\", J. of Electrochemical Soc., Volume 158 (5), pages A611-A618, 2011.\n\n[3] Simulating a Single Battery Cell Using the MSMD Battery Model, [Ansys Fluent documentation\u200b](https://ansyshelp.ansys.com/public/account/secured?returnurl=/Views/Secured/corp/v252/en/flu_tg/flu_bat_tutorial_cell.html).\n\n"
      ]
    }
  ],
  "metadata": {
    "kernelspec": {
      "display_name": "Python 3",
      "language": "python",
      "name": "python3"
    },
    "language_info": {
      "codemirror_mode": {
        "name": "ipython",
        "version": 3
      },
      "file_extension": ".py",
      "mimetype": "text/x-python",
      "name": "python",
      "nbconvert_exporter": "python",
      "pygments_lexer": "ipython3",
      "version": "3.11.11"
    }
  },
  "nbformat": 4,
  "nbformat_minor": 0
}