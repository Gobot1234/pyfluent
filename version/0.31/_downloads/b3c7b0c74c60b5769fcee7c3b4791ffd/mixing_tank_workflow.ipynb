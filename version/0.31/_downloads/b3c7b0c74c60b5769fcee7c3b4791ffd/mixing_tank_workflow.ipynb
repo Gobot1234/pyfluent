{
  "cells": [
    {
      "cell_type": "markdown",
      "metadata": {},
      "source": [
        "\n# Mixing Tank Workflow\n"
      ]
    },
    {
      "cell_type": "markdown",
      "metadata": {},
      "source": [
        "## Overeview\n\nThe mixing tank workflow demonstrates basic end to end comprehensive solution for simulating\nmixing tank with an single impeller. This workflow also demonstrates the use of the Python API's\ncapabilities to setup complex workflows.\n\nMixing tanks are commonly used in industries such as chemical processing, food and healthcare,\npharmaceuticals etc. The mixing tank workflow in ANSYS Fluent allows engineers to analyze the\nperformance of mixing tanks, optimize the design of impellers, and understand the flow\npatterns within the tank. By simulating the mixing process, engineers can gain insights\ninto the efficiency of mixing, blend time, the distribution of shear forces, and the overall\nperformance of the mixing system.\n\nThis workflow can be extended to design and develop the vertical application for non-experts\nand seemingly expose the required functionality to democraticize the simulation process.\n\n\nThe workflow includes:\n\n * Importing a geometry file\n * Generating the mesh\n * Setting up the solver\n * Defining the materials\n * Defining the cell zones and wall boundary conditions\n * Setting up the solution methods and controls\n * Defining the report definitions\n * Running the solver\n * Post-processing the results\n * Saving the case file\n * Closing the session\n\n<img src=\"file://../../_static/mixing_tank_geom_view.png\" align=\"center\" scale=\"60%\" alt=\"Mixing Tank Model\">\n\n"
      ]
    },
    {
      "cell_type": "markdown",
      "metadata": {},
      "source": [
        "## Import required libraries/modules\n\n"
      ]
    },
    {
      "cell_type": "code",
      "execution_count": null,
      "metadata": {
        "collapsed": false
      },
      "outputs": [],
      "source": [
        "import fnmatch\nimport platform\n\nimport ansys.fluent.core as pyfluent\nfrom ansys.fluent.core import examples"
      ]
    },
    {
      "cell_type": "markdown",
      "metadata": {},
      "source": [
        "## Launch Fluent session with meshing mode and print Fluent version\n\n"
      ]
    },
    {
      "cell_type": "code",
      "execution_count": null,
      "metadata": {
        "collapsed": false
      },
      "outputs": [],
      "source": [
        "session = pyfluent.launch_fluent(\n    mode=\"meshing\",\n    cleanup_on_exit=True,\n)\nprint(session.get_fluent_version())"
      ]
    },
    {
      "cell_type": "markdown",
      "metadata": {},
      "source": [
        "## Meshing Workflow\n\n"
      ]
    },
    {
      "cell_type": "code",
      "execution_count": null,
      "metadata": {
        "collapsed": false
      },
      "outputs": [],
      "source": [
        "workflow = session.workflow\n\nfilenames = {\n    \"Windows\": \"mixing_tank_geom.dsco\",\n    \"Other\": \"StirredTank.scdoc.pmdb\",\n}\n\ngeometry_filename = examples.download_file(\n    filenames.get(platform.system(), filenames[\"Other\"]),\n    \"pyfluent/examples/MixingTank-WorkFlow\",\n)\n\nworkflow.InitializeWorkflow(WorkflowType=\"Watertight Geometry\")\nworkflow.TaskObject[\"Import Geometry\"].Arguments = dict(FileName=geometry_filename)\nworkflow.TaskObject[\"Import Geometry\"].Execute()\n\nworkflow.TaskObject[\"Generate the Surface Mesh\"].Execute()\nworkflow.TaskObject[\"Describe Geometry\"].Arguments = dict(\n    SetupType=\"The geometry consists of only fluid regions with no voids\",\n    wall_to_internal=\"Yes\",\n    InvokeShareTopology=\"Yes\",\n)\nworkflow.TaskObject[\"Describe Geometry\"].Execute()\nworkflow.TaskObject[\"Apply Share Topology\"].Execute()\nworkflow.TaskObject[\"Update Boundaries\"].Execute()\nworkflow.TaskObject[\"Update Regions\"].Execute()\nworkflow.TaskObject[\"Add Boundary Layers\"].InsertCompoundChildTask()\nworkflow.TaskObject[\"smooth-transition_1\"].Execute()\nworkflow.TaskObject[\"Generate the Volume Mesh\"].Execute()\n\n# Write a mesh file for reference\nsession.tui.file.write_mesh(\"mixing_tank.msh.h5\")"
      ]
    },
    {
      "cell_type": "markdown",
      "metadata": {},
      "source": [
        "## Switch to the Solver Mode\n\n"
      ]
    },
    {
      "cell_type": "code",
      "execution_count": null,
      "metadata": {
        "collapsed": false
      },
      "outputs": [],
      "source": [
        "solver = session.switch_to_solver()"
      ]
    },
    {
      "cell_type": "markdown",
      "metadata": {},
      "source": [
        "## Display the mesh in solver mode\n\n"
      ]
    },
    {
      "cell_type": "code",
      "execution_count": null,
      "metadata": {
        "collapsed": false
      },
      "outputs": [],
      "source": [
        "# Create a middle plane to display the mesh\ny_mid_plane = solver.settings.results.surfaces.plane_surface.create(name=\"mid_plane\")\ny_mid_plane.method = \"zx-plane\"\ny_mid_plane.y = 0\ny_mid_plane.display()\n\n\n# Access the graphics object\ngraphics = solver.settings.results.graphics\n# Set the hardcopy format for saving the image\ngraphics.picture.driver_options.hardcopy_format = \"png\"\n\n# View settings\ngeom_view = graphics.views.display_states.create(\"geom_view\")\ngeom_view.front_faces_transparent = \"enable\"\ngeom_view.view_name = \"top\"\n\n# Get the list of all walls\nall_walls = solver.settings.setup.boundary_conditions.wall.get_object_names()\nfiltered_walls_to_display = [wall for wall in all_walls if \"mrf\" not in wall]\n\n# Create a mesh object and configure its settings\nmesh_object = solver.settings.results.graphics.mesh.create(name=\"mesh-1\")\nmesh_object.surfaces_list = filtered_walls_to_display\nmesh_object.options.edges = False\n\nmesh_object.display_state_name = geom_view.name()\nmesh_object.coloring.option = \"manual\"\nmesh_object.display()\ngraphics.views.auto_scale()\n\n\ngraphics.picture.save_picture(\n    file_name=\"mixing_tank_geom_view.png\",\n)\n\n\nmesh_object.surfaces_list = y_mid_plane.name()\nmesh_object.options.edges = True\nmesh_object.display()\ngraphics.views.auto_scale()\n\ngraphics.picture.save_picture(\n    file_name=\"mixing_tank_mesh.png\",\n)\n\ngeom_view.front_faces_transparent = \"disable\""
      ]
    },
    {
      "cell_type": "markdown",
      "metadata": {},
      "source": [
        "<img src=\"file://../../_static/mixing_tank_mesh.png\" align=\"center\" scale=\"60%\" alt=\"Mixing Tank Mesh\">\n############################################################################################################\n Define Constants\n ===========================================================================================================\n\n"
      ]
    },
    {
      "cell_type": "code",
      "execution_count": null,
      "metadata": {
        "collapsed": false
      },
      "outputs": [],
      "source": [
        "g = 9.81  # m/s^2\nwater_density = 1000.0  # kg/m^3\nwater_viscosity = 0.001  # kg/m-s\nagitation_speed = 10  # rad/s"
      ]
    },
    {
      "cell_type": "markdown",
      "metadata": {},
      "source": [
        "## Solver Setup and Solve Workflow\n\n"
      ]
    },
    {
      "cell_type": "code",
      "execution_count": null,
      "metadata": {
        "collapsed": false
      },
      "outputs": [],
      "source": [
        "solver.settings.setup.general.operating_conditions.gravity.enable = True\nsolver.settings.setup.general.operating_conditions.gravity.components = [0.0, 0.0, -g]"
      ]
    },
    {
      "cell_type": "markdown",
      "metadata": {},
      "source": [
        "## Define Materials\n\n"
      ]
    },
    {
      "cell_type": "code",
      "execution_count": null,
      "metadata": {
        "collapsed": false
      },
      "outputs": [],
      "source": [
        "solver.settings.setup.materials.database.copy_by_name(type=\"fluid\", name=\"water-liquid\")\nfluid_mat = solver.settings.setup.materials.fluid[\"water-liquid\"]\nfluid_mat.density.value = water_density\nfluid_mat.viscosity.value = water_viscosity"
      ]
    },
    {
      "cell_type": "markdown",
      "metadata": {},
      "source": [
        "## Define Cell Zones, Wall Boundary Conditions\n\n"
      ]
    },
    {
      "cell_type": "code",
      "execution_count": null,
      "metadata": {
        "collapsed": false
      },
      "outputs": [],
      "source": [
        "# Get the list of all Fluid Cell Zones,\nfluid_cell_zones = solver.settings.setup.cell_zone_conditions.fluid.get_object_names()\nfluid_mrf_cell_zones = [zone for zone in fluid_cell_zones if \"mrf\" in zone]\n\nfor cell_zone in fluid_mrf_cell_zones:\n    print(cell_zone)\n    # Set the material for each cell zone\n    fluid_cell_zone = solver.settings.setup.cell_zone_conditions.fluid[cell_zone]\n    fluid_cell_zone.general.material = \"water-liquid\"\n    # Set the reference frame for each cell zone\n    fluid_cell_zone.reference_frame.reference_frame_axis_origin = [0, 0, 0.4]\n    fluid_cell_zone.reference_frame.reference_frame_axis_direction = [0, 0, -1]\n    fluid_cell_zone.reference_frame.frame_motion = True\n    # Set the rotation speed for each cell zone\n    fluid_cell_zone.reference_frame.mrf_omega.value = agitation_speed\n\nstationary_cell_zones = [zone for zone in fluid_cell_zones if \"mrf\" not in zone]\nstationary_cell_zones = solver.settings.setup.cell_zone_conditions.fluid[\n    stationary_cell_zones[0]\n]\nstationary_cell_zones.general.material = \"water-liquid\"\n\n# Wall boundary conditions\nwall_shaft = [wall for wall in all_walls if \"shaft\" in wall]\n\nfor wall in wall_shaft:\n    print(wall)\n    wall_boundary = solver.settings.setup.boundary_conditions.wall[wall]\n    wall_boundary.momentum.wall_motion = \"Moving Wall\"\n    wall_boundary.momentum.relative = False\n    wall_boundary.momentum.rotating = True\n    wall_boundary.momentum.rotation_axis_direction = [0, 0, -1]\n    wall_boundary.momentum.rotation_speed = agitation_speed\n\n\nliquid_level_bc = solver.settings.setup.boundary_conditions.wall[\"wall_liquid_level\"]\nliquid_level_bc.momentum.wall_motion = \"Stationary Wall\"\nliquid_level_bc.momentum.shear_condition = \"Specified Shear\"\n\n# Change the Zone type for internal walls to interior\nsolver.setup.boundary_conditions.set_zone_type(\n    zone_list=[\"fluid_mrf_1-fluid_tank\"], new_type=\"interior\"\n)"
      ]
    },
    {
      "cell_type": "markdown",
      "metadata": {},
      "source": [
        "## Solution Methods and Controls\n\n"
      ]
    },
    {
      "cell_type": "code",
      "execution_count": null,
      "metadata": {
        "collapsed": false
      },
      "outputs": [],
      "source": [
        "solver.settings.solution.methods.p_v_coupling.flow_scheme = \"SIMPLE\"\nsolver.settings.solution.methods.spatial_discretization.discretization_scheme[\n    \"pressure\"\n] = \"presto!\"\nsolver.settings.solution.controls.under_relaxation[\"pressure\"] = 0.5\nsolver.settings.solution.controls.under_relaxation[\"mom\"] = 0.3\nsolver.settings.solution.controls.under_relaxation[\"k\"] = 0.6\nsolver.settings.solution.controls.under_relaxation[\"omega\"] = 0.6\nsolver.settings.solution.controls.under_relaxation[\"turb-viscosity\"] = 0.6"
      ]
    },
    {
      "cell_type": "markdown",
      "metadata": {},
      "source": [
        "## Residuals Criteria & Initialization\n\n"
      ]
    },
    {
      "cell_type": "code",
      "execution_count": null,
      "metadata": {
        "collapsed": false
      },
      "outputs": [],
      "source": [
        "# Residuals criteria\nresiduals_options = solver.settings.solution.monitor.residual\nresiduals_options.equations[\"continuity\"].absolute_criteria = 0.0001\nresiduals_options.equations[\"continuity\"].monitor = True  # Enable continuity residuals\nresiduals_options.equations[\"x-velocity\"].absolute_criteria = 0.0001\nresiduals_options.equations[\"y-velocity\"].absolute_criteria = 0.0001\nresiduals_options.equations[\"z-velocity\"].absolute_criteria = 0.0001\nresiduals_options.equations[\"k\"].absolute_criteria = 0.0001\nresiduals_options.equations[\"omega\"].absolute_criteria = 0.0001\n\n\n# Initialize the solution\ninitialization = solver.settings.solution.initialization\ninitialization.reference_frame = \"absolute\"\ninitialization.initialization_type = \"standard\"\ninitialization.standard_initialize()"
      ]
    },
    {
      "cell_type": "markdown",
      "metadata": {},
      "source": [
        "## Define Report Definitions\n\n"
      ]
    },
    {
      "cell_type": "code",
      "execution_count": null,
      "metadata": {
        "collapsed": false
      },
      "outputs": [],
      "source": [
        "# Create a report definition for the volume average velocity magnitude\nvolume_avg_vmag_report_def = solver.settings.solution.report_definitions.volume.create(\n    \"volume-avg-vmag\"\n)\nvolume_avg_vmag_report_def.report_type.allowed_values()  # output the allowed values for report type\nvolume_avg_vmag_report_def.report_type = \"volume-average\"\nvolume_avg_vmag_report_def.field = \"velocity-magnitude\"\nvolume_avg_vmag_report_def.cell_zones = fluid_cell_zones\n\n# Report plot\nvolume_avg_vmag_report_plot = solver.settings.solution.monitor.report_plots.create(\n    \"volume-avg-vmag-rplot\"\n)\nvolume_avg_vmag_report_plot.report_defs = \"volume-avg-vmag\"\n# Report file\nvolume_avg_vmag_report_file = solver.settings.solution.monitor.report_files.create(\n    \"volume-avg-vmag-rfile\"\n)\nvolume_avg_vmag_report_file.report_defs = \"volume-avg-vmag\"\n\n\n# Create a report definition for the torque on the impeller walls\ntorque_report_def = solver.settings.solution.report_definitions.moment.create(\n    \"torque_imp_walls\"\n)\ntorque_report_def.report_output_type.allowed_values()  # output the allowed values for report output type\ntorque_report_def.report_output_type = \"Moment\"\nfiltered_walls = fnmatch.filter(all_walls, \"wall_impeller*\")\ntorque_report_def.zones = filtered_walls\n\n# Report plot\ntorque_report_plot = solver.settings.solution.monitor.report_plots.create(\n    \"torque_imp_walls_rplot\"\n)\ntorque_report_plot.report_defs = \"torque_imp_walls\"\n# Report file\ntorque_report_file = solver.settings.solution.monitor.report_files.create(\n    \"torque_imp_walls_rfile\"\n)\ntorque_report_file.report_defs = \"torque_imp_walls\"\n\n\n# Average and maximum dissipation rate report definitions\naverage_dissipation_rate_report_def = (\n    solver.settings.solution.report_definitions.volume.create(\n        \"average-dissipation-rate\"\n    )\n)\naverage_dissipation_rate_report_def.report_type = \"volume-average\"\naverage_dissipation_rate_report_def.field = \"turb-diss-rate\"\naverage_dissipation_rate_report_def.cell_zones = fluid_cell_zones\n\nmaximum_dissipation_rate_report_def = (\n    solver.settings.solution.report_definitions.volume.create(\n        \"maximum-dissipation-rate\"\n    )\n)\nmaximum_dissipation_rate_report_def.report_type = \"volume-max\"\nmaximum_dissipation_rate_report_def.field = \"turb-diss-rate\"\nmaximum_dissipation_rate_report_def.cell_zones = fluid_cell_zones\n\n# Average and maximum strain rate report definitions\naverage_strain_rate_report_def = (\n    solver.settings.solution.report_definitions.volume.create(\"average-strain-rate\")\n)\naverage_strain_rate_report_def.report_type = \"volume-average\"\naverage_strain_rate_report_def.field = \"strain-rate-mag\"\naverage_strain_rate_report_def.cell_zones = fluid_cell_zones\n\n\nmaximum_strain_rate_report_def = (\n    solver.settings.solution.report_definitions.volume.create(\"maximum-strain-rate\")\n)\nmaximum_strain_rate_report_def.report_type = \"volume-max\"\nmaximum_strain_rate_report_def.field = \"strain-rate-mag\"\nmaximum_strain_rate_report_def.cell_zones = fluid_cell_zones"
      ]
    },
    {
      "cell_type": "markdown",
      "metadata": {},
      "source": [
        "## Run Solver\n\n"
      ]
    },
    {
      "cell_type": "code",
      "execution_count": null,
      "metadata": {
        "collapsed": false
      },
      "outputs": [],
      "source": [
        "# Run the calculation\nrun_calculation = solver.settings.solution.run_calculation\nrun_calculation.iter_count = 500\n\n# Write the case file\nsolver.settings.file.write(file_type=\"case\", file_name=\"mixing_tank_final.cas.h5\")\n# Run the calculation\nrun_calculation.calculate()"
      ]
    },
    {
      "cell_type": "markdown",
      "metadata": {},
      "source": [
        "## Post-Processing Workflow\n\n"
      ]
    },
    {
      "cell_type": "code",
      "execution_count": null,
      "metadata": {
        "collapsed": false
      },
      "outputs": [],
      "source": [
        "# Set View\ncontour_view = graphics.views.display_states.create(\"contour_view\")\ncontour_view.front_faces_transparent = \"disable\"\ncontour_view.view_name = \"top\"\n\n# Define the contour for velocity magnitude\nvelocity_contour = solver.settings.results.graphics.contour.create(\n    name=\"velocity-contour\"\n)\nvelocity_contour.field = \"velocity-magnitude\"\nvelocity_contour.surfaces_list = [\"mid_plane\"]\nvelocity_contour.display_state_name = contour_view.name()\nvelocity_contour.display()\n\ngraphics.views.auto_scale()\ngraphics.picture.save_picture(file_name=\"mixing_tank_velocity_contour.png\")"
      ]
    },
    {
      "cell_type": "markdown",
      "metadata": {},
      "source": [
        "<img src=\"file://../../_static/mixing_tank_velocity_contour.png\" align=\"center\" scale=\"60%\" alt=\"Mixing Tank Model Velocity Contour\">\n\n"
      ]
    },
    {
      "cell_type": "markdown",
      "metadata": {},
      "source": [
        "## Save the case file\n\n"
      ]
    },
    {
      "cell_type": "code",
      "execution_count": null,
      "metadata": {
        "collapsed": false
      },
      "outputs": [],
      "source": [
        "solver.settings.file.write(file_type=\"case-data\", file_name=\"mixing_tank_final.cas.h5\")"
      ]
    },
    {
      "cell_type": "markdown",
      "metadata": {},
      "source": [
        "## Close the session\n\n"
      ]
    },
    {
      "cell_type": "code",
      "execution_count": null,
      "metadata": {
        "collapsed": false
      },
      "outputs": [],
      "source": [
        "session.exit()"
      ]
    }
  ],
  "metadata": {
    "kernelspec": {
      "display_name": "Python 3",
      "language": "python",
      "name": "python3"
    },
    "language_info": {
      "codemirror_mode": {
        "name": "ipython",
        "version": 3
      },
      "file_extension": ".py",
      "mimetype": "text/x-python",
      "name": "python",
      "nbconvert_exporter": "python",
      "pygments_lexer": "ipython3",
      "version": "3.11.11"
    }
  },
  "nbformat": 4,
  "nbformat_minor": 0
}