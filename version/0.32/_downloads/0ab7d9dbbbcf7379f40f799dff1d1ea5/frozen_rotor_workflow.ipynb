{
  "cells": [
    {
      "cell_type": "markdown",
      "metadata": {},
      "source": [
        "\n# Impeller-Volute simulation using the Frozen Rotor Approach\n"
      ]
    },
    {
      "cell_type": "markdown",
      "metadata": {},
      "source": [
        "## Objective\n\nThis example demonstrates how to set up a CFD simulation of an impeller and volute using\nthe frozen rotor approach. The frozen rotor approach is a technique used in computational\nfluid dynamics (CFD) to simulate the flow around rotating machinery, such as pumps,\nturbines, and compressors. In this approach, the rotor is treated as a stationary\ncomponent, while the surrounding fluid is allowed to move. This allows for a more\nefficient simulation of the flow field, as the rotor's motion does not need to be\nexplicitly modeled. The frozen rotor approach is particularly useful for simulating\nsteady-state flows, where the rotor's motion is constant.\nBy using this approach, engineers can obtain accurate predictions of the\nflow field and performance characteristics of rotating machinery without the need for\ncomplex and computationally expensive simulations.\n\n\n<img src=\"file://../../_static/pump-volute-geom.png\" align=\"center\" alt=\"Pump Volute Geometry View\">\n\n"
      ]
    },
    {
      "cell_type": "markdown",
      "metadata": {},
      "source": [
        "## Outline\n\n"
      ]
    },
    {
      "cell_type": "code",
      "execution_count": null,
      "metadata": {
        "collapsed": false
      },
      "outputs": [],
      "source": [
        "# The example demonstrates the following:\n\n# *Overview & Problem description\n# *Launching Fluent in solver mode.\n# *Downloading a mesh files from the examples repository.\n# *Initial setup\n# *Mesh configuration\n# *Model selection & Material definition\n# *Defining cell zone conditions & boundary conditions\n# *Turbomachinery configuration\n# *Solver settings\n# *Report definitions\n# *Initialization\n# *Running the simulation\n# *Post-processing the results\n# *Visualizing the results\n# *Saving the case file\n# *Closing the solver"
      ]
    },
    {
      "cell_type": "markdown",
      "metadata": {},
      "source": [
        "## Import required libraries/modules\n\n"
      ]
    },
    {
      "cell_type": "code",
      "execution_count": null,
      "metadata": {
        "collapsed": false
      },
      "outputs": [],
      "source": [
        "import math\n\nimport ansys.fluent.core as pyfluent\nfrom ansys.fluent.core import examples"
      ]
    },
    {
      "cell_type": "markdown",
      "metadata": {},
      "source": [
        "## Download the mesh file\n\n"
      ]
    },
    {
      "cell_type": "code",
      "execution_count": null,
      "metadata": {
        "collapsed": false
      },
      "outputs": [],
      "source": [
        "# Download the mesh file from the examples repository\n# Impeller and volute mesh files\nimpeller_mesh = examples.download_file(\n    \"impeller.msh.h5\",\n    \"pyfluent/examples/pump-volute\",\n)\n\nvolute_mesh = examples.download_file(\n    \"volute.msh.h5\",\n    \"pyfluent/examples/pump-volute\",\n)"
      ]
    },
    {
      "cell_type": "markdown",
      "metadata": {},
      "source": [
        "## Define Constants\n\n"
      ]
    },
    {
      "cell_type": "code",
      "execution_count": null,
      "metadata": {
        "collapsed": false
      },
      "outputs": [],
      "source": [
        "density_water = 998.2  # kg/m^3\nviscosity_water = 0.001002  # kg/(m.s)\ng = 9.81  # m/s^2\n# Impeller speed\nimpeller_speed = 1450  # rpm\n# Convert to rad/s\nimpeller_speed_rad = impeller_speed * 2 * math.pi / 60  # rad/s"
      ]
    },
    {
      "cell_type": "markdown",
      "metadata": {},
      "source": [
        "## Launch Fluent with solver mode and print Fluent version\n\n"
      ]
    },
    {
      "cell_type": "code",
      "execution_count": null,
      "metadata": {
        "collapsed": false
      },
      "outputs": [],
      "source": [
        "solver = pyfluent.launch_fluent(\n    mode=\"solver\",\n    ui_mode=\"gui\",\n    processor_count=4,\n    cleanup_on_exit=True,\n)\nprint(solver.get_fluent_version())"
      ]
    },
    {
      "cell_type": "markdown",
      "metadata": {},
      "source": [
        "## Read, append the mesh files\n\n"
      ]
    },
    {
      "cell_type": "code",
      "execution_count": null,
      "metadata": {
        "collapsed": false
      },
      "outputs": [],
      "source": [
        "# Read Impeller mesh file\nsolver.settings.file.read_mesh(file_name=impeller_mesh)\n# Append Volute mesh file\nsolver.settings.mesh.modify_zones.append_mesh(file_name=volute_mesh)"
      ]
    },
    {
      "cell_type": "markdown",
      "metadata": {},
      "source": [
        "## Display the mesh\n\n"
      ]
    },
    {
      "cell_type": "code",
      "execution_count": null,
      "metadata": {
        "collapsed": false
      },
      "outputs": [],
      "source": [
        "# Access the graphics object\ngraphics = solver.settings.results.graphics\n\n# Create a mesh object and configure its settings\nmesh_object = solver.settings.results.graphics.mesh.create(name=\"mesh-1\")\nmesh_object.surfaces_list = [\n    \"inlet\",\n    \"mass-flow-inlet-11\",\n    \"interface-impeller-outlet\",\n    \"interface-volute-inlet\",\n    \"blade\",\n    \"impeller-hub\",\n    \"impeller-shroud\",\n    \"inblock-hub\",\n    \"inblock-shroud\",\n    \"volute-inlet-wall\",\n    \"volute-wall\",\n]\nmesh_object.options.edges = True\n\n\n# Set the hardcopy format for saving the image\ngraphics.picture.driver_options.hardcopy_format = \"png\"\n\ngraphics.views.restore_view(view_name=\"front\")\nmesh_object.display()\ngraphics.views.auto_scale()\ngraphics.picture.save_picture(\n    file_name=\"pump-volute-mesh.png\",\n)"
      ]
    },
    {
      "cell_type": "markdown",
      "metadata": {},
      "source": [
        "<img src=\"file://../../_static/pump-volute-mesh.png\" align=\"center\" width=\"650px\" height=\"400px\" alt=\"Pump Volute Mesh\">\n\n"
      ]
    },
    {
      "cell_type": "markdown",
      "metadata": {},
      "source": [
        "## Set the unit for angular velocity, rad/s to rev/min\n\n"
      ]
    },
    {
      "cell_type": "code",
      "execution_count": null,
      "metadata": {
        "collapsed": false
      },
      "outputs": [],
      "source": [
        "solver.settings.setup.general.units.set_units(\n    quantity=\"angular-velocity\", units_name=\"rev/min\"\n)"
      ]
    },
    {
      "cell_type": "markdown",
      "metadata": {},
      "source": [
        "## Define the Viscous Model\n\n"
      ]
    },
    {
      "cell_type": "code",
      "execution_count": null,
      "metadata": {
        "collapsed": false
      },
      "outputs": [],
      "source": [
        "# Models setting\nviscous = solver.settings.setup.models.viscous\nviscous = solver.settings.setup.models.viscous\nviscous.model = \"k-omega\"\nviscous.k_omega_model = \"sst\""
      ]
    },
    {
      "cell_type": "markdown",
      "metadata": {},
      "source": [
        "## Define Materials\n\n"
      ]
    },
    {
      "cell_type": "code",
      "execution_count": null,
      "metadata": {
        "collapsed": false
      },
      "outputs": [],
      "source": [
        "solver.settings.setup.materials.database.copy_by_name(type=\"fluid\", name=\"water-liquid\")"
      ]
    },
    {
      "cell_type": "markdown",
      "metadata": {},
      "source": [
        "## Define Cell Zone Conditions\n\n"
      ]
    },
    {
      "cell_type": "code",
      "execution_count": null,
      "metadata": {
        "collapsed": false
      },
      "outputs": [],
      "source": [
        "impeller_cell_zone = solver.settings.setup.cell_zone_conditions.fluid[\"impeller\"]\nimpeller_cell_zone.general.material = \"water-liquid\"\n\nimpeller_cell_zone.reference_frame.reference_frame_axis_origin = [0, 0, 0]\nimpeller_cell_zone.reference_frame.reference_frame_axis_direction = [0, 0, 1]\nimpeller_cell_zone.reference_frame.frame_motion = True\n\n# impeller rotation\nimpeller_cell_zone.reference_frame.mrf_omega.value = impeller_speed_rad\n\n\n# Volute Cell Zone Conditions\nvolute_cell_zone = solver.settings.setup.cell_zone_conditions.fluid[\"volute\"]\nvolute_cell_zone.general.material = \"water-liquid\"\n\n\n# Boundary Conditions\n# impeller hub\nimpeller_hub = solver.settings.setup.boundary_conditions.wall[\"impeller-hub\"].momentum\nimpeller_hub.wall_motion = \"Moving Wall\"\nimpeller_hub.relative = True\nimpeller_hub.velocity_spec = \"Rotational\"\n\n#  inblock-shroud\n\ninblock_shroud = solver.settings.setup.boundary_conditions.wall[\n    \"inblock-shroud\"\n].momentum\ninblock_shroud.wall_motion = \"Moving Wall\"\ninblock_shroud.relative = False\ninblock_shroud.velocity_spec = \"Rotational\""
      ]
    },
    {
      "cell_type": "markdown",
      "metadata": {},
      "source": [
        "## Define Boundary Conditions\n\n"
      ]
    },
    {
      "cell_type": "code",
      "execution_count": null,
      "metadata": {
        "collapsed": false
      },
      "outputs": [],
      "source": [
        "# Inlet Boundary Condition\npressure_inlet = solver.settings.setup.boundary_conditions.pressure_inlet[\"inlet\"]\npressure_inlet.momentum.supersonic_or_initial_gauge_pressure.value = -100\n\n# It seems, need to change the boundary condition to mass flow outlet\nsolver.settings.setup.boundary_conditions.set_zone_type(\n    zone_list=[\"mass-flow-inlet-11\"], new_type=\"mass-flow-outlet\"\n)\n# Outlet Boundary Condition\n\nmass_flow_outlet = solver.settings.setup.boundary_conditions.mass_flow_outlet[\n    \"mass-flow-inlet-11\"\n]\nmass_flow_outlet.momentum.mass_flow_rate.value = 90  # kg/s\n\n\n# Create a turbo interfaces\n# enable the turbo models\nsolver.settings.setup.turbo_models.enabled = True\n\nimpeller_volute_interface = solver.settings.setup.mesh_interfaces.turbo_create.create(\n    adjacent_cell_zone_1=\"impeller\",\n    adjacent_cell_zone_2=\"volute\",\n    mesh_interface_name=\"imp-volute-interface\",\n    turbo_choice=\"No-Pitch-Scale\",\n    zone1=\"interface-impeller-outlet\",\n    zone2=\"interface-volute-inlet\",\n)"
      ]
    },
    {
      "cell_type": "markdown",
      "metadata": {},
      "source": [
        "## Define Solver Settings\n\n"
      ]
    },
    {
      "cell_type": "code",
      "execution_count": null,
      "metadata": {
        "collapsed": false
      },
      "outputs": [],
      "source": [
        "methods = solver.settings.solution.methods\nmethods.spatial_discretization.gradient_scheme = \"green-gauss-node-based\"\nmethods.high_order_term_relaxation.enable = True"
      ]
    },
    {
      "cell_type": "markdown",
      "metadata": {},
      "source": [
        "## Define Named Expressions\n\n"
      ]
    },
    {
      "cell_type": "code",
      "execution_count": null,
      "metadata": {
        "collapsed": false
      },
      "outputs": [],
      "source": [
        "pump_head = solver.settings.setup.named_expressions.create(\"head\")\npump_head.definition = \"(({p-out} - {p-in}) / (998.2 [kg/m^3] * 9.81[m/s^2]))\"\npump_head.output_parameter = True"
      ]
    },
    {
      "cell_type": "markdown",
      "metadata": {},
      "source": [
        "## Define Report Definitions\n\n"
      ]
    },
    {
      "cell_type": "code",
      "execution_count": null,
      "metadata": {
        "collapsed": false
      },
      "outputs": [],
      "source": [
        "# Create a report definition\n# p-out\noutlet_pressure_report_def = solver.settings.solution.report_definitions.surface.create(\n    \"p-out\"\n)\noutlet_pressure_report_def.report_type = \"surface-massavg\"\noutlet_pressure_report_def.surface_names = [\"mass-flow-inlet-11\"]\noutlet_pressure_report_def.field = \"total-pressure\"\noutlet_pressure_report_def.per_surface = False\n\noutlet_pressure_report_plot = solver.settings.solution.monitor.report_plots.create(\n    \"p-out-rplot\"\n)\noutlet_pressure_report_plot.report_defs = \"p-out\"\n\noutlet_pressure_report_file = solver.settings.solution.monitor.report_files.create(\n    \"p-out-rfile\"\n)\noutlet_pressure_report_file.report_defs = \"p-out\"\n\n# p-in\ninlet_pressure_report_def = solver.settings.solution.report_definitions.surface.create(\n    \"p-in\"\n)\ninlet_pressure_report_def.report_type = \"surface-massavg\"\ninlet_pressure_report_def.surface_names = [\"inlet\"]\ninlet_pressure_report_def.field = \"total-pressure\"\ninlet_pressure_report_def.per_surface = False\n\n\n# Pump Head\npump_head_report_def = (\n    solver.settings.solution.report_definitions.single_valued_expression.create(\n        \"pump-head\"\n    )\n)\n\npump_head_report_def.definition = \"head\"\n\n# report plot\npump_head_report_plot = solver.settings.solution.monitor.report_plots.create(\n    \"pump-head-rplot\"\n)\npump_head_report_plot.report_defs = \"pump-head\"\n\n# report file\npump_head_report_file = solver.settings.solution.monitor.report_files.create(\n    \"pump-head-rfile\"\n)\npump_head_report_file.report_defs = \"pump-head\"\n\n# p-blade\nblade_pressure_report_def = solver.settings.solution.report_definitions.surface.create(\n    \"p-blade\"\n)\nblade_pressure_report_def.report_type = \"surface-massavg\"\nblade_pressure_report_def.surface_names = [\"blade\"]\nblade_pressure_report_def.field = \"pressure\"\nblade_pressure_report_def.per_surface = False"
      ]
    },
    {
      "cell_type": "markdown",
      "metadata": {},
      "source": [
        "## Initialization and run solver\n\n"
      ]
    },
    {
      "cell_type": "code",
      "execution_count": null,
      "metadata": {
        "collapsed": false
      },
      "outputs": [],
      "source": [
        "initialization = solver.settings.solution.initialization\ninitialization.reference_frame = \"absolute\"\ninitialization.hybrid_init_options.general_settings.initialization_options.initial_pressure = (\n    True\n)\ninitialization.hybrid_initialize()\n\n# Run calculation settings\nrun_calculation = solver.settings.solution.run_calculation\nrun_calculation.pseudo_time_settings.time_step_method.time_step_size_scale_factor = 10\nrun_calculation.iter_count = 200\n\n# Write the case file\nsolver.settings.file.write(file_type=\"case\", file_name=\"pump_voulte_setup.cas.h5\")\n# Run the calculation\nrun_calculation.calculate()"
      ]
    },
    {
      "cell_type": "markdown",
      "metadata": {},
      "source": [
        "## Post-Processing Workflow\n\n"
      ]
    },
    {
      "cell_type": "code",
      "execution_count": null,
      "metadata": {
        "collapsed": false
      },
      "outputs": [],
      "source": [
        "# Create a mid-plane surface at z = -0.015 m\nz_mid_plane = solver.settings.results.surfaces.plane_surface.create(name=\"z_mid_plane\")\nz_mid_plane.method = \"xy-plane\"\nz_mid_plane.z = -0.015\nz_mid_plane.display()\n\n# Define the contour for static pressure\npressure_contour = solver.settings.results.graphics.contour.create(\n    name=\"static-pressure-contour\"\n)\npressure_contour.field = \"pressure\"\npressure_contour.surfaces_list = [\"z_mid_plane\"]\n\n# Display the contour and save the image\n\ngraphics.views.restore_view(view_name=\"front\")\npressure_contour.display()\ngraphics.views.auto_scale()\ngraphics.picture.save_picture(file_name=\"static-pressure-contour.png\")"
      ]
    },
    {
      "cell_type": "markdown",
      "metadata": {},
      "source": [
        "<img src=\"file://../../_static/static-pressure-contour.png\" align=\"center\" alt=\"Static Pressure Contour\">\n\n"
      ]
    },
    {
      "cell_type": "markdown",
      "metadata": {},
      "source": [
        "## Save the case file\n\n"
      ]
    },
    {
      "cell_type": "code",
      "execution_count": null,
      "metadata": {
        "collapsed": false
      },
      "outputs": [],
      "source": [
        "solver.settings.file.write(\n    file_type=\"case-data\", file_name=\"pump_volute_setup_solved.cas.h5\"\n)"
      ]
    },
    {
      "cell_type": "markdown",
      "metadata": {},
      "source": [
        "## Close the session\n\n"
      ]
    },
    {
      "cell_type": "code",
      "execution_count": null,
      "metadata": {
        "collapsed": false
      },
      "outputs": [],
      "source": [
        "solver.exit()"
      ]
    },
    {
      "cell_type": "markdown",
      "metadata": {},
      "source": [
        "## References\n\n[1] Ansys Fluent User's Guide, Release 2025R1\n\n"
      ]
    }
  ],
  "metadata": {
    "kernelspec": {
      "display_name": "Python 3",
      "language": "python",
      "name": "python3"
    },
    "language_info": {
      "codemirror_mode": {
        "name": "ipython",
        "version": 3
      },
      "file_extension": ".py",
      "mimetype": "text/x-python",
      "name": "python",
      "nbconvert_exporter": "python",
      "pygments_lexer": "ipython3",
      "version": "3.11.11"
    }
  },
  "nbformat": 4,
  "nbformat_minor": 0
}