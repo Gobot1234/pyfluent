{
 "cells": [
  {
   "cell_type": "markdown",
   "id": "199a11c4-cd4d-4294-a4dd-ac6b2d232d63",
   "metadata": {},
   "source": [
    "## The following cells should be executed in Fluent solver mode"
   ]
  },
  {
   "cell_type": "markdown",
   "id": "8cf11060-c73d-4f1d-9c2a-4a3ae2fa111d",
   "metadata": {},
   "source": [
    "Execute a TUI command. The alternate settings API command will be suggested."
   ]
  },
  {
   "cell_type": "code",
   "execution_count": null,
   "id": "6ef7fcb2-db63-4e17-bc40-f7d647f1a97f",
   "metadata": {},
   "outputs": [],
   "source": [
    "solver.tui.file.read_case(\"elbow.cas.h5\")"
   ]
  },
  {
   "cell_type": "markdown",
   "id": "dfc15536-adec-4519-8a10-10cc43bbbe6a",
   "metadata": {},
   "source": [
    "Units workflow"
   ]
  },
  {
   "cell_type": "code",
   "execution_count": null,
   "id": "98dbaa55-7727-458e-81db-019821938784",
   "metadata": {},
   "outputs": [],
   "source": [
    "import ansys.units\n",
    "solver.setup.boundary_conditions.velocity_inlet[\"hot-inlet\"].turbulence\n",
    "turbulence.turbulent_specification = \"Intensity and Hydraulic Diameter\"\n",
    "hydraulic_diameter = turbulence.hydraulic_diameter\n",
    "hydraulic_diameter.set_state(ansys.units.Quantity(1, \"in\"))\n",
    "print(hydraulic_diameter.as_quantity())\n",
    "print(hydraulic_diameter.state_with_units())\n",
    "print(hydraulic_diameter.units())\n",
    "print(hydraulic_diameter())"
   ]
  },
  {
   "cell_type": "code",
   "execution_count": null,
   "id": "23efde78-b656-4022-8dcc-13c624dedf1c",
   "metadata": {},
   "outputs": [],
   "source": [
    "solver.events_manager.register_callback(\"IterationEnded\", lambda session_id, event_info: print(event_info))"
   ]
  },
  {
   "cell_type": "code",
   "execution_count": null,
   "id": "6e97fc0e-40c2-44c6-b539-0a2f8507ff77",
   "metadata": {},
   "outputs": [],
   "source": [
    "solver.events_manager.register_callback(\"IterationEndedEvent\", lambda session_id, event_info: print(event_info))"
   ]
  },
  {
   "cell_type": "code",
   "execution_count": null,
   "id": "94c5c529-7a15-4172-8a0b-b3d6650ce2a6",
   "metadata": {},
   "outputs": [],
   "source": [
    "solver.solution.run_calculation.iterate(iter_count=10)"
   ]
  },
  {
   "cell_type": "code",
   "execution_count": null,
   "id": "ac1423f9-1eb2-44db-a733-3dc7e3b027f2",
   "metadata": {},
   "outputs": [],
   "source": [
    "solver.monitors_manager.get_monitor_set_names()"
   ]
  },
  {
   "cell_type": "code",
   "execution_count": null,
   "id": "2af5f2e1-968c-4a8d-8c70-57913197c8d6",
   "metadata": {},
   "outputs": [],
   "source": [
    "solver.monitors_manager.get_monitor_set_data(monitor_set_name=\"residual\")"
   ]
  },
  {
   "cell_type": "code",
   "execution_count": null,
   "id": "54206a22-bc97-477c-85d9-c0f297c8c8ab",
   "metadata": {
    "scrolled": true
   },
   "outputs": [],
   "source": [
    "solver.monitors_manager.register_callback(lambda: print(\"monitor data updated\"))\n",
    "solver.solution.run_calculation.iterate(iter_count=10)"
   ]
  },
  {
   "cell_type": "code",
   "execution_count": null,
   "id": "12dadc8b-7bef-4f83-a4d1-3a3ff5473956",
   "metadata": {},
   "outputs": [],
   "source": [
    "result = solver.field_data.get_scalar_field_data(field_name=\"pressure\", surface_ids=[2, 3])\n",
    "[x.scalar_data for x in result[2].data]"
   ]
  },
  {
   "cell_type": "code",
   "execution_count": null,
   "id": "cc3182c6-8d24-4916-9c54-f92d6cc50076",
   "metadata": {},
   "outputs": [],
   "source": [
    "solver.field_info.get_surfaces_info()"
   ]
  },
  {
   "cell_type": "code",
   "execution_count": null,
   "id": "22a4f93a-baa4-4d56-826c-cedd20cef680",
   "metadata": {},
   "outputs": [],
   "source": [
    "sv_t_wall_fluid=solver.solution_variable_data.get_data(solution_variable_name=\"SV_T\", domain_name=\"mixture\", zone_names=[\"fluid\", \"wall\"])\n",
    "print(sv_t_wall_fluid['wall'])\n",
    "print(sv_t_wall_fluid['fluid'])"
   ]
  },
  {
   "cell_type": "code",
   "execution_count": null,
   "id": "077d97a4-276b-4bf5-b9f2-681468f64b3a",
   "metadata": {},
   "outputs": [],
   "source": [
    "wall_temp_array = solver.solution_variable_data.create_empty_array(\"SV_T\", \"wall\")\n",
    "fluid_temp_array = solver.solution_variable_data.create_empty_array(\"SV_T\", \"fluid\")\n",
    "wall_temp_array[:]= 500\n",
    "fluid_temp_array[:]= 600\n",
    "zone_names_to_solution_variable_data = {'wall':wall_temp_array, 'fluid':fluid_temp_array}\n",
    "solver.solution_variable_data.set_data(solution_variable_name=\"SV_T\", domain_name=\"mixture\", zone_names_to_solution_variable_data=zone_names_to_solution_variable_data)"
   ]
  },
  {
   "cell_type": "code",
   "execution_count": null,
   "id": "b0d7d3fd-569c-4953-bee1-1bb2097f5249",
   "metadata": {},
   "outputs": [],
   "source": [
    "sv_t_wall_fluid=solver.solution_variable_data.get_data(solution_variable_name=\"SV_T\", domain_name=\"mixture\", zone_names=[\"fluid\", \"wall\"])\n",
    "print(sv_t_wall_fluid['wall'])\n",
    "print(sv_t_wall_fluid['fluid'])"
   ]
  },
  {
   "cell_type": "code",
   "execution_count": null,
   "id": "31e1b3d2-8f9b-4f7f-98d2-69836990edfc",
   "metadata": {},
   "outputs": [],
   "source": [
    "solver.reduction.area_integral(\"AbsolutePressure\", [\"wall\"])"
   ]
  },
  {
   "cell_type": "code",
   "execution_count": null,
   "id": "647c179b-7255-4a2f-a04f-7773da2f1a15",
   "metadata": {},
   "outputs": [],
   "source": [
    "solver.scheme_eval.scheme_eval(\"(cx-version)\")"
   ]
  }
 ],
 "metadata": {
  "kernelspec": {
   "display_name": "Python 3 (ipykernel)",
   "language": "python",
   "name": "python3"
  },
  "language_info": {
   "codemirror_mode": {
    "name": "ipython",
    "version": 3
   },
   "file_extension": ".py",
   "mimetype": "text/x-python",
   "name": "python",
   "nbconvert_exporter": "python",
   "pygments_lexer": "ipython3",
   "version": "3.11.8"
  }
 },
 "nbformat": 4,
 "nbformat_minor": 5
}
