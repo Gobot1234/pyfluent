{
 "cells": [
  {
   "cell_type": "markdown",
   "id": "199a11c4-cd4d-4294-a4dd-ac6b2d232d63",
   "metadata": {},
   "source": [
    "## The following cells should be executed in Fluent solver mode"
   ]
  },
  {
   "cell_type": "markdown",
   "id": "22a220a2-4e3e-4bd6-afd4-67221ca6f085",
   "metadata": {},
   "source": [
    "See PuFluent objects are available in PyConsole"
   ]
  },
  {
   "cell_type": "code",
   "execution_count": null,
   "id": "084990a7-9d78-41db-a7b2-63f37b53d77d",
   "metadata": {},
   "outputs": [],
   "source": [
    "dir(solver)\n",
    "solver"
   ]
  },
  {
   "cell_type": "markdown",
   "id": "8cf11060-c73d-4f1d-9c2a-4a3ae2fa111d",
   "metadata": {},
   "source": [
    "Execute a TUI command. The alternate settings API command will be suggested."
   ]
  },
  {
   "cell_type": "code",
   "execution_count": null,
   "id": "6ef7fcb2-db63-4e17-bc40-f7d647f1a97f",
   "metadata": {},
   "outputs": [],
   "source": [
    "solver.tui.file.read_case(\"elbow.cas.h5\")"
   ]
  },
  {
   "cell_type": "markdown",
   "id": "dfc15536-adec-4519-8a10-10cc43bbbe6a",
   "metadata": {},
   "source": [
    "Setting using `ansys.units.Quantity` object"
   ]
  },
  {
   "cell_type": "code",
   "execution_count": null,
   "id": "98dbaa55-7727-458e-81db-019821938784",
   "metadata": {},
   "outputs": [],
   "source": [
    "import ansys.units\n",
    "turbulence = solver.setup.boundary_conditions.velocity_inlet[\"inlet1\"].turbulence\n",
    "turbulence.hydraulic_diameter = ansys.units.Quantity(1, \"in\")\n",
    "turbulence.hydraulic_diameter()\n",
    "turbulence.hydraulic_diameter.as_quantity()\n",
    "turbulence.hydraulic_diameter.state_with_units()\n",
    "turbulence.hydraulic_diameter.units()"
   ]
  },
  {
   "cell_type": "markdown",
   "id": "d2383622-c203-46d3-879a-edc7442cfaf4",
   "metadata": {},
   "source": [
    "Setting using (value, unit) tuple"
   ]
  },
  {
   "cell_type": "code",
   "execution_count": null,
   "id": "569f97a8-a1e3-4c77-84b1-d9ec17a7d007",
   "metadata": {},
   "outputs": [],
   "source": [
    "turbulence.hydraulic_diameter.set_state((5, \"cm\"))\n",
    "turbulence.hydraulic_diameter.as_quantity()"
   ]
  },
  {
   "cell_type": "markdown",
   "id": "e1be7c1f-c289-4e69-9faa-6891612dd920",
   "metadata": {},
   "source": [
    "PyFluent errors are available, e.g. when using an incorrect event name "
   ]
  },
  {
   "cell_type": "code",
   "execution_count": null,
   "id": "23efde78-b656-4022-8dcc-13c624dedf1c",
   "metadata": {},
   "outputs": [],
   "source": [
    "solver.events_manager.register_callback(\"IterationEnded\", lambda session_id, event_info: print(event_info))"
   ]
  },
  {
   "cell_type": "markdown",
   "id": "18f41e11-dfbb-4b9a-b2ca-ba8afa9e2ae7",
   "metadata": {},
   "source": [
    "Registering a callback to `IterationEndedEvent` event"
   ]
  },
  {
   "cell_type": "code",
   "execution_count": null,
   "id": "6e97fc0e-40c2-44c6-b539-0a2f8507ff77",
   "metadata": {},
   "outputs": [],
   "source": [
    "solver.events_manager.register_callback(\"IterationEndedEvent\", lambda session_id, event_info: print(event_info))"
   ]
  },
  {
   "cell_type": "markdown",
   "id": "5d73779c-80f3-4a7a-a236-cdd24c1639b6",
   "metadata": {},
   "source": [
    "The callback is executed at the end of each iteration."
   ]
  },
  {
   "cell_type": "code",
   "execution_count": null,
   "id": "94c5c529-7a15-4172-8a0b-b3d6650ce2a6",
   "metadata": {},
   "outputs": [],
   "source": [
    "solver.solution.run_calculation.iterate(iter_count=10)"
   ]
  },
  {
   "cell_type": "markdown",
   "id": "d036a81e-b968-4750-aa3f-e91652d6aa59",
   "metadata": {},
   "source": [
    "Getting all monitor names"
   ]
  },
  {
   "cell_type": "code",
   "execution_count": null,
   "id": "ac1423f9-1eb2-44db-a733-3dc7e3b027f2",
   "metadata": {},
   "outputs": [],
   "source": [
    "solver.monitors_manager.get_monitor_set_names()"
   ]
  },
  {
   "cell_type": "markdown",
   "id": "9e91d3b3-0505-4314-a8b9-fa556ca8896d",
   "metadata": {},
   "source": [
    "Getting monitor data"
   ]
  },
  {
   "cell_type": "code",
   "execution_count": null,
   "id": "2af5f2e1-968c-4a8d-8c70-57913197c8d6",
   "metadata": {},
   "outputs": [],
   "source": [
    "solver.monitors_manager.get_monitor_set_data(monitor_set_name=\"residual\")"
   ]
  },
  {
   "cell_type": "markdown",
   "id": "07ff088a-cd02-45fd-8d5c-cdbca300363e",
   "metadata": {},
   "source": [
    "Registering a callback when monitor data is updated"
   ]
  },
  {
   "cell_type": "code",
   "execution_count": null,
   "id": "54206a22-bc97-477c-85d9-c0f297c8c8ab",
   "metadata": {
    "scrolled": true
   },
   "outputs": [],
   "source": [
    "solver.monitors_manager.register_callback(lambda: print(\"monitor data updated\"))\n",
    "solver.solution.run_calculation.iterate(iter_count=10)"
   ]
  },
  {
   "cell_type": "markdown",
   "id": "b2ac4704-069d-43b0-bd0d-3c45ff6dac33",
   "metadata": {},
   "source": [
    "Getting field data"
   ]
  },
  {
   "cell_type": "code",
   "execution_count": null,
   "id": "5969fbff-f764-4e42-a3aa-32e08ea56aef",
   "metadata": {},
   "outputs": [],
   "source": [
    "result = solver.field_data.get_scalar_field_data(field_name=\"pressure\", surface_ids=[2, 3])\n",
    "[x.scalar_data for x in result[2].data]"
   ]
  },
  {
   "cell_type": "markdown",
   "id": "56ac1697-ff8d-4fd9-8fec-eca0388b2e1d",
   "metadata": {},
   "source": [
    "Getting metadata about fields"
   ]
  },
  {
   "cell_type": "code",
   "execution_count": null,
   "id": "cc3182c6-8d24-4916-9c54-f92d6cc50076",
   "metadata": {},
   "outputs": [],
   "source": [
    "solver.field_info.get_surfaces_info()"
   ]
  },
  {
   "cell_type": "markdown",
   "id": "72f06a6b-ed1e-46b8-87e4-b5a10d8336c2",
   "metadata": {},
   "source": [
    "Getting solution variable data"
   ]
  },
  {
   "cell_type": "code",
   "execution_count": null,
   "id": "22a4f93a-baa4-4d56-826c-cedd20cef680",
   "metadata": {},
   "outputs": [],
   "source": [
    "sv_t_wall_fluid=solver.solution_variable_data.get_data(solution_variable_name=\"SV_T\", domain_name=\"mixture\", zone_names=[\"fluid\", \"wall\"])\n",
    "sv_t_wall_fluid['wall']\n",
    "sv_t_wall_fluid['fluid']"
   ]
  },
  {
   "cell_type": "markdown",
   "id": "3524dbec-a6c1-4448-a566-1ffe96a8e58a",
   "metadata": {},
   "source": [
    "Setting solution variable data"
   ]
  },
  {
   "cell_type": "code",
   "execution_count": null,
   "id": "077d97a4-276b-4bf5-b9f2-681468f64b3a",
   "metadata": {},
   "outputs": [],
   "source": [
    "wall_temp_array = solver.solution_variable_data.create_empty_array(\"SV_T\", \"wall\")\n",
    "fluid_temp_array = solver.solution_variable_data.create_empty_array(\"SV_T\", \"fluid\")\n",
    "wall_temp_array[:]= 500\n",
    "fluid_temp_array[:]= 600\n",
    "zone_names_to_solution_variable_data = {'wall':wall_temp_array, 'fluid':fluid_temp_array}\n",
    "solver.solution_variable_data.set_data(solution_variable_name=\"SV_T\", domain_name=\"mixture\", zone_names_to_solution_variable_data=zone_names_to_solution_variable_data)"
   ]
  },
  {
   "cell_type": "code",
   "execution_count": null,
   "id": "b0d7d3fd-569c-4953-bee1-1bb2097f5249",
   "metadata": {},
   "outputs": [],
   "source": [
    "sv_t_wall_fluid=solver.solution_variable_data.get_data(solution_variable_name=\"SV_T\", domain_name=\"mixture\", zone_names=[\"fluid\", \"wall\"])\n",
    "sv_t_wall_fluid['wall']\n",
    "sv_t_wall_fluid['fluid']"
   ]
  },
  {
   "cell_type": "markdown",
   "id": "cef554b4-7c83-4423-a116-a60cf78e6c4f",
   "metadata": {},
   "source": [
    "Expression evaluation"
   ]
  },
  {
   "cell_type": "code",
   "execution_count": null,
   "id": "31e1b3d2-8f9b-4f7f-98d2-69836990edfc",
   "metadata": {},
   "outputs": [],
   "source": [
    "solver.reduction.area_integral(\"AbsolutePressure\", [\"wall\"])"
   ]
  },
  {
   "cell_type": "markdown",
   "id": "ef26e42b-471d-4963-b59e-31f40945849c",
   "metadata": {},
   "source": [
    "Scheme code execution"
   ]
  },
  {
   "cell_type": "code",
   "execution_count": null,
   "id": "647c179b-7255-4a2f-a04f-7773da2f1a15",
   "metadata": {},
   "outputs": [],
   "source": [
    "solver.scheme_eval.scheme_eval(\"(cx-version)\")"
   ]
  }
 ],
 "metadata": {
  "kernelspec": {
   "display_name": "Python 3 (ipykernel)",
   "language": "python",
   "name": "python3"
  },
  "language_info": {
   "codemirror_mode": {
    "name": "ipython",
    "version": 3
   },
   "file_extension": ".py",
   "mimetype": "text/x-python",
   "name": "python",
   "nbconvert_exporter": "python",
   "pygments_lexer": "ipython3",
   "version": "3.11.8"
  }
 },
 "nbformat": 4,
 "nbformat_minor": 5
}
