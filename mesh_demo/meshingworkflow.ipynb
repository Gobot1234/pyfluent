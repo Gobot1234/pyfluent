{
 "cells": [
  {
   "cell_type": "markdown",
   "id": "029a118d-6fae-4758-9aaa-5ee6e346e782",
   "metadata": {},
   "source": [
    "Simple method-based workflow instantiation"
   ]
  },
  {
   "cell_type": "code",
   "execution_count": null,
   "id": "592dea35-768e-4e29-a4f0-bb1420053483",
   "metadata": {},
   "outputs": [],
   "source": [
    "watertight = meshing.watertight()"
   ]
  },
  {
   "cell_type": "markdown",
   "id": "04763fe3-f0c1-4362-86a7-42195a24b7d7",
   "metadata": {},
   "source": [
    "Direct access to tasks"
   ]
  },
  {
   "cell_type": "code",
   "execution_count": null,
   "id": "b93a4e66-a927-42ac-b830-c6446fa19524",
   "metadata": {},
   "outputs": [],
   "source": [
    "import_geometry = watertight.import_geometry"
   ]
  },
  {
   "cell_type": "markdown",
   "id": "8a7469a1-14e2-42eb-b154-fd77e564b801",
   "metadata": {},
   "source": [
    "Access to full argument state information - not an empty dictionary!"
   ]
  },
  {
   "cell_type": "code",
   "execution_count": null,
   "id": "faadc99b-0aea-47f9-98ce-ac7f3f8d0e48",
   "metadata": {},
   "outputs": [],
   "source": [
    "args = import_geometry.arguments()"
   ]
  },
  {
   "cell_type": "markdown",
   "id": "d541429e-8515-4c03-a6ab-6dbae2648c56",
   "metadata": {},
   "source": [
    "Convenient argument set-up"
   ]
  },
  {
   "cell_type": "code",
   "execution_count": null,
   "id": "4ae84ca0-70d4-402d-b0b1-37a93d18f2ef",
   "metadata": {},
   "outputs": [],
   "source": [
    "import_geometry.file_name = import_file_name"
   ]
  },
  {
   "cell_type": "markdown",
   "id": "de51ab64-8d7a-4b31-82b9-1fc72bdf12a0",
   "metadata": {},
   "source": [
    "Granular task object attribute queries"
   ]
  },
  {
   "cell_type": "code",
   "execution_count": null,
   "id": "d328e569-9de0-4f52-a146-ad40a36cd3c4",
   "metadata": {},
   "outputs": [],
   "source": [
    "import_geometry.cad_import_options.one_zone_per.allowed_values()"
   ]
  },
  {
   "cell_type": "markdown",
   "id": "27b73e1d-19d4-4d7c-b16e-69888801f425",
   "metadata": {},
   "source": [
    "Access to hierarchy information"
   ]
  },
  {
   "cell_type": "code",
   "execution_count": null,
   "id": "22223034-632a-4996-a6e2-08dc57ae9a8a",
   "metadata": {},
   "outputs": [],
   "source": [
    "import_geometry.ordered_children()"
   ]
  },
  {
   "cell_type": "markdown",
   "id": "e8cb4207-05a9-468f-80e9-1bd3eead549b",
   "metadata": {},
   "source": [
    "Task update is just a method call"
   ]
  },
  {
   "cell_type": "code",
   "execution_count": null,
   "id": "f35fd82e-41cd-4be3-89ef-858879677cdb",
   "metadata": {},
   "outputs": [],
   "source": [
    "import_geometry()"
   ]
  }
 ],
 "metadata": {
  "kernelspec": {
   "display_name": "Python 3 (ipykernel)",
   "language": "python",
   "name": "python3"
  },
  "language_info": {
   "codemirror_mode": {
    "name": "ipython",
    "version": 3
   },
   "file_extension": ".py",
   "mimetype": "text/x-python",
   "name": "python",
   "nbconvert_exporter": "python",
   "pygments_lexer": "ipython3",
   "version": "3.10.11"
  }
 },
 "nbformat": 4,
 "nbformat_minor": 5
}
