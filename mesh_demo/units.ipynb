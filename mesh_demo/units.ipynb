{
 "cells": [
  {
   "cell_type": "markdown",
   "id": "9e9a1dcd-a483-4f95-a0d2-d81f1ba4cbd7",
   "metadata": {},
   "source": [
    "Settings assignment via a `Quantity` object"
   ]
  },
  {
   "cell_type": "code",
   "execution_count": null,
   "id": "1780d324-9a37-47e2-b754-3639d4f54b18",
   "metadata": {},
   "outputs": [],
   "source": [
    "hydraulic_diameter.set_state(ansys.units.Quantity(1, \"in\"))"
   ]
  },
  {
   "cell_type": "markdown",
   "id": "ce96e800-d4b8-44af-b569-2b31ca9694cb",
   "metadata": {},
   "source": [
    "Get the state (automatically in SI)"
   ]
  },
  {
   "cell_type": "code",
   "execution_count": null,
   "id": "d5dd2004-a767-4416-a1e2-fd39c328e24c",
   "metadata": {},
   "outputs": [],
   "source": [
    "hydraulic_diameter.get_state()"
   ]
  },
  {
   "cell_type": "markdown",
   "id": "8f03d434-c0ff-4cb4-8397-ce403f7117f3",
   "metadata": {},
   "source": [
    "Get the state as a `Quantity` object"
   ]
  },
  {
   "cell_type": "code",
   "execution_count": null,
   "id": "e04b4aaa-6a07-40c9-9533-2a29f72546e8",
   "metadata": {},
   "outputs": [],
   "source": [
    "diam = hydraulic_diameter.as_quantity()"
   ]
  },
  {
   "cell_type": "markdown",
   "id": "cee743ac-3979-410a-84e0-e59a2efe20c3",
   "metadata": {},
   "source": [
    "Manipulate and convert the returned `Quantity` object"
   ]
  },
  {
   "cell_type": "code",
   "execution_count": null,
   "id": "bf179a78-b82f-48a3-94ef-ca5b4694e46a",
   "metadata": {},
   "outputs": [],
   "source": [
    "(diam ** 2).to(ur.ft **2)"
   ]
  },
  {
   "cell_type": "markdown",
   "id": "6c8c0491-adfa-4c5f-ae6c-af83c2b10f4e",
   "metadata": {},
   "source": [
    "Get state at any level with all values coupled with units: (\\<value\\>, \\<units\\>)"
   ]
  },
  {
   "cell_type": "code",
   "execution_count": null,
   "id": "38aefe07-24aa-41e2-a39c-5f802c0092cf",
   "metadata": {},
   "outputs": [],
   "source": [
    "turbulence.state_with_units()"
   ]
  }
 ],
 "metadata": {
  "kernelspec": {
   "display_name": "Python 3 (ipykernel)",
   "language": "python",
   "name": "python3"
  },
  "language_info": {
   "codemirror_mode": {
    "name": "ipython",
    "version": 3
   },
   "file_extension": ".py",
   "mimetype": "text/x-python",
   "name": "python",
   "nbconvert_exporter": "python",
   "pygments_lexer": "ipython3",
   "version": "3.10.11"
  }
 },
 "nbformat": 4,
 "nbformat_minor": 5
}
